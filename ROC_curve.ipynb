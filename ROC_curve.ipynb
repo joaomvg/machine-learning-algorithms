{
 "cells": [
  {
   "cell_type": "code",
   "execution_count": 2,
   "metadata": {},
   "outputs": [],
   "source": [
    "import pandas as pd\n",
    "import numpy as np\n",
    "\n",
    "import matplotlib.pyplot as plt\n",
    "import seaborn as sns"
   ]
  },
  {
   "cell_type": "code",
   "execution_count": 3,
   "metadata": {},
   "outputs": [],
   "source": [
    "from sklearn.datasets import load_breast_cancer\n",
    "from sklearn.model_selection import train_test_split\n",
    "from sklearn.ensemble import RandomForestClassifier\n",
    "from sklearn.linear_model import LogisticRegression"
   ]
  },
  {
   "cell_type": "code",
   "execution_count": 4,
   "metadata": {},
   "outputs": [],
   "source": [
    "data=load_breast_cancer()"
   ]
  },
  {
   "cell_type": "code",
   "execution_count": 5,
   "metadata": {},
   "outputs": [],
   "source": [
    "X=data['data']\n",
    "Y=data['target']"
   ]
  },
  {
   "cell_type": "code",
   "execution_count": 6,
   "metadata": {},
   "outputs": [],
   "source": [
    "xtrain,xtest,ytrain,ytest=train_test_split(X,Y,test_size=0.2)"
   ]
  },
  {
   "cell_type": "code",
   "execution_count": 7,
   "metadata": {},
   "outputs": [],
   "source": [
    "rf=RandomForestClassifier(n_estimators=2,max_depth=3)"
   ]
  },
  {
   "cell_type": "code",
   "execution_count": 8,
   "metadata": {},
   "outputs": [
    {
     "data": {
      "text/plain": [
       "RandomForestClassifier(max_depth=3, n_estimators=2)"
      ]
     },
     "execution_count": 8,
     "metadata": {},
     "output_type": "execute_result"
    }
   ],
   "source": [
    "rf.fit(xtrain,ytrain)"
   ]
  },
  {
   "cell_type": "code",
   "execution_count": 10,
   "metadata": {},
   "outputs": [
    {
     "data": {
      "text/plain": [
       "(0.9516483516483516, 0.9122807017543859)"
      ]
     },
     "execution_count": 10,
     "metadata": {},
     "output_type": "execute_result"
    }
   ],
   "source": [
    "rf.score(xtrain,ytrain),rf.score(xtest,ytest)"
   ]
  },
  {
   "cell_type": "code",
   "execution_count": 11,
   "metadata": {},
   "outputs": [],
   "source": [
    "p=rf.predict_proba(xtest)[:,1]"
   ]
  },
  {
   "cell_type": "code",
   "execution_count": 18,
   "metadata": {},
   "outputs": [],
   "source": [
    "class AUC:\n",
    "    def __init__(self,y_true,y_score):\n",
    "        ts=np.arange(0,1.02,0.01).reshape(1,-1)\n",
    "        idx_0=(y_true==0)\n",
    "        idx_1=(y_true==1)\n",
    "\n",
    "        y_pred=(y_score.reshape(-1,1)>=ts).astype('int')\n",
    "        self.fpr=y_pred[idx_0].mean(0)\n",
    "        self.tpr=y_pred[idx_1].mean(0)\n",
    "\n",
    "    def plot_roc(self):\n",
    "        \n",
    "        plt.plot(self.fpr,self.tpr)\n",
    "        plt.show()\n",
    "\n",
    "    def area(self):\n",
    "        idx=np.argsort(self.fpr)\n",
    "        x=self.fpr[idx]\n",
    "        y=self.tpr[idx]\n",
    "        A=0.5*(y[1:]+y[:-1])*(x[1:]-x[:-1])\n",
    "\n",
    "        return A.sum()"
   ]
  },
  {
   "cell_type": "code",
   "execution_count": 19,
   "metadata": {},
   "outputs": [],
   "source": [
    "auc=AUC(ytest,p)"
   ]
  },
  {
   "cell_type": "code",
   "execution_count": 20,
   "metadata": {},
   "outputs": [
    {
     "data": {
      "text/plain": [
       "0.9616747181964573"
      ]
     },
     "execution_count": 20,
     "metadata": {},
     "output_type": "execute_result"
    }
   ],
   "source": [
    "auc.area()"
   ]
  },
  {
   "cell_type": "code",
   "execution_count": 21,
   "metadata": {},
   "outputs": [
    {
     "data": {
      "image/png": "[encoded data removed]",
      "text/plain": [
       "<Figure size 432x288 with 1 Axes>"
      ]
     },
     "metadata": {
      "needs_background": "light"
     },
     "output_type": "display_data"
    }
   ],
   "source": [
    "auc.plot_roc()"
   ]
  },
  {
   "cell_type": "code",
   "execution_count": 158,
   "metadata": {},
   "outputs": [
    {
     "data": {
      "text/plain": [
       "[<matplotlib.lines.Line2D at 0x7fe8dd509730>]"
      ]
     },
     "execution_count": 158,
     "metadata": {},
     "output_type": "execute_result"
    },
    {
     "data": {
      "image/png": "[encoded data removed]",
      "text/plain": [
       "<Figure size 432x288 with 1 Axes>"
      ]
     },
     "metadata": {
      "needs_background": "light"
     },
     "output_type": "display_data"
    }
   ],
   "source": [
    "plt.plot(a,b)"
   ]
  },
  {
   "cell_type": "markdown",
   "metadata": {},
   "source": [
    "# ROC curve"
   ]
  },
  {
   "cell_type": "code",
   "execution_count": null,
   "metadata": {},
   "outputs": [],
   "source": [
    "x1=np.random.normal(0.35,0.15,1000)\n",
    "#x1=x1/x1.max()\n",
    "x2=np.random.normal(0.7,0.1,1000)\n",
    "#x2=x2/x2.max()\n",
    "sns.set(font_scale=2)\n",
    "sns.set_style(\"white\")\n",
    "fig,axs=plt.subplots(3,figsize=(18,30))\n",
    "\n",
    "ax_1=sns.distplot(x1,bins=20,ax=axs[0])\n",
    "ax_2=sns.distplot(x2,bins=20,ax=axs[0],color='orange')\n",
    "x_1=ax_1.lines[0].get_xydata()[:,0]\n",
    "y_1=ax_1.lines[0].get_xydata()[:,1]\n",
    "x_2=ax_2.lines[1].get_xydata()[:,0]\n",
    "y_2=ax_2.lines[1].get_xydata()[:,1]\n",
    "\n",
    "t=0.6\n",
    "axs[0].plot([t,t],[0,2.4],linewidth=3,color='r',linestyle='--')\n",
    "axs[0].set_xlabel('p(x)')\n",
    "axs[0].legend(['y=0','y=1',f't={t}'])\n",
    "\n",
    "sns.distplot(x1, bins=20,ax=axs[1])\n",
    "t=0.6\n",
    "idx=x_1>=t\n",
    "axs[1].plot(x_2,y_2)\n",
    "axs[1].fill_between(x_1[idx],y_1[idx],color='blue')\n",
    "axs[1].fill_between(x_1[~idx],y_1[~idx],color='yellow')\n",
    "axs[1].plot([t,t],[0,0.7],linewidth=3,color='r',linestyle='--')\n",
    "axs[1].set_xlabel('p(x)')\n",
    "axs[1].legend(['y=0',f't={t}'])\n",
    "axs[1].text(0.3,1.5,r'TNR',fontsize=30)\n",
    "axs[1].text(0.65,0.5,r'FPR',fontsize=30)\n",
    "\n",
    "sns.distplot(x2,bins=20,ax=axs[2],color='orange')\n",
    "t=0.6\n",
    "idx=x_2>=t\n",
    "axs[2].plot(x_1,y_1)\n",
    "axs[2].fill_between(x_2[idx],y_2[idx],color='red')\n",
    "axs[2].fill_between(x_2[~idx],y_2[~idx],color='green')\n",
    "axs[2].plot([t,t],[0,2.4],linewidth=3,color='r',linestyle='--')\n",
    "axs[2].set_xlabel('p(x)')\n",
    "axs[2].legend(['y=1',f't={t}'])\n",
    "axs[2].text(0.7,2,r'TPR',fontsize=30)\n",
    "axs[2].text(0.53,0.5,r'FNR',fontsize=30)\n",
    "plt.show()"
   ]
  },
  {
   "cell_type": "code",
   "execution_count": null,
   "metadata": {},
   "outputs": [],
   "source": [
    "fprs=[]\n",
    "tprs=[]\n",
    "for t in np.arange(0,1,0.01):\n",
    "    tpr=(x2>t).mean()\n",
    "    fpr=(x1>=t).mean()\n",
    "    fprs.append(fpr)\n",
    "    tprs.append(tpr)\n",
    "\n",
    "a=np.array(fprs)\n",
    "b=np.array(tprs)\n",
    "s=a**2+(1-b)*(1-b)\n",
    "s.argmin()\n",
    "\n",
    "plt.figure(figsize=(10,8))\n",
    "ax=sns.lineplot(fprs,tprs,linewidth=2)\n",
    "plt.xlabel('FPR')\n",
    "plt.ylabel('TPR')\n",
    "plt.plot(a[56],b[56],marker='o',color='r',markersize=14,markerfacecolor='none')\n",
    "plt.plot([0,1],[0,1],linestyle='--')\n",
    "plt.legend(['ROC curve','optimal','random'])"
   ]
  }
 ],
 "metadata": {
  "interpreter": {
   "hash": "f867c1da995947098dea1a39f903899f4ebf9970b3ec23fc161ccb1d8cbf1c2e"
  },
  "kernelspec": {
   "display_name": "Python 3.9.5 64-bit ('base': conda)",
   "language": "python",
   "name": "python3"
  },
  "language_info": {
   "codemirror_mode": {
    "name": "ipython",
    "version": 3
   },
   "file_extension": ".py",
   "mimetype": "text/x-python",
   "name": "python",
   "nbconvert_exporter": "python",
   "pygments_lexer": "ipython3",
   "version": "3.9.5"
  },
  "orig_nbformat": 4
 },
 "nbformat": 4,
 "nbformat_minor": 2
}
