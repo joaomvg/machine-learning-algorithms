{
 "cells": [
  {
   "cell_type": "code",
   "execution_count": 1,
   "source": [
    "import pandas as pd\n",
    "import numpy as np\n",
    "import bnlearn as bn"
   ],
   "outputs": [],
   "metadata": {}
  },
  {
   "cell_type": "code",
   "execution_count": 11,
   "source": [
    "class ModelBN:\n",
    "    def __init__(self,pa,pb,p111,p110,p101,p100):\n",
    "        self.pa=pa\n",
    "        self.pb=pb \n",
    "        self.p111=p111 \n",
    "        self.p110=p110 \n",
    "        self.p101=p101 \n",
    "        self.p100=p100\n",
    "        \n",
    "    def jointprob(self,a,b,c):\n",
    "        p=self.p111*self.pa*self.pb*a*b\\\n",
    "            + self.p110*self.pa*(1-self.pb)*a*(1-b)\\\n",
    "            +self.p101*(1-self.pa)*self.pb*(1-a)*b\\\n",
    "                +self.p100*(1-self.pa)*(1-self.pb)*(1-a)*(1-b)\n",
    "            \n",
    "        return p*c+(1-p)*(1-c)\n",
    "    \n",
    "    def pc_ab(self,a,b):\n",
    "        p=self.p111*a*b+self.p110*a*(1-b)+self.p101*(1-a)*b+self.p100*(1-a)*(1-b)\n",
    "        return p\n",
    "    \n",
    "    def generate(self,N):\n",
    "        prob=np.random.uniform(0,1,(N,3))\n",
    "        pab=np.array([self.pa,self.pb])\n",
    "        events=[]\n",
    "        for p in prob:\n",
    "            idx=p[:2]<=pab\n",
    "            idx=idx.astype('int')\n",
    "            pc=self.pc_ab(idx[0],idx[1])\n",
    "            k=int(p[2]<=pc)\n",
    "            events.append([idx[0],idx[1],k])\n",
    "        \n",
    "        return events"
   ],
   "outputs": [],
   "metadata": {}
  },
  {
   "cell_type": "code",
   "execution_count": 12,
   "source": [
    "model=ModelBN(0.2,0.5,0.7,0.8,0.4,0.6)"
   ],
   "outputs": [],
   "metadata": {}
  },
  {
   "cell_type": "code",
   "execution_count": 42,
   "source": [
    "data=model.generate(100000)"
   ],
   "outputs": [],
   "metadata": {}
  },
  {
   "cell_type": "code",
   "execution_count": 43,
   "source": [
    "data=pd.DataFrame(data,columns=['a','b','c'])\n",
    "data"
   ],
   "outputs": [
    {
     "output_type": "execute_result",
     "data": {
      "text/plain": [
       "       a  b  c\n",
       "0      0  1  1\n",
       "1      0  0  1\n",
       "2      1  1  1\n",
       "3      0  1  0\n",
       "4      0  0  1\n",
       "...   .. .. ..\n",
       "99995  0  1  1\n",
       "99996  0  0  0\n",
       "99997  1  0  1\n",
       "99998  0  1  0\n",
       "99999  0  0  1\n",
       "\n",
       "[100000 rows x 3 columns]"
      ],
      "text/html": [
       "<div>\n",
       "<style scoped>\n",
       "    .dataframe tbody tr th:only-of-type {\n",
       "        vertical-align: middle;\n",
       "    }\n",
       "\n",
       "    .dataframe tbody tr th {\n",
       "        vertical-align: top;\n",
       "    }\n",
       "\n",
       "    .dataframe thead th {\n",
       "        text-align: right;\n",
       "    }\n",
       "</style>\n",
       "<table border=\"1\" class=\"dataframe\">\n",
       "  <thead>\n",
       "    <tr style=\"text-align: right;\">\n",
       "      <th></th>\n",
       "      <th>a</th>\n",
       "      <th>b</th>\n",
       "      <th>c</th>\n",
       "    </tr>\n",
       "  </thead>\n",
       "  <tbody>\n",
       "    <tr>\n",
       "      <th>0</th>\n",
       "      <td>0</td>\n",
       "      <td>1</td>\n",
       "      <td>1</td>\n",
       "    </tr>\n",
       "    <tr>\n",
       "      <th>1</th>\n",
       "      <td>0</td>\n",
       "      <td>0</td>\n",
       "      <td>1</td>\n",
       "    </tr>\n",
       "    <tr>\n",
       "      <th>2</th>\n",
       "      <td>1</td>\n",
       "      <td>1</td>\n",
       "      <td>1</td>\n",
       "    </tr>\n",
       "    <tr>\n",
       "      <th>3</th>\n",
       "      <td>0</td>\n",
       "      <td>1</td>\n",
       "      <td>0</td>\n",
       "    </tr>\n",
       "    <tr>\n",
       "      <th>4</th>\n",
       "      <td>0</td>\n",
       "      <td>0</td>\n",
       "      <td>1</td>\n",
       "    </tr>\n",
       "    <tr>\n",
       "      <th>...</th>\n",
       "      <td>...</td>\n",
       "      <td>...</td>\n",
       "      <td>...</td>\n",
       "    </tr>\n",
       "    <tr>\n",
       "      <th>99995</th>\n",
       "      <td>0</td>\n",
       "      <td>1</td>\n",
       "      <td>1</td>\n",
       "    </tr>\n",
       "    <tr>\n",
       "      <th>99996</th>\n",
       "      <td>0</td>\n",
       "      <td>0</td>\n",
       "      <td>0</td>\n",
       "    </tr>\n",
       "    <tr>\n",
       "      <th>99997</th>\n",
       "      <td>1</td>\n",
       "      <td>0</td>\n",
       "      <td>1</td>\n",
       "    </tr>\n",
       "    <tr>\n",
       "      <th>99998</th>\n",
       "      <td>0</td>\n",
       "      <td>1</td>\n",
       "      <td>0</td>\n",
       "    </tr>\n",
       "    <tr>\n",
       "      <th>99999</th>\n",
       "      <td>0</td>\n",
       "      <td>0</td>\n",
       "      <td>1</td>\n",
       "    </tr>\n",
       "  </tbody>\n",
       "</table>\n",
       "<p>100000 rows × 3 columns</p>\n",
       "</div>"
      ]
     },
     "metadata": {},
     "execution_count": 43
    }
   ],
   "metadata": {}
  },
  {
   "cell_type": "code",
   "execution_count": 44,
   "source": [
    "pa=(data['a']==1).sum()\n",
    "pa=pa/data.shape[0]\n",
    "\n",
    "pb=(data['b']==1).sum()\n",
    "pb=pb/data.shape[0]\n",
    "\n",
    "print(pa)\n",
    "print(pb)"
   ],
   "outputs": [
    {
     "output_type": "stream",
     "name": "stdout",
     "text": [
      "0.19798\n",
      "0.4984\n"
     ]
    }
   ],
   "metadata": {}
  },
  {
   "cell_type": "code",
   "execution_count": 45,
   "source": [
    "L1=0\n",
    "N=data.shape[0]\n",
    "Na=(data['a']==1).sum()\n",
    "Nb=(data['b']==1).sum()\n",
    "pa=Na/N\n",
    "pb=Nb/N\n",
    "\n",
    "L1+=Na*np.log(pa)+(N-Na)*np.log(1-pa)\n",
    "L1+=Nb*np.log(pa)+(N-Nb)*np.log(1-pb)\n",
    "\n",
    "pc={}\n",
    "for i in range(2):\n",
    "    for j in range(2):\n",
    "        Nc=((data['a']==i) & (data['b']==j) & (data['c']==1)).sum()\n",
    "        Nij=((data['a']==i) & (data['b']==j)).sum()\n",
    "        p=Nc/Nij\n",
    "        pc[(i,j)]=p\n",
    "        L1+=Nc*np.log(p)+(Nij-Nc)*np.log(1-p)\n",
    "L1=-L1/N\n",
    "S1=L1*N+np.log(N)/2*(1+1+4)\n",
    "\n",
    "print(L1)\n",
    "print(S1)"
   ],
   "outputs": [
    {
     "output_type": "stream",
     "name": "stdout",
     "text": [
      "2.3007486068108243\n",
      "230109.39945747732\n"
     ]
    }
   ],
   "metadata": {}
  },
  {
   "cell_type": "code",
   "execution_count": 46,
   "source": [
    "L2=0\n",
    "N=data.shape[0]\n",
    "Na=(data['a']==1).sum()\n",
    "Nb=(data['b']==1).sum()\n",
    "Nc=(data['c']==1).sum()\n",
    "pa=Na/N\n",
    "pb=Nb/N\n",
    "pc=Nc/N\n",
    "\n",
    "L2+=Na*np.log(pa)+(N-Na)*np.log(1-pa)\n",
    "L2+=Nb*np.log(pa)+(N-Nb)*np.log(1-pb)\n",
    "L2+=Nc*np.log(pc)+(N-Nc)*np.log(1-pc)\n",
    "\n",
    "L2=-L2/N\n",
    "S2=L2*N+np.log(N)/2*(1+1+1)\n",
    "\n",
    "print(L2)\n",
    "print(S2)"
   ],
   "outputs": [
    {
     "output_type": "stream",
     "name": "stdout",
     "text": [
      "2.338906601374411\n",
      "233907.92952563855\n"
     ]
    }
   ],
   "metadata": {}
  },
  {
   "cell_type": "code",
   "execution_count": 47,
   "source": [
    "L3=0\n",
    "N=data.shape[0]\n",
    "Na=(data['a']==1).sum()\n",
    "Nb=(data['b']==1).sum()\n",
    "pa=Na/N\n",
    "pb=Nb/N\n",
    "\n",
    "L3+=Na*np.log(pa)+(N-Na)*np.log(1-pa)\n",
    "L3+=Nb*np.log(pa)+(N-Nb)*np.log(1-pb)\n",
    "\n",
    "pc={}\n",
    "for i in range(2):\n",
    "        Nc=((data['b']==i) & (data['c']==1)).sum()\n",
    "        Ni=(data['b']==i).sum()\n",
    "        p=Nc/Ni\n",
    "        pc[i]=p\n",
    "        L3+=Nc*np.log(p)+(Ni-Nc)*np.log(1-p)\n",
    "L3=-L3/N\n",
    "S3=L3*N+np.log(N)/2*(1+1+2)\n",
    "\n",
    "print(L3)\n",
    "print(S3)"
   ],
   "outputs": [
    {
     "output_type": "stream",
     "name": "stdout",
     "text": [
      "2.322365927044119\n",
      "232259.61855534182\n"
     ]
    }
   ],
   "metadata": {}
  },
  {
   "cell_type": "code",
   "execution_count": 49,
   "source": [
    "L4=0\n",
    "N=data.shape[0]\n",
    "Na=(data['a']==1).sum()\n",
    "pa=Na/N\n",
    "\n",
    "L4+=Na*np.log(pa)+(N-Na)*np.log(1-pa)\n",
    "\n",
    "pc={}\n",
    "pb={}\n",
    "for i in range(2):\n",
    "    Nb=((data['a']==i) & (data['b']==1)).sum()\n",
    "    Ni=(data['a']==i).sum()\n",
    "    p=Nb/Ni\n",
    "    pb[i]=p\n",
    "    L4+=Nb*np.log(p)+(Ni-Nb)*np.log(1-p)\n",
    "\n",
    "    for j in range(2):\n",
    "        Nc=((data['a']==i) & (data['b']==j) & (data['c']==1)).sum()\n",
    "        Nij=((data['a']==i) & (data['b']==j)).sum()\n",
    "        p=Nc/Nij\n",
    "        pc[(i,j)]=p\n",
    "        L4+=Nc*np.log(p)+(Nij-Nc)*np.log(1-p)\n",
    "L4=-L4/N\n",
    "S4=L4*N+np.log(N)/2*(1+2+4)\n",
    "\n",
    "print(L4)\n",
    "print(S4)"
   ],
   "outputs": [
    {
     "output_type": "stream",
     "name": "stdout",
     "text": [
      "1.8406062741149034\n",
      "184100.92265061772\n"
     ]
    }
   ],
   "metadata": {}
  },
  {
   "cell_type": "code",
   "execution_count": 51,
   "source": [
    "pb"
   ],
   "outputs": [
    {
     "output_type": "execute_result",
     "data": {
      "text/plain": [
       "{0: 0.49804244283184956, 1: 0.499848469542378}"
      ]
     },
     "metadata": {},
     "execution_count": 51
    }
   ],
   "metadata": {}
  },
  {
   "cell_type": "code",
   "execution_count": 62,
   "source": [
    "Na0=(data['a']==0).sum()\n",
    "Na1=(data['a']==1).sum()\n",
    "N=data.shape[0]"
   ],
   "outputs": [],
   "metadata": {}
  },
  {
   "cell_type": "code",
   "execution_count": 64,
   "source": [
    "samples=[]\n",
    "for i in range(1000):\n",
    "    s=data['b'].sample(N,replace=False)\n",
    "    m1=s[:Na0].mean()\n",
    "    m2=s[Na0:].mean()\n",
    "    samples.append(m1-m2)\n",
    "samples=np.array(samples)"
   ],
   "outputs": [],
   "metadata": {}
  },
  {
   "cell_type": "code",
   "execution_count": 66,
   "source": [
    "q975=np.quantile(samples,0.975)\n",
    "q25=np.quantile(samples,0.025)"
   ],
   "outputs": [],
   "metadata": {}
  },
  {
   "cell_type": "code",
   "execution_count": 68,
   "source": [
    "pb[1]-pb[0]"
   ],
   "outputs": [
    {
     "output_type": "execute_result",
     "data": {
      "text/plain": [
       "0.00180602671052843"
      ]
     },
     "metadata": {},
     "execution_count": 68
    }
   ],
   "metadata": {}
  },
  {
   "cell_type": "code",
   "execution_count": 71,
   "source": [
    "q25"
   ],
   "outputs": [
    {
     "output_type": "execute_result",
     "data": {
      "text/plain": [
       "-0.007729170580318595"
      ]
     },
     "metadata": {},
     "execution_count": 71
    }
   ],
   "metadata": {}
  },
  {
   "cell_type": "code",
   "execution_count": 72,
   "source": [
    "model = bn.structure_learning.fit(data)"
   ],
   "outputs": [
    {
     "output_type": "stream",
     "name": "stdout",
     "text": [
      "[bnlearn] >Computing best DAG using [hc]\n",
      "[bnlearn] >Set scoring type at [bic]\n"
     ]
    }
   ],
   "metadata": {}
  },
  {
   "cell_type": "code",
   "execution_count": 73,
   "source": [
    "G = bn.plot(model)"
   ],
   "outputs": [
    {
     "output_type": "stream",
     "name": "stdout",
     "text": [
      "[bnlearn] >Plot based on BayesianModel\n"
     ]
    },
    {
     "output_type": "display_data",
     "data": {
      "text/plain": [
       "<Figure size 1080x576 with 1 Axes>"
      ],
      "image/png": "[encoded data removed]"
     },
     "metadata": {}
    }
   ],
   "metadata": {}
  }
 ],
 "metadata": {
  "kernelspec": {
   "name": "python3",
   "display_name": "Python 3.8.8 64-bit ('causalml-py38': conda)"
  },
  "language_info": {
   "codemirror_mode": {
    "name": "ipython",
    "version": 3
   },
   "file_extension": ".py",
   "mimetype": "text/x-python",
   "name": "python",
   "nbconvert_exporter": "python",
   "pygments_lexer": "ipython3",
   "version": "3.8.8"
  },
  "interpreter": {
   "hash": "f16716d8862da259829780c63ea68614b51707698bf8e5cef20d8edc3ddac308"
  }
 },
 "nbformat": 4,
 "nbformat_minor": 5
}