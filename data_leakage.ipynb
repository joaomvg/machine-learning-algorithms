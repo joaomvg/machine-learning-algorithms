{
 "cells": [
  {
   "cell_type": "code",
   "execution_count": 84,
   "metadata": {},
   "outputs": [],
   "source": [
    "import pandas as pd\n",
    "import numpy as np\n",
    "import matplotlib.pyplot as plt\n",
    "from sklearn.datasets import make_classification"
   ]
  },
  {
   "cell_type": "code",
   "execution_count": 5,
   "metadata": {},
   "outputs": [],
   "source": [
    "from sklearn.cluster import KMeans\n",
    "from sklearn.model_selection  import train_test_split,GridSearchCV,StratifiedKFold,KFold\n",
    "from sklearn.ensemble import RandomForestClassifier,GradientBoostingClassifier"
   ]
  },
  {
   "cell_type": "code",
   "execution_count": 2,
   "metadata": {},
   "outputs": [],
   "source": [
    "n=50\n",
    "n_important=10\n",
    "X,y=make_classification(n_samples=10000, n_features=n, n_informative=n_important, n_redundant=n-n_important, n_classes=2, random_state=0)\n",
    "df=pd.DataFrame(X)\n",
    "rename_cols={col:'col_'+str(col) for col in df.columns}\n",
    "df.rename(columns=rename_cols,inplace=True)\n",
    "df['y']=y"
   ]
  },
  {
   "cell_type": "code",
   "execution_count": 68,
   "metadata": {},
   "outputs": [
    {
     "data": {
      "text/plain": [
       "(10000, 55)"
      ]
     },
     "execution_count": 68,
     "metadata": {},
     "output_type": "execute_result"
    }
   ],
   "source": [
    "df.shape"
   ]
  },
  {
   "cell_type": "markdown",
   "metadata": {},
   "source": [
    "### Test Leave-One-Out"
   ]
  },
  {
   "cell_type": "code",
   "execution_count": 71,
   "metadata": {},
   "outputs": [],
   "source": [
    "# create random categories\n",
    "\n",
    "l = df.shape[0]\n",
    "nc = 20\n",
    "nf = l // nc\n",
    "for i in range(nf):\n",
    "    df.loc[i*nf:(i+1)*nf,'cluster']=i"
   ]
  },
  {
   "cell_type": "code",
   "execution_count": 72,
   "metadata": {},
   "outputs": [
    {
     "data": {
      "text/plain": [
       "0"
      ]
     },
     "execution_count": 72,
     "metadata": {},
     "output_type": "execute_result"
    }
   ],
   "source": [
    "df.cluster.isna().sum()"
   ]
  },
  {
   "cell_type": "code",
   "execution_count": 73,
   "metadata": {},
   "outputs": [
    {
     "data": {
      "text/html": [
       "<div>\n",
       "<style scoped>\n",
       "    .dataframe tbody tr th:only-of-type {\n",
       "        vertical-align: middle;\n",
       "    }\n",
       "\n",
       "    .dataframe tbody tr th {\n",
       "        vertical-align: top;\n",
       "    }\n",
       "\n",
       "    .dataframe thead th {\n",
       "        text-align: right;\n",
       "    }\n",
       "</style>\n",
       "<table border=\"1\" class=\"dataframe\">\n",
       "  <thead>\n",
       "    <tr style=\"text-align: right;\">\n",
       "      <th></th>\n",
       "      <th>mean</th>\n",
       "      <th>sum</th>\n",
       "      <th>count</th>\n",
       "    </tr>\n",
       "    <tr>\n",
       "      <th>cluster</th>\n",
       "      <th></th>\n",
       "      <th></th>\n",
       "      <th></th>\n",
       "    </tr>\n",
       "  </thead>\n",
       "  <tbody>\n",
       "    <tr>\n",
       "      <th>0.0</th>\n",
       "      <td>0.516</td>\n",
       "      <td>258</td>\n",
       "      <td>500</td>\n",
       "    </tr>\n",
       "    <tr>\n",
       "      <th>1.0</th>\n",
       "      <td>0.504</td>\n",
       "      <td>252</td>\n",
       "      <td>500</td>\n",
       "    </tr>\n",
       "    <tr>\n",
       "      <th>2.0</th>\n",
       "      <td>0.494</td>\n",
       "      <td>247</td>\n",
       "      <td>500</td>\n",
       "    </tr>\n",
       "    <tr>\n",
       "      <th>3.0</th>\n",
       "      <td>0.488</td>\n",
       "      <td>244</td>\n",
       "      <td>500</td>\n",
       "    </tr>\n",
       "    <tr>\n",
       "      <th>4.0</th>\n",
       "      <td>0.490</td>\n",
       "      <td>245</td>\n",
       "      <td>500</td>\n",
       "    </tr>\n",
       "    <tr>\n",
       "      <th>5.0</th>\n",
       "      <td>0.514</td>\n",
       "      <td>257</td>\n",
       "      <td>500</td>\n",
       "    </tr>\n",
       "    <tr>\n",
       "      <th>6.0</th>\n",
       "      <td>0.504</td>\n",
       "      <td>252</td>\n",
       "      <td>500</td>\n",
       "    </tr>\n",
       "    <tr>\n",
       "      <th>7.0</th>\n",
       "      <td>0.448</td>\n",
       "      <td>224</td>\n",
       "      <td>500</td>\n",
       "    </tr>\n",
       "    <tr>\n",
       "      <th>8.0</th>\n",
       "      <td>0.534</td>\n",
       "      <td>267</td>\n",
       "      <td>500</td>\n",
       "    </tr>\n",
       "    <tr>\n",
       "      <th>9.0</th>\n",
       "      <td>0.494</td>\n",
       "      <td>247</td>\n",
       "      <td>500</td>\n",
       "    </tr>\n",
       "    <tr>\n",
       "      <th>10.0</th>\n",
       "      <td>0.524</td>\n",
       "      <td>262</td>\n",
       "      <td>500</td>\n",
       "    </tr>\n",
       "    <tr>\n",
       "      <th>11.0</th>\n",
       "      <td>0.526</td>\n",
       "      <td>263</td>\n",
       "      <td>500</td>\n",
       "    </tr>\n",
       "    <tr>\n",
       "      <th>12.0</th>\n",
       "      <td>0.490</td>\n",
       "      <td>245</td>\n",
       "      <td>500</td>\n",
       "    </tr>\n",
       "    <tr>\n",
       "      <th>13.0</th>\n",
       "      <td>0.516</td>\n",
       "      <td>258</td>\n",
       "      <td>500</td>\n",
       "    </tr>\n",
       "    <tr>\n",
       "      <th>14.0</th>\n",
       "      <td>0.494</td>\n",
       "      <td>247</td>\n",
       "      <td>500</td>\n",
       "    </tr>\n",
       "    <tr>\n",
       "      <th>15.0</th>\n",
       "      <td>0.512</td>\n",
       "      <td>256</td>\n",
       "      <td>500</td>\n",
       "    </tr>\n",
       "    <tr>\n",
       "      <th>16.0</th>\n",
       "      <td>0.488</td>\n",
       "      <td>244</td>\n",
       "      <td>500</td>\n",
       "    </tr>\n",
       "    <tr>\n",
       "      <th>17.0</th>\n",
       "      <td>0.472</td>\n",
       "      <td>236</td>\n",
       "      <td>500</td>\n",
       "    </tr>\n",
       "    <tr>\n",
       "      <th>18.0</th>\n",
       "      <td>0.500</td>\n",
       "      <td>250</td>\n",
       "      <td>500</td>\n",
       "    </tr>\n",
       "    <tr>\n",
       "      <th>19.0</th>\n",
       "      <td>0.490</td>\n",
       "      <td>245</td>\n",
       "      <td>500</td>\n",
       "    </tr>\n",
       "  </tbody>\n",
       "</table>\n",
       "</div>"
      ],
      "text/plain": [
       "          mean  sum  count\n",
       "cluster                   \n",
       "0.0      0.516  258    500\n",
       "1.0      0.504  252    500\n",
       "2.0      0.494  247    500\n",
       "3.0      0.488  244    500\n",
       "4.0      0.490  245    500\n",
       "5.0      0.514  257    500\n",
       "6.0      0.504  252    500\n",
       "7.0      0.448  224    500\n",
       "8.0      0.534  267    500\n",
       "9.0      0.494  247    500\n",
       "10.0     0.524  262    500\n",
       "11.0     0.526  263    500\n",
       "12.0     0.490  245    500\n",
       "13.0     0.516  258    500\n",
       "14.0     0.494  247    500\n",
       "15.0     0.512  256    500\n",
       "16.0     0.488  244    500\n",
       "17.0     0.472  236    500\n",
       "18.0     0.500  250    500\n",
       "19.0     0.490  245    500"
      ]
     },
     "execution_count": 73,
     "metadata": {},
     "output_type": "execute_result"
    }
   ],
   "source": [
    "df.groupby('cluster')['y'].agg(['mean','sum','count'])"
   ]
  },
  {
   "cell_type": "code",
   "execution_count": 74,
   "metadata": {},
   "outputs": [],
   "source": [
    "df['s'] = df.groupby('cluster')['y'].transform('sum')\n",
    "df['c'] = df.groupby('cluster')['y'].transform('count')\n",
    "df['yt'] = (df['s']-df['y'])/(df['c']-1)"
   ]
  },
  {
   "cell_type": "code",
   "execution_count": 75,
   "metadata": {},
   "outputs": [
    {
     "data": {
      "text/plain": [
       "Index(['col_0', 'col_1', 'col_2', 'col_3', 'col_4', 'col_5', 'col_6', 'col_7',\n",
       "       'col_8', 'col_9', 'col_10', 'col_11', 'col_12', 'col_13', 'col_14',\n",
       "       'col_15', 'col_16', 'col_17', 'col_18', 'col_19', 'col_20', 'col_21',\n",
       "       'col_22', 'col_23', 'col_24', 'col_25', 'col_26', 'col_27', 'col_28',\n",
       "       'col_29', 'col_30', 'col_31', 'col_32', 'col_33', 'col_34', 'col_35',\n",
       "       'col_36', 'col_37', 'col_38', 'col_39', 'col_40', 'col_41', 'col_42',\n",
       "       'col_43', 'col_44', 'col_45', 'col_46', 'col_47', 'col_48', 'col_49',\n",
       "       'y', 's', 'c', 'yt', 'cluster'],\n",
       "      dtype='object')"
      ]
     },
     "execution_count": 75,
     "metadata": {},
     "output_type": "execute_result"
    }
   ],
   "source": [
    "df.columns"
   ]
  },
  {
   "cell_type": "code",
   "execution_count": 76,
   "metadata": {},
   "outputs": [],
   "source": [
    "X = df.drop(['y','s','c','cluster'],axis=1)\n",
    "y= df['y'].copy()"
   ]
  },
  {
   "cell_type": "code",
   "execution_count": 89,
   "metadata": {},
   "outputs": [
    {
     "data": {
      "text/plain": [
       "0.9536"
      ]
     },
     "execution_count": 89,
     "metadata": {},
     "output_type": "execute_result"
    }
   ],
   "source": [
    "rf=RandomForestClassifier(n_estimators=10,max_depth=15,random_state=70,n_jobs=-1,min_samples_leaf=10)\n",
    "kf=KFold(n_splits=5,random_state=0,shuffle=True)\n",
    "\n",
    "scores=[]\n",
    "for train_id,val_id in kf.split(X):\n",
    "    x_train,xval=X.iloc[train_id],X.iloc[val_id]\n",
    "    y_train,yval=y.iloc[train_id],y.iloc[val_id]\n",
    "\n",
    "    rf.fit(x_train,y_train)\n",
    "    scores.append(rf.score(xval,yval))\n",
    "scores=np.array(scores)\n",
    "scores.mean()"
   ]
  },
  {
   "cell_type": "code",
   "execution_count": 78,
   "metadata": {},
   "outputs": [
    {
     "data": {
      "text/plain": [
       "array([0.9575, 0.9565, 0.9575, 0.961 , 0.944 ])"
      ]
     },
     "execution_count": 78,
     "metadata": {},
     "output_type": "execute_result"
    }
   ],
   "source": [
    "scores"
   ]
  },
  {
   "cell_type": "code",
   "execution_count": 88,
   "metadata": {},
   "outputs": [
    {
     "data": {
      "image/png": "[encoded data removed]",
      "text/plain": [
       "<Figure size 720x648 with 1 Axes>"
      ]
     },
     "metadata": {
      "needs_background": "light"
     },
     "output_type": "display_data"
    }
   ],
   "source": [
    "plt.figure(figsize=(10,9))\n",
    "plt.bar(X.columns, rf.feature_importances_)\n",
    "plt.xticks(rotation=45)\n",
    "plt.show()"
   ]
  },
  {
   "cell_type": "markdown",
   "metadata": {},
   "source": [
    "### The wrong way: target encode before spliting"
   ]
  },
  {
   "cell_type": "code",
   "execution_count": 7,
   "metadata": {},
   "outputs": [
    {
     "name": "stderr",
     "output_type": "stream",
     "text": [
      "/Users/JoaoGomes/miniconda3/lib/python3.9/site-packages/pandas/core/indexing.py:1773: SettingWithCopyWarning: \n",
      "A value is trying to be set on a copy of a slice from a DataFrame.\n",
      "Try using .loc[row_indexer,col_indexer] = value instead\n",
      "\n",
      "See the caveats in the documentation: https://pandas.pydata.org/pandas-docs/stable/user_guide/indexing.html#returning-a-view-versus-a-copy\n",
      "  self._setitem_single_column(ilocs[0], value, pi)\n"
     ]
    }
   ],
   "source": [
    "df_train,df_test=train_test_split(df,test_size=0.2,random_state=20)\n",
    "map_col=df_train.groupby('cluster')['y'].mean().to_dict()\n",
    "df_train.loc[:,'cluster']=df_train['cluster'].map(map_col)"
   ]
  },
  {
   "cell_type": "code",
   "execution_count": 9,
   "metadata": {},
   "outputs": [],
   "source": [
    "X=df_train.drop('y',axis=1)\n",
    "y=df_train['y']"
   ]
  },
  {
   "cell_type": "code",
   "execution_count": 10,
   "metadata": {},
   "outputs": [
    {
     "data": {
      "text/plain": [
       "0.9291666666666668"
      ]
     },
     "execution_count": 10,
     "metadata": {},
     "output_type": "execute_result"
    }
   ],
   "source": [
    "rf=RandomForestClassifier(n_estimators=150,max_depth=20,random_state=70,n_jobs=-1,min_samples_leaf=10)\n",
    "kf=KFold(n_splits=5,random_state=0,shuffle=True)\n",
    "\n",
    "scores=[]\n",
    "for train_id,val_id in kf.split(X):\n",
    "    x_train,xval=X.iloc[train_id],X.iloc[val_id]\n",
    "    y_train,yval=y.iloc[train_id],y.iloc[val_id]\n",
    "\n",
    "    rf.fit(x_train,y_train)\n",
    "    scores.append(rf.score(xval,yval))\n",
    "scores=np.array(scores)\n",
    "scores.mean()"
   ]
  },
  {
   "cell_type": "code",
   "execution_count": 11,
   "metadata": {},
   "outputs": [
    {
     "data": {
      "text/plain": [
       "array([0.95833333, 0.9375    , 0.94791667, 0.86458333, 0.9375    ])"
      ]
     },
     "execution_count": 11,
     "metadata": {},
     "output_type": "execute_result"
    }
   ],
   "source": [
    "scores"
   ]
  },
  {
   "cell_type": "code",
   "execution_count": 12,
   "metadata": {},
   "outputs": [
    {
     "name": "stderr",
     "output_type": "stream",
     "text": [
      "/var/folders/hc/ksky2t095_v6h164b5fdb3sc0000gn/T/ipykernel_28023/3231120719.py:1: SettingWithCopyWarning: \n",
      "A value is trying to be set on a copy of a slice from a DataFrame.\n",
      "Try using .loc[row_indexer,col_indexer] = value instead\n",
      "\n",
      "See the caveats in the documentation: https://pandas.pydata.org/pandas-docs/stable/user_guide/indexing.html#returning-a-view-versus-a-copy\n",
      "  df_test['cluster']=df_test['cluster'].map(map_col)\n"
     ]
    }
   ],
   "source": [
    "df_test['cluster']=df_test['cluster'].map(map_col)\n",
    "Xtest=df_test.drop('y',axis=1)\n",
    "Ytest=df_test['y']"
   ]
  },
  {
   "cell_type": "code",
   "execution_count": null,
   "metadata": {},
   "outputs": [],
   "source": [
    "rf.score(Xtest,Ytest)"
   ]
  },
  {
   "cell_type": "code",
   "execution_count": null,
   "metadata": {},
   "outputs": [],
   "source": [
    "rf.feature_importances_"
   ]
  },
  {
   "cell_type": "markdown",
   "metadata": {},
   "source": [
    "### The right way: first split then target encode"
   ]
  },
  {
   "cell_type": "code",
   "execution_count": 51,
   "metadata": {},
   "outputs": [
    {
     "data": {
      "text/plain": [
       "0    0.011910\n",
       "1    0.076923\n",
       "2    0.766261\n",
       "3    0.917720\n",
       "4    0.741492\n",
       "5    0.849674\n",
       "6    0.263626\n",
       "7    0.861700\n",
       "8    0.346154\n",
       "9    0.833740\n",
       "Name: y, dtype: float64"
      ]
     },
     "execution_count": 51,
     "metadata": {},
     "output_type": "execute_result"
    }
   ],
   "source": [
    "df.iloc[:10,-2]"
   ]
  },
  {
   "cell_type": "code",
   "execution_count": 58,
   "metadata": {},
   "outputs": [],
   "source": [
    "kf=KFold(n_splits=10,random_state=0,shuffle=True)\n",
    "df['yenc']=np.nan\n",
    "df['cnt']=np.nan\n",
    "for train_id,val_id in kf.split(df):\n",
    "    xtrain,xval=df.iloc[train_id].copy(),df.iloc[val_id].copy()\n",
    "    \n",
    "    enc_y = xtrain.groupby('cluster')['y'].mean().to_dict()\n",
    "    enc_cnt = xtrain.groupby('cluster')['y'].count().to_dict()\n",
    "    df.iloc[val_id,-2] = df.iloc[val_id,-3].map(enc_y)\n",
    "    df.iloc[val_id,-1] = df.iloc[val_id,-3].map(enc_cnt)"
   ]
  },
  {
   "cell_type": "code",
   "execution_count": 64,
   "metadata": {},
   "outputs": [
    {
     "data": {
      "text/plain": [
       "0      0.973684\n",
       "24     0.973684\n",
       "39     0.975000\n",
       "59     1.000000\n",
       "77     0.973684\n",
       "80     0.974359\n",
       "83     1.000000\n",
       "103    0.973684\n",
       "114    0.973684\n",
       "133    0.973684\n",
       "139    0.974359\n",
       "149    0.973684\n",
       "171    0.973684\n",
       "200    0.975000\n",
       "290    0.973684\n",
       "320    0.975610\n",
       "337    0.973684\n",
       "350    0.973684\n",
       "407    0.973684\n",
       "410    0.974359\n",
       "433    1.000000\n",
       "434    0.973684\n",
       "540    1.000000\n",
       "552    0.973684\n",
       "564    0.973684\n",
       "578    0.973684\n",
       "597    0.973684\n",
       "601    0.973684\n",
       "605    0.973684\n",
       "649    1.000000\n",
       "652    0.973684\n",
       "712    1.000000\n",
       "721    0.973684\n",
       "723    0.975000\n",
       "745    0.975000\n",
       "758    0.973684\n",
       "763    0.975000\n",
       "779    0.975000\n",
       "844    0.975610\n",
       "891    0.973684\n",
       "913    0.973684\n",
       "923    0.973684\n",
       "976    0.974359\n",
       "Name: yenc, dtype: float64"
      ]
     },
     "execution_count": 64,
     "metadata": {},
     "output_type": "execute_result"
    }
   ],
   "source": [
    "df.loc[df['cluster']==17,'yenc']"
   ]
  },
  {
   "cell_type": "code",
   "execution_count": 29,
   "metadata": {},
   "outputs": [
    {
     "name": "stdout",
     "output_type": "stream",
     "text": [
      "0.9583333333333334\n",
      "0.9666666666666667\n",
      "0.9583333333333334\n",
      "0.9416666666666667\n",
      "0.9\n"
     ]
    }
   ],
   "source": [
    "kf=KFold(n_splits=5,random_state=0,shuffle=True)\n",
    "rf=RandomForestClassifier(n_estimators=100,max_depth=20,random_state=0,n_jobs=-1,min_samples_leaf=10)\n",
    "\n",
    "for train_id,val_id in kf.split(df):\n",
    "    xtrain,xval=df.iloc[train_id].copy(),df.iloc[val_id].copy()\n",
    "    ytrain,yval=xtrain.loc[:,'y'],xval.loc[:,'y']\n",
    "\n",
    "    xtrain['t']=ytrain/10+0.5\n",
    "    xval['t']=yval/10+0.5\n",
    "\n",
    "    \"\"\" map_col=xtrain.groupby('cluster')['y'].mean().to_dict()\n",
    "    xtrain['cluster']=xtrain['cluster'].map(map_col)\n",
    "    map_col=xval.groupby('cluster')['y'].mean().to_dict()\n",
    "    xval['cluster']=xval['cluster'].map(map_col)+0.4 \"\"\"\n",
    "    \n",
    "    xtrain,xval=xtrain.drop('y',axis=1),xval.drop('y',axis=1)\n",
    "\n",
    "    rf.fit(xtrain,ytrain)\n",
    "    print(rf.score(xval,yval))"
   ]
  },
  {
   "cell_type": "code",
   "execution_count": 31,
   "metadata": {},
   "outputs": [
    {
     "data": {
      "text/plain": [
       "501"
      ]
     },
     "execution_count": 31,
     "metadata": {},
     "output_type": "execute_result"
    }
   ],
   "source": [
    "rf.feature_importances_.argmax()"
   ]
  },
  {
   "cell_type": "code",
   "execution_count": 32,
   "metadata": {},
   "outputs": [
    {
     "data": {
      "text/plain": [
       "502"
      ]
     },
     "execution_count": 32,
     "metadata": {},
     "output_type": "execute_result"
    }
   ],
   "source": [
    "len(xtrain.columns)"
   ]
  },
  {
   "cell_type": "code",
   "execution_count": 21,
   "metadata": {},
   "outputs": [
    {
     "data": {
      "text/plain": [
       " 0.000000    111\n",
       " 0.500000      3\n",
       "-0.500000      3\n",
       "-0.333333      2\n",
       " 0.666667      1\n",
       "dtype: int64"
      ]
     },
     "execution_count": 21,
     "metadata": {},
     "output_type": "execute_result"
    }
   ],
   "source": [
    "(xval['cluster'] -yval).value_counts()"
   ]
  },
  {
   "cell_type": "code",
   "execution_count": 18,
   "metadata": {},
   "outputs": [
    {
     "data": {
      "text/plain": [
       "{1: 0.0,\n",
       " 2: 1.0,\n",
       " 4: 1.0,\n",
       " 7: 0.0,\n",
       " 11: 1.0,\n",
       " 12: 0.0,\n",
       " 13: 1.0,\n",
       " 17: 0.0,\n",
       " 18: 1.0,\n",
       " 20: 1.0,\n",
       " 21: 0.0,\n",
       " 24: 0.0,\n",
       " 26: 0.0,\n",
       " 33: 0.0,\n",
       " 35: 1.0,\n",
       " 38: 0.0,\n",
       " 43: 0.5,\n",
       " 44: 1.0,\n",
       " 46: 1.0,\n",
       " 47: 0.0,\n",
       " 49: 1.0,\n",
       " 51: 1.0,\n",
       " 53: 0.0,\n",
       " 54: 0.0,\n",
       " 55: 0.0,\n",
       " 57: 0.0,\n",
       " 62: 1.0,\n",
       " 63: 0.0,\n",
       " 65: 1.0,\n",
       " 67: 0.0,\n",
       " 70: 0.0,\n",
       " 72: 0.0,\n",
       " 74: 0.0,\n",
       " 79: 0.0,\n",
       " 81: 0.0,\n",
       " 82: 1.0,\n",
       " 83: 1.0,\n",
       " 88: 1.0,\n",
       " 91: 1.0,\n",
       " 92: 1.0,\n",
       " 94: 0.0,\n",
       " 100: 0.0,\n",
       " 102: 1.0,\n",
       " 103: 0.0,\n",
       " 107: 0.0,\n",
       " 110: 0.0,\n",
       " 113: 0.0,\n",
       " 114: 0.0,\n",
       " 116: 0.0,\n",
       " 122: 0.0,\n",
       " 125: 0.0,\n",
       " 127: 1.0,\n",
       " 128: 1.0,\n",
       " 132: 1.0,\n",
       " 133: 0.0,\n",
       " 134: 0.0,\n",
       " 143: 1.0,\n",
       " 144: 1.0,\n",
       " 147: 1.0,\n",
       " 151: 0.0,\n",
       " 152: 0.0,\n",
       " 153: 0.6666666666666666,\n",
       " 154: 1.0,\n",
       " 159: 0.0,\n",
       " 163: 0.0,\n",
       " 167: 1.0,\n",
       " 170: 0.0,\n",
       " 174: 1.0,\n",
       " 186: 0.0,\n",
       " 189: 0.0,\n",
       " 191: 1.0,\n",
       " 195: 1.0,\n",
       " 196: 1.0,\n",
       " 198: 0.0,\n",
       " 199: 0.0,\n",
       " 208: 1.0,\n",
       " 214: 0.0,\n",
       " 217: 1.0,\n",
       " 220: 1.0,\n",
       " 225: 1.0,\n",
       " 227: 1.0,\n",
       " 228: 0.5,\n",
       " 232: 1.0,\n",
       " 233: 1.0,\n",
       " 235: 0.0,\n",
       " 237: 1.0,\n",
       " 239: 0.0,\n",
       " 240: 0.0,\n",
       " 242: 1.0,\n",
       " 244: 0.0,\n",
       " 246: 1.0,\n",
       " 251: 0.0,\n",
       " 255: 1.0,\n",
       " 257: 1.0,\n",
       " 261: 0.0,\n",
       " 262: 1.0,\n",
       " 267: 0.0,\n",
       " 268: 1.0,\n",
       " 274: 0.0,\n",
       " 285: 1.0,\n",
       " 289: 1.0,\n",
       " 290: 0.0,\n",
       " 296: 0.5,\n",
       " 299: 0.0}"
      ]
     },
     "execution_count": 18,
     "metadata": {},
     "output_type": "execute_result"
    }
   ],
   "source": [
    "map_col"
   ]
  },
  {
   "cell_type": "code",
   "execution_count": 9,
   "metadata": {},
   "outputs": [
    {
     "data": {
      "text/plain": [
       "array([0.058017  , 0.05197257, 0.02116001, 0.01423254, 0.02679718,\n",
       "       0.01227533, 0.03368493, 0.00607589, 0.00238761, 0.00801643,\n",
       "       0.00181852, 0.04417946, 0.00906545, 0.00710951, 0.0656683 ,\n",
       "       0.00409355, 0.02129129, 0.00814754, 0.09315664, 0.00304109,\n",
       "       0.50780915])"
      ]
     },
     "execution_count": 9,
     "metadata": {},
     "output_type": "execute_result"
    }
   ],
   "source": [
    "rf.feature_importances_"
   ]
  },
  {
   "cell_type": "code",
   "execution_count": 76,
   "metadata": {},
   "outputs": [
    {
     "name": "stdout",
     "output_type": "stream",
     "text": [
      "0.9235\n",
      "0.925\n",
      "0.9206\n",
      "0.9219\n",
      "0.9276\n",
      "0.9268\n",
      "0.9228\n",
      "0.9242\n",
      "0.9207\n",
      "0.9218\n"
     ]
    }
   ],
   "source": [
    "kf=KFold(n_splits=10,random_state=0,shuffle=True)\n",
    "rf=RandomForestClassifier(n_estimators=100,max_depth=6,random_state=0,n_jobs=-1)\n",
    "\n",
    "for train_id,val_id in kf.split(df):\n",
    "    xtrain,xval=df.iloc[train_id].copy(),df.iloc[val_id].copy()\n",
    "\n",
    "    map_col=xtrain.groupby('col_20')['y'].mean().to_dict()\n",
    "    xtrain['col_20']=xtrain['col_20'].map(map_col)\n",
    "    xval['col_20']=xval['col_20'].map(map_col)\n",
    "    ytrain,yval=xtrain.loc[:,'y'],xval.loc[:,'y']\n",
    "    xtrain,xval=xtrain.iloc[:,:-1],xval.iloc[:,:-1]\n",
    "\n",
    "    rf.fit(xtrain,ytrain)\n",
    "    print(rf.score(xval,yval))"
   ]
  },
  {
   "cell_type": "code",
   "execution_count": 73,
   "metadata": {},
   "outputs": [
    {
     "data": {
      "text/plain": [
       "array([0.86070165, 0.18921643, 0.67510937, 0.89111253, 0.15115025,\n",
       "       0.02135765, 0.8048486 , 0.10600352, 0.03658537, 0.98106236])"
      ]
     },
     "execution_count": 73,
     "metadata": {},
     "output_type": "execute_result"
    }
   ],
   "source": [
    "xtrain.col_20.unique()"
   ]
  },
  {
   "cell_type": "code",
   "execution_count": 50,
   "metadata": {},
   "outputs": [],
   "source": [
    "rf=RandomForestClassifier(n_estimators=100,max_depth=20,random_state=0)"
   ]
  },
  {
   "cell_type": "code",
   "execution_count": 51,
   "metadata": {},
   "outputs": [
    {
     "data": {
      "text/plain": [
       "RandomForestClassifier(max_depth=20, random_state=0)"
      ]
     },
     "execution_count": 51,
     "metadata": {},
     "output_type": "execute_result"
    }
   ],
   "source": [
    "rf.fit(xtrain,ytrain)"
   ]
  },
  {
   "cell_type": "code",
   "execution_count": 53,
   "metadata": {},
   "outputs": [
    {
     "data": {
      "text/plain": [
       "(0.9617, 0.9934375)"
      ]
     },
     "execution_count": 53,
     "metadata": {},
     "output_type": "execute_result"
    }
   ],
   "source": [
    "rf.score(xtest,ytest),rf.score(xtrain,ytrain)"
   ]
  },
  {
   "cell_type": "markdown",
   "metadata": {},
   "source": [
    "## RFECV"
   ]
  },
  {
   "cell_type": "code",
   "execution_count": 79,
   "metadata": {},
   "outputs": [],
   "source": [
    "from sklearn.feature_selection import RFECV"
   ]
  },
  {
   "cell_type": "code",
   "execution_count": 82,
   "metadata": {},
   "outputs": [],
   "source": [
    "X=df.drop('y',axis=1)\n",
    "y=df['y']"
   ]
  },
  {
   "cell_type": "code",
   "execution_count": 83,
   "metadata": {},
   "outputs": [
    {
     "data": {
      "text/plain": [
       "RFECV(cv=5,\n",
       "      estimator=RandomForestClassifier(max_depth=20, min_samples_leaf=10,\n",
       "                                       n_jobs=-1, random_state=0),\n",
       "      scoring='accuracy')"
      ]
     },
     "execution_count": 83,
     "metadata": {},
     "output_type": "execute_result"
    }
   ],
   "source": [
    "rfe=RFECV(estimator=rf,cv=5,scoring='accuracy')\n",
    "rfe.fit(X,y)"
   ]
  },
  {
   "cell_type": "code",
   "execution_count": 89,
   "metadata": {},
   "outputs": [],
   "source": [
    "X_transformed = rfe.transform(X)"
   ]
  },
  {
   "cell_type": "code",
   "execution_count": 92,
   "metadata": {},
   "outputs": [
    {
     "data": {
      "text/plain": [
       "array([[ -4.60986106,  -4.99112217,   2.87487539, ...,   1.28606805,\n",
       "         -8.25057439,   0.69973963],\n",
       "       [ -1.64376471,  -1.11287986,   1.54645669, ...,   2.84063189,\n",
       "          1.89108362,  -0.8285572 ],\n",
       "       [ -1.04336582,   1.4244628 ,  -2.96323135, ...,  -3.34389493,\n",
       "         -2.85111595,  -0.78496269],\n",
       "       ...,\n",
       "       [ -0.11275432,  -2.43382332,  -2.10411208, ...,  -4.91974894,\n",
       "          1.16214469,   2.81247204],\n",
       "       [ -4.21653541,  -2.3341965 ,  -2.45475625, ...,  -4.61342604,\n",
       "         -4.70474029,   3.50355184],\n",
       "       [-10.04963747,   5.648913  ,  -0.75871803, ...,  -3.2046927 ,\n",
       "         -5.46153899,   1.84151251]])"
      ]
     },
     "execution_count": 92,
     "metadata": {},
     "output_type": "execute_result"
    }
   ],
   "source": [
    "X_transformed"
   ]
  },
  {
   "cell_type": "markdown",
   "metadata": {},
   "source": [
    "## Feature Importance"
   ]
  },
  {
   "cell_type": "code",
   "execution_count": 122,
   "metadata": {},
   "outputs": [],
   "source": [
    "from eli5 import show_weights, show_prediction, explain_prediction\n",
    "from eli5.formatters import format_as_text"
   ]
  },
  {
   "cell_type": "code",
   "execution_count": 80,
   "metadata": {},
   "outputs": [
    {
     "data": {
      "text/plain": [
       "array([0.0906415 , 0.05884074, 0.02685866, 0.02052799, 0.02598829,\n",
       "       0.01227632, 0.04605283, 0.01435457, 0.00903182, 0.02182733,\n",
       "       0.00645207, 0.04398979, 0.03613963, 0.02715003, 0.10551366,\n",
       "       0.0195239 , 0.04028528, 0.01522972, 0.10386326, 0.00778623,\n",
       "       0.26766637])"
      ]
     },
     "execution_count": 80,
     "metadata": {},
     "output_type": "execute_result"
    }
   ],
   "source": [
    "rf.feature_importances_"
   ]
  },
  {
   "cell_type": "code",
   "execution_count": 79,
   "metadata": {},
   "outputs": [
    {
     "data": {
      "text/html": [
       "\n",
       "    <style>\n",
       "    table.eli5-weights tr:hover {\n",
       "        filter: brightness(85%);\n",
       "    }\n",
       "</style>\n",
       "\n",
       "\n",
       "\n",
       "    \n",
       "\n",
       "    \n",
       "\n",
       "    \n",
       "\n",
       "    \n",
       "\n",
       "    \n",
       "\n",
       "    \n",
       "\n",
       "\n",
       "    \n",
       "\n",
       "    \n",
       "\n",
       "    \n",
       "\n",
       "    \n",
       "\n",
       "    \n",
       "\n",
       "    \n",
       "\n",
       "\n",
       "    \n",
       "\n",
       "    \n",
       "\n",
       "    \n",
       "\n",
       "    \n",
       "\n",
       "    \n",
       "        <table class=\"eli5-weights eli5-feature-importances\" style=\"border-collapse: collapse; border: none; margin-top: 0em; table-layout: auto;\">\n",
       "    <thead>\n",
       "    <tr style=\"border: none;\">\n",
       "        <th style=\"padding: 0 1em 0 0.5em; text-align: right; border: none;\">Weight</th>\n",
       "        <th style=\"padding: 0 0.5em 0 0.5em; text-align: left; border: none;\">Feature</th>\n",
       "    </tr>\n",
       "    </thead>\n",
       "    <tbody>\n",
       "    \n",
       "        <tr style=\"background-color: hsl(120, 100.00%, 80.00%); border: none;\">\n",
       "            <td style=\"padding: 0 1em 0 0.5em; text-align: right; border: none;\">\n",
       "                0.2677\n",
       "                \n",
       "                    &plusmn; 0.4988\n",
       "                \n",
       "            </td>\n",
       "            <td style=\"padding: 0 0.5em 0 0.5em; text-align: left; border: none;\">\n",
       "                col_20\n",
       "            </td>\n",
       "        </tr>\n",
       "    \n",
       "        <tr style=\"background-color: hsl(120, 100.00%, 89.58%); border: none;\">\n",
       "            <td style=\"padding: 0 1em 0 0.5em; text-align: right; border: none;\">\n",
       "                0.1055\n",
       "                \n",
       "                    &plusmn; 0.3098\n",
       "                \n",
       "            </td>\n",
       "            <td style=\"padding: 0 0.5em 0 0.5em; text-align: left; border: none;\">\n",
       "                col_14\n",
       "            </td>\n",
       "        </tr>\n",
       "    \n",
       "        <tr style=\"background-color: hsl(120, 100.00%, 89.69%); border: none;\">\n",
       "            <td style=\"padding: 0 1em 0 0.5em; text-align: right; border: none;\">\n",
       "                0.1039\n",
       "                \n",
       "                    &plusmn; 0.3435\n",
       "                \n",
       "            </td>\n",
       "            <td style=\"padding: 0 0.5em 0 0.5em; text-align: left; border: none;\">\n",
       "                col_18\n",
       "            </td>\n",
       "        </tr>\n",
       "    \n",
       "        <tr style=\"background-color: hsl(120, 100.00%, 90.63%); border: none;\">\n",
       "            <td style=\"padding: 0 1em 0 0.5em; text-align: right; border: none;\">\n",
       "                0.0906\n",
       "                \n",
       "                    &plusmn; 0.2547\n",
       "                \n",
       "            </td>\n",
       "            <td style=\"padding: 0 0.5em 0 0.5em; text-align: left; border: none;\">\n",
       "                col_0\n",
       "            </td>\n",
       "        </tr>\n",
       "    \n",
       "        <tr style=\"background-color: hsl(120, 100.00%, 93.07%); border: none;\">\n",
       "            <td style=\"padding: 0 1em 0 0.5em; text-align: right; border: none;\">\n",
       "                0.0588\n",
       "                \n",
       "                    &plusmn; 0.1867\n",
       "                \n",
       "            </td>\n",
       "            <td style=\"padding: 0 0.5em 0 0.5em; text-align: left; border: none;\">\n",
       "                col_1\n",
       "            </td>\n",
       "        </tr>\n",
       "    \n",
       "        <tr style=\"background-color: hsl(120, 100.00%, 94.17%); border: none;\">\n",
       "            <td style=\"padding: 0 1em 0 0.5em; text-align: right; border: none;\">\n",
       "                0.0461\n",
       "                \n",
       "                    &plusmn; 0.0759\n",
       "                \n",
       "            </td>\n",
       "            <td style=\"padding: 0 0.5em 0 0.5em; text-align: left; border: none;\">\n",
       "                col_6\n",
       "            </td>\n",
       "        </tr>\n",
       "    \n",
       "        <tr style=\"background-color: hsl(120, 100.00%, 94.35%); border: none;\">\n",
       "            <td style=\"padding: 0 1em 0 0.5em; text-align: right; border: none;\">\n",
       "                0.0440\n",
       "                \n",
       "                    &plusmn; 0.2028\n",
       "                \n",
       "            </td>\n",
       "            <td style=\"padding: 0 0.5em 0 0.5em; text-align: left; border: none;\">\n",
       "                col_11\n",
       "            </td>\n",
       "        </tr>\n",
       "    \n",
       "        <tr style=\"background-color: hsl(120, 100.00%, 94.69%); border: none;\">\n",
       "            <td style=\"padding: 0 1em 0 0.5em; text-align: right; border: none;\">\n",
       "                0.0403\n",
       "                \n",
       "                    &plusmn; 0.0682\n",
       "                \n",
       "            </td>\n",
       "            <td style=\"padding: 0 0.5em 0 0.5em; text-align: left; border: none;\">\n",
       "                col_16\n",
       "            </td>\n",
       "        </tr>\n",
       "    \n",
       "        <tr style=\"background-color: hsl(120, 100.00%, 95.08%); border: none;\">\n",
       "            <td style=\"padding: 0 1em 0 0.5em; text-align: right; border: none;\">\n",
       "                0.0361\n",
       "                \n",
       "                    &plusmn; 0.0413\n",
       "                \n",
       "            </td>\n",
       "            <td style=\"padding: 0 0.5em 0 0.5em; text-align: left; border: none;\">\n",
       "                col_12\n",
       "            </td>\n",
       "        </tr>\n",
       "    \n",
       "        <tr style=\"background-color: hsl(120, 100.00%, 95.97%); border: none;\">\n",
       "            <td style=\"padding: 0 1em 0 0.5em; text-align: right; border: none;\">\n",
       "                0.0272\n",
       "                \n",
       "                    &plusmn; 0.0727\n",
       "                \n",
       "            </td>\n",
       "            <td style=\"padding: 0 0.5em 0 0.5em; text-align: left; border: none;\">\n",
       "                col_13\n",
       "            </td>\n",
       "        </tr>\n",
       "    \n",
       "        <tr style=\"background-color: hsl(120, 100.00%, 96.00%); border: none;\">\n",
       "            <td style=\"padding: 0 1em 0 0.5em; text-align: right; border: none;\">\n",
       "                0.0269\n",
       "                \n",
       "                    &plusmn; 0.0603\n",
       "                \n",
       "            </td>\n",
       "            <td style=\"padding: 0 0.5em 0 0.5em; text-align: left; border: none;\">\n",
       "                col_2\n",
       "            </td>\n",
       "        </tr>\n",
       "    \n",
       "        <tr style=\"background-color: hsl(120, 100.00%, 96.09%); border: none;\">\n",
       "            <td style=\"padding: 0 1em 0 0.5em; text-align: right; border: none;\">\n",
       "                0.0260\n",
       "                \n",
       "                    &plusmn; 0.0870\n",
       "                \n",
       "            </td>\n",
       "            <td style=\"padding: 0 0.5em 0 0.5em; text-align: left; border: none;\">\n",
       "                col_4\n",
       "            </td>\n",
       "        </tr>\n",
       "    \n",
       "        <tr style=\"background-color: hsl(120, 100.00%, 96.54%); border: none;\">\n",
       "            <td style=\"padding: 0 1em 0 0.5em; text-align: right; border: none;\">\n",
       "                0.0218\n",
       "                \n",
       "                    &plusmn; 0.0470\n",
       "                \n",
       "            </td>\n",
       "            <td style=\"padding: 0 0.5em 0 0.5em; text-align: left; border: none;\">\n",
       "                col_9\n",
       "            </td>\n",
       "        </tr>\n",
       "    \n",
       "        <tr style=\"background-color: hsl(120, 100.00%, 96.69%); border: none;\">\n",
       "            <td style=\"padding: 0 1em 0 0.5em; text-align: right; border: none;\">\n",
       "                0.0205\n",
       "                \n",
       "                    &plusmn; 0.0516\n",
       "                \n",
       "            </td>\n",
       "            <td style=\"padding: 0 0.5em 0 0.5em; text-align: left; border: none;\">\n",
       "                col_3\n",
       "            </td>\n",
       "        </tr>\n",
       "    \n",
       "        <tr style=\"background-color: hsl(120, 100.00%, 96.80%); border: none;\">\n",
       "            <td style=\"padding: 0 1em 0 0.5em; text-align: right; border: none;\">\n",
       "                0.0195\n",
       "                \n",
       "                    &plusmn; 0.0231\n",
       "                \n",
       "            </td>\n",
       "            <td style=\"padding: 0 0.5em 0 0.5em; text-align: left; border: none;\">\n",
       "                col_15\n",
       "            </td>\n",
       "        </tr>\n",
       "    \n",
       "        <tr style=\"background-color: hsl(120, 100.00%, 97.31%); border: none;\">\n",
       "            <td style=\"padding: 0 1em 0 0.5em; text-align: right; border: none;\">\n",
       "                0.0152\n",
       "                \n",
       "                    &plusmn; 0.0626\n",
       "                \n",
       "            </td>\n",
       "            <td style=\"padding: 0 0.5em 0 0.5em; text-align: left; border: none;\">\n",
       "                col_17\n",
       "            </td>\n",
       "        </tr>\n",
       "    \n",
       "        <tr style=\"background-color: hsl(120, 100.00%, 97.42%); border: none;\">\n",
       "            <td style=\"padding: 0 1em 0 0.5em; text-align: right; border: none;\">\n",
       "                0.0144\n",
       "                \n",
       "                    &plusmn; 0.0350\n",
       "                \n",
       "            </td>\n",
       "            <td style=\"padding: 0 0.5em 0 0.5em; text-align: left; border: none;\">\n",
       "                col_7\n",
       "            </td>\n",
       "        </tr>\n",
       "    \n",
       "        <tr style=\"background-color: hsl(120, 100.00%, 97.69%); border: none;\">\n",
       "            <td style=\"padding: 0 1em 0 0.5em; text-align: right; border: none;\">\n",
       "                0.0123\n",
       "                \n",
       "                    &plusmn; 0.0473\n",
       "                \n",
       "            </td>\n",
       "            <td style=\"padding: 0 0.5em 0 0.5em; text-align: left; border: none;\">\n",
       "                col_5\n",
       "            </td>\n",
       "        </tr>\n",
       "    \n",
       "        <tr style=\"background-color: hsl(120, 100.00%, 98.13%); border: none;\">\n",
       "            <td style=\"padding: 0 1em 0 0.5em; text-align: right; border: none;\">\n",
       "                0.0090\n",
       "                \n",
       "                    &plusmn; 0.0183\n",
       "                \n",
       "            </td>\n",
       "            <td style=\"padding: 0 0.5em 0 0.5em; text-align: left; border: none;\">\n",
       "                col_8\n",
       "            </td>\n",
       "        </tr>\n",
       "    \n",
       "        <tr style=\"background-color: hsl(120, 100.00%, 98.32%); border: none;\">\n",
       "            <td style=\"padding: 0 1em 0 0.5em; text-align: right; border: none;\">\n",
       "                0.0078\n",
       "                \n",
       "                    &plusmn; 0.0177\n",
       "                \n",
       "            </td>\n",
       "            <td style=\"padding: 0 0.5em 0 0.5em; text-align: left; border: none;\">\n",
       "                col_19\n",
       "            </td>\n",
       "        </tr>\n",
       "    \n",
       "    \n",
       "        \n",
       "            <tr style=\"background-color: hsl(120, 100.00%, 98.32%); border: none;\">\n",
       "                <td colspan=\"2\" style=\"padding: 0 0.5em 0 0.5em; text-align: center; border: none; white-space: nowrap;\">\n",
       "                    <i>&hellip; 1 more &hellip;</i>\n",
       "                </td>\n",
       "            </tr>\n",
       "        \n",
       "    \n",
       "    </tbody>\n",
       "</table>\n",
       "    \n",
       "\n",
       "    \n",
       "\n",
       "\n",
       "    \n",
       "\n",
       "    \n",
       "\n",
       "    \n",
       "\n",
       "    \n",
       "\n",
       "    \n",
       "\n",
       "    \n",
       "\n",
       "\n",
       "\n"
      ],
      "text/plain": [
       "<IPython.core.display.HTML object>"
      ]
     },
     "execution_count": 79,
     "metadata": {},
     "output_type": "execute_result"
    }
   ],
   "source": [
    "show_weights(rf,feature_names=xtrain.columns.to_list())"
   ]
  },
  {
   "cell_type": "code",
   "execution_count": 134,
   "metadata": {},
   "outputs": [],
   "source": [
    "pred=explain_prediction(rf, xtest.iloc[5,:], feature_names=xtrain.columns.to_list(),top=(4,3))"
   ]
  },
  {
   "cell_type": "code",
   "execution_count": 135,
   "metadata": {},
   "outputs": [
    {
     "name": "stdout",
     "output_type": "stream",
     "text": [
      "Explained as: decision path\n",
      "\n",
      "Features with largest coefficients.\n",
      "\n",
      "Feature weights are calculated by following decision paths in trees\n",
      "of an ensemble (or a single tree for DecisionTreeClassifier).\n",
      "Each node of the tree has an output score, and contribution of a feature\n",
      "on the decision path is how much the score changes from parent to child.\n",
      "Weights of all features sum to the output score or proba of the estimator.\n",
      "\n",
      "Caveats:\n",
      "1. Feature weights just show if the feature contributed positively or\n",
      "   negatively to the final score, and does not show how increasing or\n",
      "   decreasing the feature value will change the prediction.\n",
      "2. In some cases, feature weight can be close to zero for an important feature.\n",
      "   For example, in a single tree that computes XOR function, the feature at the\n",
      "   top of the tree will have zero weight because expected scores for both\n",
      "   branches are equal, so decision at the top feature does not change the\n",
      "   expected score. For an ensemble predicting XOR functions it might not be\n",
      "   a problem, but it is not reliable if most trees happen to choose the same\n",
      "   feature at the top.\n",
      "\n",
      "y=0 (probability=0.578) top features\n",
      "Contribution  Feature\n",
      "------------  -------\n",
      "      +0.500  <BIAS> \n",
      "      +0.094  col_20 \n",
      "      +0.091  col_18 \n",
      "      +0.079  col_14 \n",
      " … 6 more positive … \n",
      " … 9 more negative … \n",
      "      -0.042  col_12 \n",
      "      -0.052  col_0  \n",
      "      -0.118  col_6  \n",
      "\n"
     ]
    }
   ],
   "source": [
    "print(format_as_text(pred))"
   ]
  },
  {
   "cell_type": "code",
   "execution_count": 133,
   "metadata": {},
   "outputs": [
    {
     "data": {
      "text/plain": [
       "array([[0.5875753 , 0.4124247 ],\n",
       "       [0.94080996, 0.05919004],\n",
       "       [0.94168722, 0.05831278],\n",
       "       [0.91478625, 0.08521375],\n",
       "       [0.97470156, 0.02529844],\n",
       "       [0.57834607, 0.42165393]])"
      ]
     },
     "execution_count": 133,
     "metadata": {},
     "output_type": "execute_result"
    }
   ],
   "source": [
    "rf.predict_proba(xtest)[:6]"
   ]
  }
 ],
 "metadata": {
  "interpreter": {
   "hash": "f867c1da995947098dea1a39f903899f4ebf9970b3ec23fc161ccb1d8cbf1c2e"
  },
  "kernelspec": {
   "display_name": "Python 3.9.5 ('base')",
   "language": "python",
   "name": "python3"
  },
  "language_info": {
   "codemirror_mode": {
    "name": "ipython",
    "version": 3
   },
   "file_extension": ".py",
   "mimetype": "text/x-python",
   "name": "python",
   "nbconvert_exporter": "python",
   "pygments_lexer": "ipython3",
   "version": "3.9.5"
  },
  "orig_nbformat": 4
 },
 "nbformat": 4,
 "nbformat_minor": 2
}
