{
 "cells": [
  {
   "cell_type": "code",
   "execution_count": 1,
   "metadata": {},
   "outputs": [],
   "source": [
    "import pandas as pd\n",
    "import numpy as np\n",
    "\n",
    "from sklearn.datasets import make_classification"
   ]
  },
  {
   "cell_type": "code",
   "execution_count": 40,
   "metadata": {},
   "outputs": [],
   "source": [
    "X,y=make_classification(n_samples=600, n_features=500, n_informative=10, n_redundant=490, n_classes=2, random_state=0)\n",
    "df=pd.DataFrame(X)\n",
    "rename_cols={col:'col_'+str(col) for col in df.columns}\n",
    "df.rename(columns=rename_cols,inplace=True)\n",
    "df['y']=y"
   ]
  },
  {
   "cell_type": "code",
   "execution_count": 41,
   "metadata": {},
   "outputs": [
    {
     "data": {
      "text/plain": [
       "(600, 501)"
      ]
     },
     "execution_count": 41,
     "metadata": {},
     "output_type": "execute_result"
    }
   ],
   "source": [
    "df.shape"
   ]
  },
  {
   "cell_type": "markdown",
   "metadata": {},
   "source": [
    "### Encode target"
   ]
  },
  {
   "cell_type": "code",
   "execution_count": 5,
   "metadata": {},
   "outputs": [],
   "source": [
    "from sklearn.cluster import KMeans\n",
    "from sklearn.model_selection  import train_test_split,GridSearchCV,StratifiedKFold,KFold\n",
    "from sklearn.ensemble import RandomForestClassifier,GradientBoostingClassifier"
   ]
  },
  {
   "cell_type": "code",
   "execution_count": 95,
   "metadata": {},
   "outputs": [],
   "source": [
    "km=KMeans(n_clusters=50,random_state=56)\n",
    "m=km.fit_predict(df.iloc[:,:-1])\n",
    "df['cluster']=m"
   ]
  },
  {
   "cell_type": "code",
   "execution_count": 68,
   "metadata": {},
   "outputs": [],
   "source": [
    "m=np.random.randint(0,20,df.shape[0])\n",
    "df['cluster']=m"
   ]
  },
  {
   "cell_type": "markdown",
   "metadata": {},
   "source": [
    "### The wrong way: target encode before spliting"
   ]
  },
  {
   "cell_type": "code",
   "execution_count": 98,
   "metadata": {},
   "outputs": [
    {
     "name": "stderr",
     "output_type": "stream",
     "text": [
      "/Users/JoaoGomes/miniconda3/lib/python3.9/site-packages/pandas/core/indexing.py:1773: SettingWithCopyWarning: \n",
      "A value is trying to be set on a copy of a slice from a DataFrame.\n",
      "Try using .loc[row_indexer,col_indexer] = value instead\n",
      "\n",
      "See the caveats in the documentation: https://pandas.pydata.org/pandas-docs/stable/user_guide/indexing.html#returning-a-view-versus-a-copy\n",
      "  self._setitem_single_column(ilocs[0], value, pi)\n"
     ]
    }
   ],
   "source": [
    "df_train,df_test=train_test_split(df,test_size=0.2,random_state=20)\n",
    "map_col=df_train.groupby('cluster')['y'].mean().to_dict()\n",
    "df_train.loc[:,'cluster']=df_train['cluster'].map(map_col)"
   ]
  },
  {
   "cell_type": "code",
   "execution_count": 99,
   "metadata": {},
   "outputs": [
    {
     "data": {
      "text/plain": [
       "{0: 1.0,\n",
       " 1: 0.5,\n",
       " 2: 0.0,\n",
       " 3: 0.7368421052631579,\n",
       " 4: 0.4,\n",
       " 5: 0.0,\n",
       " 6: 0.7333333333333333,\n",
       " 7: 1.0,\n",
       " 8: 0.9375,\n",
       " 9: 0.6666666666666666,\n",
       " 10: 0.5238095238095238,\n",
       " 11: 1.0,\n",
       " 12: 0.14285714285714285,\n",
       " 13: 0.0,\n",
       " 14: 0.5,\n",
       " 15: 0.7333333333333333,\n",
       " 16: 0.3333333333333333,\n",
       " 17: 0.1111111111111111,\n",
       " 18: 1.0,\n",
       " 19: 0.0,\n",
       " 20: 1.0,\n",
       " 21: 0.0,\n",
       " 22: 1.0,\n",
       " 23: 0.9166666666666666,\n",
       " 24: 0.07692307692307693,\n",
       " 25: 0.0,\n",
       " 26: 0.42857142857142855,\n",
       " 27: 0.16666666666666666,\n",
       " 28: 0.75,\n",
       " 29: 1.0,\n",
       " 30: 0.9,\n",
       " 31: 0.4,\n",
       " 32: 1.0,\n",
       " 33: 0.14285714285714285,\n",
       " 34: 0.8125,\n",
       " 35: 0.2,\n",
       " 36: 0.0,\n",
       " 37: 0.2,\n",
       " 38: 0.0,\n",
       " 39: 0.125,\n",
       " 40: 0.0,\n",
       " 41: 1.0,\n",
       " 42: 0.2,\n",
       " 43: 0.25,\n",
       " 44: 0.0,\n",
       " 45: 0.2222222222222222,\n",
       " 46: 0.0,\n",
       " 48: 1.0,\n",
       " 49: 0.9166666666666666}"
      ]
     },
     "execution_count": 99,
     "metadata": {},
     "output_type": "execute_result"
    }
   ],
   "source": [
    "map_col"
   ]
  },
  {
   "cell_type": "code",
   "execution_count": 100,
   "metadata": {},
   "outputs": [],
   "source": [
    "X=df_train.drop('y',axis=1)\n",
    "y=df_train['y']"
   ]
  },
  {
   "cell_type": "code",
   "execution_count": 101,
   "metadata": {},
   "outputs": [
    {
     "data": {
      "text/plain": [
       "0.8958333333333334"
      ]
     },
     "execution_count": 101,
     "metadata": {},
     "output_type": "execute_result"
    }
   ],
   "source": [
    "rf=RandomForestClassifier(n_estimators=150,max_depth=20,random_state=70,n_jobs=-1,min_samples_leaf=10)\n",
    "kf=KFold(n_splits=5,random_state=0,shuffle=True)\n",
    "\n",
    "scores=[]\n",
    "for train_id,val_id in kf.split(X):\n",
    "    x_train,xval=X.iloc[train_id],X.iloc[val_id]\n",
    "    y_train,yval=y.iloc[train_id],y.iloc[val_id]\n",
    "\n",
    "    rf.fit(x_train,y_train)\n",
    "    scores.append(rf.score(xval,yval))\n",
    "scores=np.array(scores)\n",
    "scores.mean()"
   ]
  },
  {
   "cell_type": "code",
   "execution_count": 102,
   "metadata": {},
   "outputs": [
    {
     "data": {
      "text/plain": [
       "array([0.88541667, 0.91666667, 0.89583333, 0.86458333, 0.91666667])"
      ]
     },
     "execution_count": 102,
     "metadata": {},
     "output_type": "execute_result"
    }
   ],
   "source": [
    "scores"
   ]
  },
  {
   "cell_type": "code",
   "execution_count": 105,
   "metadata": {},
   "outputs": [
    {
     "name": "stderr",
     "output_type": "stream",
     "text": [
      "/var/folders/hc/ksky2t095_v6h164b5fdb3sc0000gn/T/ipykernel_95828/3231120719.py:1: SettingWithCopyWarning: \n",
      "A value is trying to be set on a copy of a slice from a DataFrame.\n",
      "Try using .loc[row_indexer,col_indexer] = value instead\n",
      "\n",
      "See the caveats in the documentation: https://pandas.pydata.org/pandas-docs/stable/user_guide/indexing.html#returning-a-view-versus-a-copy\n",
      "  df_test['cluster']=df_test['cluster'].map(map_col)\n"
     ]
    }
   ],
   "source": [
    "df_test['cluster']=df_test['cluster'].map(map_col)\n",
    "Xtest=df_test.drop('y',axis=1)\n",
    "Ytest=df_test['y']"
   ]
  },
  {
   "cell_type": "code",
   "execution_count": null,
   "metadata": {},
   "outputs": [],
   "source": [
    "rf.score(Xtest,Ytest)"
   ]
  },
  {
   "cell_type": "code",
   "execution_count": 68,
   "metadata": {},
   "outputs": [
    {
     "data": {
      "text/plain": [
       "array([0.0906415 , 0.05884074, 0.02685866, 0.02052799, 0.02598829,\n",
       "       0.01227632, 0.04605283, 0.01435457, 0.00903182, 0.02182733,\n",
       "       0.00645207, 0.04398979, 0.03613963, 0.02715003, 0.10551366,\n",
       "       0.0195239 , 0.04028528, 0.01522972, 0.10386326, 0.00778623,\n",
       "       0.26766637])"
      ]
     },
     "execution_count": 68,
     "metadata": {},
     "output_type": "execute_result"
    }
   ],
   "source": [
    "rf.feature_importances_"
   ]
  },
  {
   "cell_type": "markdown",
   "metadata": {},
   "source": [
    "### The right way: first split then target encode"
   ]
  },
  {
   "cell_type": "code",
   "execution_count": 78,
   "metadata": {},
   "outputs": [
    {
     "name": "stdout",
     "output_type": "stream",
     "text": [
      "0.925\n",
      "0.8916666666666667\n",
      "0.875\n",
      "0.8833333333333333\n",
      "0.8666666666666667\n"
     ]
    }
   ],
   "source": [
    "kf=KFold(n_splits=5,random_state=0,shuffle=True)\n",
    "rf=RandomForestClassifier(n_estimators=100,max_depth=20,random_state=0,n_jobs=-1,min_samples_leaf=10)\n",
    "\n",
    "for train_id,val_id in kf.split(df):\n",
    "    xtrain,xval=df.iloc[train_id].copy(),df.iloc[val_id].copy()\n",
    "\n",
    "    map_col=xtrain.groupby('cluster')['y'].mean().to_dict()\n",
    "    xtrain['cluster']=xtrain['cluster'].map(map_col)\n",
    "    map_col=xval.groupby('cluster')['y'].mean().to_dict()\n",
    "    xval['cluster']=xval['cluster'].map(map_col)\n",
    "    ytrain,yval=xtrain.loc[:,'y'],xval.loc[:,'y']\n",
    "    xtrain,xval=xtrain.drop('y',axis=1),xval.drop('y',axis=1)\n",
    "\n",
    "    rf.fit(xtrain,ytrain)\n",
    "    print(rf.score(xval,yval))"
   ]
  },
  {
   "cell_type": "code",
   "execution_count": 9,
   "metadata": {},
   "outputs": [
    {
     "data": {
      "text/plain": [
       "array([0.058017  , 0.05197257, 0.02116001, 0.01423254, 0.02679718,\n",
       "       0.01227533, 0.03368493, 0.00607589, 0.00238761, 0.00801643,\n",
       "       0.00181852, 0.04417946, 0.00906545, 0.00710951, 0.0656683 ,\n",
       "       0.00409355, 0.02129129, 0.00814754, 0.09315664, 0.00304109,\n",
       "       0.50780915])"
      ]
     },
     "execution_count": 9,
     "metadata": {},
     "output_type": "execute_result"
    }
   ],
   "source": [
    "rf.feature_importances_"
   ]
  },
  {
   "cell_type": "code",
   "execution_count": 76,
   "metadata": {},
   "outputs": [
    {
     "name": "stdout",
     "output_type": "stream",
     "text": [
      "0.9235\n",
      "0.925\n",
      "0.9206\n",
      "0.9219\n",
      "0.9276\n",
      "0.9268\n",
      "0.9228\n",
      "0.9242\n",
      "0.9207\n",
      "0.9218\n"
     ]
    }
   ],
   "source": [
    "kf=KFold(n_splits=10,random_state=0,shuffle=True)\n",
    "rf=RandomForestClassifier(n_estimators=100,max_depth=6,random_state=0,n_jobs=-1)\n",
    "\n",
    "for train_id,val_id in kf.split(df):\n",
    "    xtrain,xval=df.iloc[train_id].copy(),df.iloc[val_id].copy()\n",
    "\n",
    "    map_col=xtrain.groupby('col_20')['y'].mean().to_dict()\n",
    "    xtrain['col_20']=xtrain['col_20'].map(map_col)\n",
    "    xval['col_20']=xval['col_20'].map(map_col)\n",
    "    ytrain,yval=xtrain.loc[:,'y'],xval.loc[:,'y']\n",
    "    xtrain,xval=xtrain.iloc[:,:-1],xval.iloc[:,:-1]\n",
    "\n",
    "    rf.fit(xtrain,ytrain)\n",
    "    print(rf.score(xval,yval))"
   ]
  },
  {
   "cell_type": "code",
   "execution_count": 73,
   "metadata": {},
   "outputs": [
    {
     "data": {
      "text/plain": [
       "array([0.86070165, 0.18921643, 0.67510937, 0.89111253, 0.15115025,\n",
       "       0.02135765, 0.8048486 , 0.10600352, 0.03658537, 0.98106236])"
      ]
     },
     "execution_count": 73,
     "metadata": {},
     "output_type": "execute_result"
    }
   ],
   "source": [
    "xtrain.col_20.unique()"
   ]
  },
  {
   "cell_type": "code",
   "execution_count": 50,
   "metadata": {},
   "outputs": [],
   "source": [
    "rf=RandomForestClassifier(n_estimators=100,max_depth=20,random_state=0)"
   ]
  },
  {
   "cell_type": "code",
   "execution_count": 51,
   "metadata": {},
   "outputs": [
    {
     "data": {
      "text/plain": [
       "RandomForestClassifier(max_depth=20, random_state=0)"
      ]
     },
     "execution_count": 51,
     "metadata": {},
     "output_type": "execute_result"
    }
   ],
   "source": [
    "rf.fit(xtrain,ytrain)"
   ]
  },
  {
   "cell_type": "code",
   "execution_count": 53,
   "metadata": {},
   "outputs": [
    {
     "data": {
      "text/plain": [
       "(0.9617, 0.9934375)"
      ]
     },
     "execution_count": 53,
     "metadata": {},
     "output_type": "execute_result"
    }
   ],
   "source": [
    "rf.score(xtest,ytest),rf.score(xtrain,ytrain)"
   ]
  },
  {
   "cell_type": "markdown",
   "metadata": {},
   "source": [
    "## RFECV"
   ]
  },
  {
   "cell_type": "code",
   "execution_count": 79,
   "metadata": {},
   "outputs": [],
   "source": [
    "from sklearn.feature_selection import RFECV"
   ]
  },
  {
   "cell_type": "code",
   "execution_count": 82,
   "metadata": {},
   "outputs": [],
   "source": [
    "X=df.drop('y',axis=1)\n",
    "y=df['y']"
   ]
  },
  {
   "cell_type": "code",
   "execution_count": 83,
   "metadata": {},
   "outputs": [
    {
     "data": {
      "text/plain": [
       "RFECV(cv=5,\n",
       "      estimator=RandomForestClassifier(max_depth=20, min_samples_leaf=10,\n",
       "                                       n_jobs=-1, random_state=0),\n",
       "      scoring='accuracy')"
      ]
     },
     "execution_count": 83,
     "metadata": {},
     "output_type": "execute_result"
    }
   ],
   "source": [
    "rfe=RFECV(estimator=rf,cv=5,scoring='accuracy')\n",
    "rfe.fit(X,y)"
   ]
  },
  {
   "cell_type": "code",
   "execution_count": 89,
   "metadata": {},
   "outputs": [],
   "source": [
    "X_transformed = rfe.transform(X)"
   ]
  },
  {
   "cell_type": "code",
   "execution_count": 92,
   "metadata": {},
   "outputs": [
    {
     "data": {
      "text/plain": [
       "array([[ -4.60986106,  -4.99112217,   2.87487539, ...,   1.28606805,\n",
       "         -8.25057439,   0.69973963],\n",
       "       [ -1.64376471,  -1.11287986,   1.54645669, ...,   2.84063189,\n",
       "          1.89108362,  -0.8285572 ],\n",
       "       [ -1.04336582,   1.4244628 ,  -2.96323135, ...,  -3.34389493,\n",
       "         -2.85111595,  -0.78496269],\n",
       "       ...,\n",
       "       [ -0.11275432,  -2.43382332,  -2.10411208, ...,  -4.91974894,\n",
       "          1.16214469,   2.81247204],\n",
       "       [ -4.21653541,  -2.3341965 ,  -2.45475625, ...,  -4.61342604,\n",
       "         -4.70474029,   3.50355184],\n",
       "       [-10.04963747,   5.648913  ,  -0.75871803, ...,  -3.2046927 ,\n",
       "         -5.46153899,   1.84151251]])"
      ]
     },
     "execution_count": 92,
     "metadata": {},
     "output_type": "execute_result"
    }
   ],
   "source": [
    "X_transformed"
   ]
  },
  {
   "cell_type": "markdown",
   "metadata": {},
   "source": [
    "## Feature Importance"
   ]
  },
  {
   "cell_type": "code",
   "execution_count": 122,
   "metadata": {},
   "outputs": [],
   "source": [
    "from eli5 import show_weights, show_prediction, explain_prediction\n",
    "from eli5.formatters import format_as_text"
   ]
  },
  {
   "cell_type": "code",
   "execution_count": 80,
   "metadata": {},
   "outputs": [
    {
     "data": {
      "text/plain": [
       "array([0.0906415 , 0.05884074, 0.02685866, 0.02052799, 0.02598829,\n",
       "       0.01227632, 0.04605283, 0.01435457, 0.00903182, 0.02182733,\n",
       "       0.00645207, 0.04398979, 0.03613963, 0.02715003, 0.10551366,\n",
       "       0.0195239 , 0.04028528, 0.01522972, 0.10386326, 0.00778623,\n",
       "       0.26766637])"
      ]
     },
     "execution_count": 80,
     "metadata": {},
     "output_type": "execute_result"
    }
   ],
   "source": [
    "rf.feature_importances_"
   ]
  },
  {
   "cell_type": "code",
   "execution_count": 79,
   "metadata": {},
   "outputs": [
    {
     "data": {
      "text/html": [
       "\n",
       "    <style>\n",
       "    table.eli5-weights tr:hover {\n",
       "        filter: brightness(85%);\n",
       "    }\n",
       "</style>\n",
       "\n",
       "\n",
       "\n",
       "    \n",
       "\n",
       "    \n",
       "\n",
       "    \n",
       "\n",
       "    \n",
       "\n",
       "    \n",
       "\n",
       "    \n",
       "\n",
       "\n",
       "    \n",
       "\n",
       "    \n",
       "\n",
       "    \n",
       "\n",
       "    \n",
       "\n",
       "    \n",
       "\n",
       "    \n",
       "\n",
       "\n",
       "    \n",
       "\n",
       "    \n",
       "\n",
       "    \n",
       "\n",
       "    \n",
       "\n",
       "    \n",
       "        <table class=\"eli5-weights eli5-feature-importances\" style=\"border-collapse: collapse; border: none; margin-top: 0em; table-layout: auto;\">\n",
       "    <thead>\n",
       "    <tr style=\"border: none;\">\n",
       "        <th style=\"padding: 0 1em 0 0.5em; text-align: right; border: none;\">Weight</th>\n",
       "        <th style=\"padding: 0 0.5em 0 0.5em; text-align: left; border: none;\">Feature</th>\n",
       "    </tr>\n",
       "    </thead>\n",
       "    <tbody>\n",
       "    \n",
       "        <tr style=\"background-color: hsl(120, 100.00%, 80.00%); border: none;\">\n",
       "            <td style=\"padding: 0 1em 0 0.5em; text-align: right; border: none;\">\n",
       "                0.2677\n",
       "                \n",
       "                    &plusmn; 0.4988\n",
       "                \n",
       "            </td>\n",
       "            <td style=\"padding: 0 0.5em 0 0.5em; text-align: left; border: none;\">\n",
       "                col_20\n",
       "            </td>\n",
       "        </tr>\n",
       "    \n",
       "        <tr style=\"background-color: hsl(120, 100.00%, 89.58%); border: none;\">\n",
       "            <td style=\"padding: 0 1em 0 0.5em; text-align: right; border: none;\">\n",
       "                0.1055\n",
       "                \n",
       "                    &plusmn; 0.3098\n",
       "                \n",
       "            </td>\n",
       "            <td style=\"padding: 0 0.5em 0 0.5em; text-align: left; border: none;\">\n",
       "                col_14\n",
       "            </td>\n",
       "        </tr>\n",
       "    \n",
       "        <tr style=\"background-color: hsl(120, 100.00%, 89.69%); border: none;\">\n",
       "            <td style=\"padding: 0 1em 0 0.5em; text-align: right; border: none;\">\n",
       "                0.1039\n",
       "                \n",
       "                    &plusmn; 0.3435\n",
       "                \n",
       "            </td>\n",
       "            <td style=\"padding: 0 0.5em 0 0.5em; text-align: left; border: none;\">\n",
       "                col_18\n",
       "            </td>\n",
       "        </tr>\n",
       "    \n",
       "        <tr style=\"background-color: hsl(120, 100.00%, 90.63%); border: none;\">\n",
       "            <td style=\"padding: 0 1em 0 0.5em; text-align: right; border: none;\">\n",
       "                0.0906\n",
       "                \n",
       "                    &plusmn; 0.2547\n",
       "                \n",
       "            </td>\n",
       "            <td style=\"padding: 0 0.5em 0 0.5em; text-align: left; border: none;\">\n",
       "                col_0\n",
       "            </td>\n",
       "        </tr>\n",
       "    \n",
       "        <tr style=\"background-color: hsl(120, 100.00%, 93.07%); border: none;\">\n",
       "            <td style=\"padding: 0 1em 0 0.5em; text-align: right; border: none;\">\n",
       "                0.0588\n",
       "                \n",
       "                    &plusmn; 0.1867\n",
       "                \n",
       "            </td>\n",
       "            <td style=\"padding: 0 0.5em 0 0.5em; text-align: left; border: none;\">\n",
       "                col_1\n",
       "            </td>\n",
       "        </tr>\n",
       "    \n",
       "        <tr style=\"background-color: hsl(120, 100.00%, 94.17%); border: none;\">\n",
       "            <td style=\"padding: 0 1em 0 0.5em; text-align: right; border: none;\">\n",
       "                0.0461\n",
       "                \n",
       "                    &plusmn; 0.0759\n",
       "                \n",
       "            </td>\n",
       "            <td style=\"padding: 0 0.5em 0 0.5em; text-align: left; border: none;\">\n",
       "                col_6\n",
       "            </td>\n",
       "        </tr>\n",
       "    \n",
       "        <tr style=\"background-color: hsl(120, 100.00%, 94.35%); border: none;\">\n",
       "            <td style=\"padding: 0 1em 0 0.5em; text-align: right; border: none;\">\n",
       "                0.0440\n",
       "                \n",
       "                    &plusmn; 0.2028\n",
       "                \n",
       "            </td>\n",
       "            <td style=\"padding: 0 0.5em 0 0.5em; text-align: left; border: none;\">\n",
       "                col_11\n",
       "            </td>\n",
       "        </tr>\n",
       "    \n",
       "        <tr style=\"background-color: hsl(120, 100.00%, 94.69%); border: none;\">\n",
       "            <td style=\"padding: 0 1em 0 0.5em; text-align: right; border: none;\">\n",
       "                0.0403\n",
       "                \n",
       "                    &plusmn; 0.0682\n",
       "                \n",
       "            </td>\n",
       "            <td style=\"padding: 0 0.5em 0 0.5em; text-align: left; border: none;\">\n",
       "                col_16\n",
       "            </td>\n",
       "        </tr>\n",
       "    \n",
       "        <tr style=\"background-color: hsl(120, 100.00%, 95.08%); border: none;\">\n",
       "            <td style=\"padding: 0 1em 0 0.5em; text-align: right; border: none;\">\n",
       "                0.0361\n",
       "                \n",
       "                    &plusmn; 0.0413\n",
       "                \n",
       "            </td>\n",
       "            <td style=\"padding: 0 0.5em 0 0.5em; text-align: left; border: none;\">\n",
       "                col_12\n",
       "            </td>\n",
       "        </tr>\n",
       "    \n",
       "        <tr style=\"background-color: hsl(120, 100.00%, 95.97%); border: none;\">\n",
       "            <td style=\"padding: 0 1em 0 0.5em; text-align: right; border: none;\">\n",
       "                0.0272\n",
       "                \n",
       "                    &plusmn; 0.0727\n",
       "                \n",
       "            </td>\n",
       "            <td style=\"padding: 0 0.5em 0 0.5em; text-align: left; border: none;\">\n",
       "                col_13\n",
       "            </td>\n",
       "        </tr>\n",
       "    \n",
       "        <tr style=\"background-color: hsl(120, 100.00%, 96.00%); border: none;\">\n",
       "            <td style=\"padding: 0 1em 0 0.5em; text-align: right; border: none;\">\n",
       "                0.0269\n",
       "                \n",
       "                    &plusmn; 0.0603\n",
       "                \n",
       "            </td>\n",
       "            <td style=\"padding: 0 0.5em 0 0.5em; text-align: left; border: none;\">\n",
       "                col_2\n",
       "            </td>\n",
       "        </tr>\n",
       "    \n",
       "        <tr style=\"background-color: hsl(120, 100.00%, 96.09%); border: none;\">\n",
       "            <td style=\"padding: 0 1em 0 0.5em; text-align: right; border: none;\">\n",
       "                0.0260\n",
       "                \n",
       "                    &plusmn; 0.0870\n",
       "                \n",
       "            </td>\n",
       "            <td style=\"padding: 0 0.5em 0 0.5em; text-align: left; border: none;\">\n",
       "                col_4\n",
       "            </td>\n",
       "        </tr>\n",
       "    \n",
       "        <tr style=\"background-color: hsl(120, 100.00%, 96.54%); border: none;\">\n",
       "            <td style=\"padding: 0 1em 0 0.5em; text-align: right; border: none;\">\n",
       "                0.0218\n",
       "                \n",
       "                    &plusmn; 0.0470\n",
       "                \n",
       "            </td>\n",
       "            <td style=\"padding: 0 0.5em 0 0.5em; text-align: left; border: none;\">\n",
       "                col_9\n",
       "            </td>\n",
       "        </tr>\n",
       "    \n",
       "        <tr style=\"background-color: hsl(120, 100.00%, 96.69%); border: none;\">\n",
       "            <td style=\"padding: 0 1em 0 0.5em; text-align: right; border: none;\">\n",
       "                0.0205\n",
       "                \n",
       "                    &plusmn; 0.0516\n",
       "                \n",
       "            </td>\n",
       "            <td style=\"padding: 0 0.5em 0 0.5em; text-align: left; border: none;\">\n",
       "                col_3\n",
       "            </td>\n",
       "        </tr>\n",
       "    \n",
       "        <tr style=\"background-color: hsl(120, 100.00%, 96.80%); border: none;\">\n",
       "            <td style=\"padding: 0 1em 0 0.5em; text-align: right; border: none;\">\n",
       "                0.0195\n",
       "                \n",
       "                    &plusmn; 0.0231\n",
       "                \n",
       "            </td>\n",
       "            <td style=\"padding: 0 0.5em 0 0.5em; text-align: left; border: none;\">\n",
       "                col_15\n",
       "            </td>\n",
       "        </tr>\n",
       "    \n",
       "        <tr style=\"background-color: hsl(120, 100.00%, 97.31%); border: none;\">\n",
       "            <td style=\"padding: 0 1em 0 0.5em; text-align: right; border: none;\">\n",
       "                0.0152\n",
       "                \n",
       "                    &plusmn; 0.0626\n",
       "                \n",
       "            </td>\n",
       "            <td style=\"padding: 0 0.5em 0 0.5em; text-align: left; border: none;\">\n",
       "                col_17\n",
       "            </td>\n",
       "        </tr>\n",
       "    \n",
       "        <tr style=\"background-color: hsl(120, 100.00%, 97.42%); border: none;\">\n",
       "            <td style=\"padding: 0 1em 0 0.5em; text-align: right; border: none;\">\n",
       "                0.0144\n",
       "                \n",
       "                    &plusmn; 0.0350\n",
       "                \n",
       "            </td>\n",
       "            <td style=\"padding: 0 0.5em 0 0.5em; text-align: left; border: none;\">\n",
       "                col_7\n",
       "            </td>\n",
       "        </tr>\n",
       "    \n",
       "        <tr style=\"background-color: hsl(120, 100.00%, 97.69%); border: none;\">\n",
       "            <td style=\"padding: 0 1em 0 0.5em; text-align: right; border: none;\">\n",
       "                0.0123\n",
       "                \n",
       "                    &plusmn; 0.0473\n",
       "                \n",
       "            </td>\n",
       "            <td style=\"padding: 0 0.5em 0 0.5em; text-align: left; border: none;\">\n",
       "                col_5\n",
       "            </td>\n",
       "        </tr>\n",
       "    \n",
       "        <tr style=\"background-color: hsl(120, 100.00%, 98.13%); border: none;\">\n",
       "            <td style=\"padding: 0 1em 0 0.5em; text-align: right; border: none;\">\n",
       "                0.0090\n",
       "                \n",
       "                    &plusmn; 0.0183\n",
       "                \n",
       "            </td>\n",
       "            <td style=\"padding: 0 0.5em 0 0.5em; text-align: left; border: none;\">\n",
       "                col_8\n",
       "            </td>\n",
       "        </tr>\n",
       "    \n",
       "        <tr style=\"background-color: hsl(120, 100.00%, 98.32%); border: none;\">\n",
       "            <td style=\"padding: 0 1em 0 0.5em; text-align: right; border: none;\">\n",
       "                0.0078\n",
       "                \n",
       "                    &plusmn; 0.0177\n",
       "                \n",
       "            </td>\n",
       "            <td style=\"padding: 0 0.5em 0 0.5em; text-align: left; border: none;\">\n",
       "                col_19\n",
       "            </td>\n",
       "        </tr>\n",
       "    \n",
       "    \n",
       "        \n",
       "            <tr style=\"background-color: hsl(120, 100.00%, 98.32%); border: none;\">\n",
       "                <td colspan=\"2\" style=\"padding: 0 0.5em 0 0.5em; text-align: center; border: none; white-space: nowrap;\">\n",
       "                    <i>&hellip; 1 more &hellip;</i>\n",
       "                </td>\n",
       "            </tr>\n",
       "        \n",
       "    \n",
       "    </tbody>\n",
       "</table>\n",
       "    \n",
       "\n",
       "    \n",
       "\n",
       "\n",
       "    \n",
       "\n",
       "    \n",
       "\n",
       "    \n",
       "\n",
       "    \n",
       "\n",
       "    \n",
       "\n",
       "    \n",
       "\n",
       "\n",
       "\n"
      ],
      "text/plain": [
       "<IPython.core.display.HTML object>"
      ]
     },
     "execution_count": 79,
     "metadata": {},
     "output_type": "execute_result"
    }
   ],
   "source": [
    "show_weights(rf,feature_names=xtrain.columns.to_list())"
   ]
  },
  {
   "cell_type": "code",
   "execution_count": 134,
   "metadata": {},
   "outputs": [],
   "source": [
    "pred=explain_prediction(rf, xtest.iloc[5,:], feature_names=xtrain.columns.to_list(),top=(4,3))"
   ]
  },
  {
   "cell_type": "code",
   "execution_count": 135,
   "metadata": {},
   "outputs": [
    {
     "name": "stdout",
     "output_type": "stream",
     "text": [
      "Explained as: decision path\n",
      "\n",
      "Features with largest coefficients.\n",
      "\n",
      "Feature weights are calculated by following decision paths in trees\n",
      "of an ensemble (or a single tree for DecisionTreeClassifier).\n",
      "Each node of the tree has an output score, and contribution of a feature\n",
      "on the decision path is how much the score changes from parent to child.\n",
      "Weights of all features sum to the output score or proba of the estimator.\n",
      "\n",
      "Caveats:\n",
      "1. Feature weights just show if the feature contributed positively or\n",
      "   negatively to the final score, and does not show how increasing or\n",
      "   decreasing the feature value will change the prediction.\n",
      "2. In some cases, feature weight can be close to zero for an important feature.\n",
      "   For example, in a single tree that computes XOR function, the feature at the\n",
      "   top of the tree will have zero weight because expected scores for both\n",
      "   branches are equal, so decision at the top feature does not change the\n",
      "   expected score. For an ensemble predicting XOR functions it might not be\n",
      "   a problem, but it is not reliable if most trees happen to choose the same\n",
      "   feature at the top.\n",
      "\n",
      "y=0 (probability=0.578) top features\n",
      "Contribution  Feature\n",
      "------------  -------\n",
      "      +0.500  <BIAS> \n",
      "      +0.094  col_20 \n",
      "      +0.091  col_18 \n",
      "      +0.079  col_14 \n",
      " … 6 more positive … \n",
      " … 9 more negative … \n",
      "      -0.042  col_12 \n",
      "      -0.052  col_0  \n",
      "      -0.118  col_6  \n",
      "\n"
     ]
    }
   ],
   "source": [
    "print(format_as_text(pred))"
   ]
  },
  {
   "cell_type": "code",
   "execution_count": 133,
   "metadata": {},
   "outputs": [
    {
     "data": {
      "text/plain": [
       "array([[0.5875753 , 0.4124247 ],\n",
       "       [0.94080996, 0.05919004],\n",
       "       [0.94168722, 0.05831278],\n",
       "       [0.91478625, 0.08521375],\n",
       "       [0.97470156, 0.02529844],\n",
       "       [0.57834607, 0.42165393]])"
      ]
     },
     "execution_count": 133,
     "metadata": {},
     "output_type": "execute_result"
    }
   ],
   "source": [
    "rf.predict_proba(xtest)[:6]"
   ]
  }
 ],
 "metadata": {
  "interpreter": {
   "hash": "f867c1da995947098dea1a39f903899f4ebf9970b3ec23fc161ccb1d8cbf1c2e"
  },
  "kernelspec": {
   "display_name": "Python 3.9.5 ('base')",
   "language": "python",
   "name": "python3"
  },
  "language_info": {
   "codemirror_mode": {
    "name": "ipython",
    "version": 3
   },
   "file_extension": ".py",
   "mimetype": "text/x-python",
   "name": "python",
   "nbconvert_exporter": "python",
   "pygments_lexer": "ipython3",
   "version": "3.9.5"
  },
  "orig_nbformat": 4
 },
 "nbformat": 4,
 "nbformat_minor": 2
}
