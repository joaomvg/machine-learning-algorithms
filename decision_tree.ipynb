{
 "cells": [
  {
   "cell_type": "code",
   "execution_count": 220,
   "metadata": {},
   "outputs": [],
   "source": [
    "import pandas as pd\n",
    "import numpy as np\n",
    "import seaborn as sns\n",
    "from sklearn.datasets import load_iris\n",
    "from sklearn.metrics import accuracy_score\n",
    "from collections import Counter\n",
    "sns.set()"
   ]
  },
  {
   "cell_type": "code",
   "execution_count": 2,
   "metadata": {},
   "outputs": [],
   "source": [
    "iris=load_iris()"
   ]
  },
  {
   "cell_type": "code",
   "execution_count": 3,
   "metadata": {},
   "outputs": [],
   "source": [
    "features=iris['data']\n",
    "target=iris['target']"
   ]
  },
  {
   "cell_type": "markdown",
   "metadata": {},
   "source": [
    "# Binary Search Tree warmup"
   ]
  },
  {
   "cell_type": "code",
   "execution_count": 4,
   "metadata": {},
   "outputs": [],
   "source": [
    "class BST:\n",
    "    def __init__(self,value):\n",
    "        self.head=value\n",
    "        self.right=None\n",
    "        self.left=None\n",
    "        \n",
    "    def insert(self,value):\n",
    "        if value>self.head:\n",
    "            if self.right==None:\n",
    "                self.right=BST(value)\n",
    "            else:\n",
    "                return self.right.insert(value)\n",
    "        else:\n",
    "            if self.left==None:\n",
    "                self.left=BST(value)\n",
    "            else:\n",
    "                return self.left.insert(value)\n",
    "    \n",
    "    def read_all(self,node):\n",
    "        if node is not None:\n",
    "            print(node.head)\n",
    "            self.read_all(node.right)\n",
    "            self.read_all(node.left)\n",
    "        if node is None:\n",
    "            pass"
   ]
  },
  {
   "cell_type": "markdown",
   "metadata": {},
   "source": [
    "# Node class"
   ]
  },
  {
   "cell_type": "code",
   "execution_count": 146,
   "metadata": {},
   "outputs": [],
   "source": [
    "class Node:\n",
    "    def __init__(self,cl_dic,entropy=None,feature=None,idx=None,depth=None):\n",
    "        self.feature=feature # (feature_num, threshold)\n",
    "        self.idx_subset=idx\n",
    "        self.depth=depth\n",
    "        self.entropy=entropy\n",
    "        self.cl_dic=cl_dic\n",
    "        self.right=None\n",
    "        self.left=None\n",
    "        self.prediction=None\n",
    "    \n",
    "    def cross_entropy(self,y,idx):\n",
    "        subset=y[idx]\n",
    "        z=np.zeros(len(self.cl_dic))\n",
    "        for t in subset:\n",
    "            k=self.cl_dic[t]\n",
    "            z[k]+=1\n",
    "            \n",
    "        pred=z.argmax()\n",
    "        z=z/z.sum()\n",
    "        z=np.where(z==0,1,z)\n",
    "        ent=-z*np.log2(z)\n",
    "        ent=ent.sum()\n",
    "        \n",
    "        return pred,ent\n",
    "        \n",
    "    def entropy_split(self,x):\n",
    "        \n",
    "        z=x.copy()\n",
    "        w=x.copy()\n",
    "        \n",
    "        w=w/w.sum(1).reshape(-1,1)\n",
    "        w=np.where(w==0,1,w)\n",
    "        entropy1=-w*np.log2(w)\n",
    "        entropy1=entropy1.sum(1)\n",
    "        \n",
    "        z=z[-1]-z\n",
    "        s=z.sum(1).reshape(-1,1)\n",
    "        s[-1][0]=1\n",
    "        z=z/s\n",
    "        z=np.where(z==0,1,z)\n",
    "        \n",
    "        entropy2=-z*np.log2(z)\n",
    "        entropy2=entropy2.sum(1)\n",
    "        total=entropy1+entropy2\n",
    "        j=total.argmin()\n",
    "        \n",
    "        return j,entropy1[j],entropy2[j]\n",
    "    \n",
    "    def best_feature(self,x,y,idx_subset):\n",
    "        \n",
    "        w=np.zeros(x.shape[1])\n",
    "        indices=[]\n",
    "        pos=[]\n",
    "        for f in range(x.shape[1]):\n",
    "            idx=np.argsort(x[:,f],axis=0)\n",
    "            indices.append(idx.copy())\n",
    "            y_sort=y[idx]\n",
    "            z=np.zeros((x.shape[0],len(self.cl_dic)))\n",
    "            cum=np.zeros(z.shape[1])\n",
    "            for i,t in enumerate(y_sort):\n",
    "                k=self.cl_dic[t]\n",
    "                cum[k]+=1\n",
    "                z[i]=cum[:]\n",
    "            j,e1,e2=self.entropy_split(z)\n",
    "            pos.append(j)\n",
    "            w[f]=e1+e2\n",
    "            \n",
    "            \n",
    "        num=w.argmin() #best feature index\n",
    "        idx=indices[num]\n",
    "        j=pos[num]\n",
    "        value=x[idx][j,num]\n",
    "        #multiple values for the same feature\n",
    "        i=0\n",
    "        while x[idx][j+i,num]==value:\n",
    "            i+=1\n",
    "        j=j+i-1\n",
    "        \n",
    "        value=x[idx][j:j+2,num].mean()\n",
    "        idx_left=idx_subset[idx[:j+1]]\n",
    "        idx_right=idx_subset[idx[j+1:]]\n",
    "        \n",
    "        pred_l,entropy_left=self.cross_entropy(y,idx[:j+1])\n",
    "        pred_r,entropy_right=self.cross_entropy(y,idx[j+1:])\n",
    "        j=pos[num]\n",
    "        \n",
    "        return num,value,pred_l,entropy_left,pred_r,entropy_right,idx_left,idx_right\n",
    "    \n",
    "    def split(self,node,x,y):\n",
    "        if node is not None and node.entropy==0:\n",
    "            pass\n",
    "        if node is not None and node.feature is None:\n",
    "            #split\n",
    "            idx=node.idx_subset\n",
    "            a,b,pl,el,pr,er,idl,idr=self.best_feature(x[idx],y[idx],idx)\n",
    "            node.feature=(a,b)\n",
    "            node.right=Node(entropy=er,idx=idr,depth=node.depth+1,cl_dic=node.cl_dic)\n",
    "            node.right.prediction=pr #prediction\n",
    "            node.left=Node(entropy=el,idx=idl,depth=node.depth+1,cl_dic=node.cl_dic)\n",
    "            node.left.prediction=pl #prediction\n",
    "        elif node is not None and node.feature is not None:\n",
    "            #go down on tree\n",
    "            self.split(node.right,x,y)\n",
    "            self.split(node.left,x,y)"
   ]
  },
  {
   "cell_type": "markdown",
   "metadata": {},
   "source": [
    "# Decision Tree Class"
   ]
  },
  {
   "cell_type": "code",
   "execution_count": 212,
   "metadata": {},
   "outputs": [],
   "source": [
    "class DTreeClassifier:\n",
    "    def __init__(self,criterion='entropy',depth=None):\n",
    "        self.criterion='entropy'\n",
    "        print('Using entropy criterion')\n",
    "        self.max_depth=depth\n",
    "        self.classes=None\n",
    "        self.num_features=None\n",
    "        self.head=None\n",
    "        \n",
    "    def fit(self,x,y):\n",
    "        self.classes=sorted(list(set(y)))\n",
    "        self.num_features=x.shape[1]\n",
    "        cl_dic={c:i for i,c in enumerate(self.classes)}\n",
    "        idx=np.arange(x.shape[0])\n",
    "        \n",
    "        self.head=Node(cl_dic=cl_dic,idx=idx,depth=0)\n",
    "        _,self.head.entropy=self.head.cross_entropy(y,idx)\n",
    "        \n",
    "        for i in range(self.max_depth):\n",
    "            self.head.split(self.head,x,y)\n",
    "    \n",
    "    #private method\n",
    "    def __recurrence(self,node,x):\n",
    "        if node is not None and node.feature is not None:\n",
    "            f,threshold=node.feature\n",
    "            if x[f]>threshold:\n",
    "                return self.__recurrence(node.right,x)\n",
    "            else:\n",
    "                return self.__recurrence(node.left,x)\n",
    "        elif node is not None and node.feature is None:\n",
    "            return node.prediction\n",
    "            \n",
    "    def predict(self,x):\n",
    "        pred=np.zeros(x.shape[0])\n",
    "        for i,xi in enumerate(x):\n",
    "            pred[i]=self.__recurrence(self.head,xi)\n",
    "        \n",
    "        return pred"
   ]
  },
  {
   "cell_type": "code",
   "execution_count": 213,
   "metadata": {},
   "outputs": [
    {
     "name": "stdout",
     "output_type": "stream",
     "text": [
      "Using entropy criterion\n"
     ]
    }
   ],
   "source": [
    "DT=DTreeClassifier(depth=2)"
   ]
  },
  {
   "cell_type": "code",
   "execution_count": 214,
   "metadata": {},
   "outputs": [],
   "source": [
    "DT.fit(features,target)"
   ]
  },
  {
   "cell_type": "code",
   "execution_count": 209,
   "metadata": {},
   "outputs": [
    {
     "data": {
      "text/plain": [
       "array([5.1, 3.5, 1.4, 0.2])"
      ]
     },
     "execution_count": 209,
     "metadata": {},
     "output_type": "execute_result"
    }
   ],
   "source": [
    "features[0]"
   ]
  },
  {
   "cell_type": "code",
   "execution_count": 217,
   "metadata": {},
   "outputs": [],
   "source": [
    "pred=DT.predict(features)"
   ]
  },
  {
   "cell_type": "code",
   "execution_count": 221,
   "metadata": {},
   "outputs": [
    {
     "data": {
      "text/plain": [
       "0.96"
      ]
     },
     "execution_count": 221,
     "metadata": {},
     "output_type": "execute_result"
    }
   ],
   "source": [
    "accuracy_score(pred,target)"
   ]
  },
  {
   "cell_type": "markdown",
   "metadata": {},
   "source": [
    "# Sklearn Decision Tree Classifier"
   ]
  },
  {
   "cell_type": "code",
   "execution_count": 63,
   "metadata": {},
   "outputs": [],
   "source": [
    "from sklearn.tree import DecisionTreeClassifier\n",
    "from sklearn import tree\n",
    "import matplotlib.pyplot as plt"
   ]
  },
  {
   "cell_type": "code",
   "execution_count": 64,
   "metadata": {},
   "outputs": [],
   "source": [
    "dtree=DecisionTreeClassifier()"
   ]
  },
  {
   "cell_type": "code",
   "execution_count": 65,
   "metadata": {},
   "outputs": [
    {
     "data": {
      "text/plain": [
       "{'ccp_alpha': 0.0,\n",
       " 'class_weight': None,\n",
       " 'criterion': 'gini',\n",
       " 'max_depth': None,\n",
       " 'max_features': None,\n",
       " 'max_leaf_nodes': None,\n",
       " 'min_impurity_decrease': 0.0,\n",
       " 'min_impurity_split': None,\n",
       " 'min_samples_leaf': 1,\n",
       " 'min_samples_split': 2,\n",
       " 'min_weight_fraction_leaf': 0.0,\n",
       " 'presort': 'deprecated',\n",
       " 'random_state': None,\n",
       " 'splitter': 'best'}"
      ]
     },
     "execution_count": 65,
     "metadata": {},
     "output_type": "execute_result"
    }
   ],
   "source": [
    "dtree.get_params()"
   ]
  },
  {
   "cell_type": "code",
   "execution_count": 66,
   "metadata": {},
   "outputs": [],
   "source": [
    "dtree.max_depth=2\n",
    "dtree.criterion='entropy'"
   ]
  },
  {
   "cell_type": "code",
   "execution_count": 67,
   "metadata": {},
   "outputs": [
    {
     "data": {
      "text/plain": [
       "DecisionTreeClassifier(ccp_alpha=0.0, class_weight=None, criterion='entropy',\n",
       "                       max_depth=2, max_features=None, max_leaf_nodes=None,\n",
       "                       min_impurity_decrease=0.0, min_impurity_split=None,\n",
       "                       min_samples_leaf=1, min_samples_split=2,\n",
       "                       min_weight_fraction_leaf=0.0, presort='deprecated',\n",
       "                       random_state=None, splitter='best')"
      ]
     },
     "execution_count": 67,
     "metadata": {},
     "output_type": "execute_result"
    }
   ],
   "source": [
    "dtree.fit(features,target)"
   ]
  },
  {
   "cell_type": "code",
   "execution_count": 68,
   "metadata": {},
   "outputs": [
    {
     "data": {
      "text/plain": [
       "[Text(133.92000000000002, 181.2, 'X[2] <= 2.45\\nentropy = 1.585\\nsamples = 150\\nvalue = [50, 50, 50]'),\n",
       " Text(66.96000000000001, 108.72, 'entropy = 0.0\\nsamples = 50\\nvalue = [50, 0, 0]'),\n",
       " Text(200.88000000000002, 108.72, 'X[3] <= 1.75\\nentropy = 1.0\\nsamples = 100\\nvalue = [0, 50, 50]'),\n",
       " Text(133.92000000000002, 36.23999999999998, 'entropy = 0.445\\nsamples = 54\\nvalue = [0, 49, 5]'),\n",
       " Text(267.84000000000003, 36.23999999999998, 'entropy = 0.151\\nsamples = 46\\nvalue = [0, 1, 45]')]"
      ]
     },
     "execution_count": 68,
     "metadata": {},
     "output_type": "execute_result"
    },
    {
     "data": {
      "image/png": "[encoded data removed]",
      "text/plain": [
       "<Figure size 432x288 with 1 Axes>"
      ]
     },
     "metadata": {},
     "output_type": "display_data"
    }
   ],
   "source": [
    "tree.plot_tree(dtree)"
   ]
  },
  {
   "cell_type": "code",
   "execution_count": null,
   "metadata": {},
   "outputs": [],
   "source": []
  }
 ],
 "metadata": {
  "kernelspec": {
   "display_name": "Python 3",
   "language": "python",
   "name": "python3"
  },
  "language_info": {
   "codemirror_mode": {
    "name": "ipython",
    "version": 3
   },
   "file_extension": ".py",
   "mimetype": "text/x-python",
   "name": "python",
   "nbconvert_exporter": "python",
   "pygments_lexer": "ipython3",
   "version": "3.6.8"
  }
 },
 "nbformat": 4,
 "nbformat_minor": 4
}
