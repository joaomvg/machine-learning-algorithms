{
 "cells": [
  {
   "cell_type": "code",
   "execution_count": 204,
   "metadata": {},
   "outputs": [],
   "source": [
    "import pandas as pd\n",
    "import numpy as np\n",
    "import multiprocess as mp\n",
    "import matplotlib.pyplot as plt"
   ]
  },
  {
   "cell_type": "code",
   "execution_count": 2,
   "metadata": {},
   "outputs": [],
   "source": [
    "from sklearn.linear_model import LogisticRegression\n",
    "from sklearn.ensemble import RandomForestClassifier, GradientBoostingClassifier\n",
    "from sklearn.tree import DecisionTreeClassifier\n",
    "from sklearn.model_selection import train_test_split"
   ]
  },
  {
   "cell_type": "markdown",
   "metadata": {},
   "source": [
    "# Model\n",
    "\n",
    "$$p=\\frac{1}{1+e^{-\\sum_i c_i x^i}}$$"
   ]
  },
  {
   "cell_type": "code",
   "execution_count": 322,
   "metadata": {},
   "outputs": [],
   "source": [
    "def model(X):\n",
    "    n=X.shape[1]\n",
    "    err=np.random.normal(0,0.1,X.shape[0])\n",
    "    c1=np.random.normal(0,10,5)\n",
    "    c2=np.random.normal(0,0.01,n-5)\n",
    "    C=np.concatenate([c1,c2])\n",
    "    np.random.shuffle(C)\n",
    "    w=np.dot(X,C)\n",
    "    p=1/(1+np.exp(-w+err))\n",
    "\n",
    "    return (p>0.5).astype('int')"
   ]
  },
  {
   "cell_type": "code",
   "execution_count": 429,
   "metadata": {},
   "outputs": [],
   "source": [
    "N=1000"
   ]
  },
  {
   "cell_type": "code",
   "execution_count": 428,
   "metadata": {},
   "outputs": [],
   "source": [
    "def scores(t):\n",
    "    ml,d=t\n",
    "    X=np.random.rand(N,d)*2-1\n",
    "    Y=model(X)\n",
    "    xtrain,xtest,ytrain, ytest=train_test_split(X,Y,test_size=0.2)\n",
    "    ml.fit(xtrain,ytrain)\n",
    "    acc_train=ml.score(xtrain,ytrain)\n",
    "    acc_test=ml.score(xtest,ytest)\n",
    "    \n",
    "    return acc_train, acc_test"
   ]
  },
  {
   "cell_type": "code",
   "execution_count": 422,
   "metadata": {},
   "outputs": [],
   "source": [
    "dims=[8,10,15,20,25,50,100,200,300,400,500,600,700,800,1000]"
   ]
  },
  {
   "cell_type": "code",
   "execution_count": 423,
   "metadata": {},
   "outputs": [],
   "source": [
    "lst=[(DecisionTreeClassifier(max_depth=5,max_features=8),d) for d in dims]"
   ]
  },
  {
   "cell_type": "code",
   "execution_count": 331,
   "metadata": {},
   "outputs": [],
   "source": [
    "lst=[(LogisticRegression(),d) for d in dims]"
   ]
  },
  {
   "cell_type": "code",
   "execution_count": 426,
   "metadata": {},
   "outputs": [],
   "source": [
    "lst=[(GradientBoostingClassifier(n_estimators=10),d) for d in dims]"
   ]
  },
  {
   "cell_type": "code",
   "execution_count": 430,
   "metadata": {},
   "outputs": [
    {
     "data": {
      "text/plain": [
       "<matplotlib.legend.Legend at 0x7f992359ae80>"
      ]
     },
     "execution_count": 430,
     "metadata": {},
     "output_type": "execute_result"
    },
    {
     "data": {
      "image/png": "[encoded data removed]",
      "text/plain": [
       "<Figure size 432x288 with 1 Axes>"
      ]
     },
     "metadata": {
      "needs_background": "light"
     },
     "output_type": "display_data"
    }
   ],
   "source": [
    "with mp.Pool(mp.cpu_count()) as pool:\n",
    "    result=pool.map(scores,lst)\n",
    "    \n",
    "x=[a for a,_ in result]\n",
    "y=[b for _,b in result]\n",
    "plt.plot(dims,x)\n",
    "plt.plot(dims,y)\n",
    "plt.legend(['train','test'])"
   ]
  },
  {
   "cell_type": "code",
   "execution_count": 435,
   "metadata": {},
   "outputs": [],
   "source": [
    "df=pd.DataFrame(X)"
   ]
  },
  {
   "cell_type": "code",
   "execution_count": 439,
   "metadata": {},
   "outputs": [],
   "source": [
    "df=df[df>0.1]"
   ]
  },
  {
   "cell_type": "code",
   "execution_count": 444,
   "metadata": {},
   "outputs": [],
   "source": [
    "dt=DecisionTreeClassifier(max_depth=5)"
   ]
  },
  {
   "cell_type": "markdown",
   "metadata": {},
   "source": [
    "# Logistic Regression"
   ]
  },
  {
   "cell_type": "code",
   "execution_count": 22,
   "metadata": {},
   "outputs": [],
   "source": [
    "lgr=LogisticRegression()"
   ]
  },
  {
   "cell_type": "code",
   "execution_count": 51,
   "metadata": {},
   "outputs": [
    {
     "data": {
      "text/plain": [
       "([0.9925, 0.9925, 0.99375, 0.995, 0.99125, 1.0, 1.0],\n",
       " [1.0, 0.97, 0.975, 0.96, 0.95, 0.835, 0.81])"
      ]
     },
     "execution_count": 51,
     "metadata": {},
     "output_type": "execute_result"
    }
   ],
   "source": [
    "mls,a,b=scores(lgr,N=1000)\n",
    "a,b"
   ]
  },
  {
   "cell_type": "code",
   "execution_count": 56,
   "metadata": {},
   "outputs": [
    {
     "data": {
      "text/plain": [
       "array([[ 7.99104630e-03,  4.23148377e-02,  2.49483120e-01,\n",
       "         2.34309683e-02, -3.16772733e+00,  5.75391779e+00,\n",
       "        -4.41840461e-03, -5.67056148e-03,  3.47984477e+00,\n",
       "        -9.92118271e-03, -1.73132374e-02, -9.21099915e-02,\n",
       "        -3.76580335e-01, -3.82408095e-02,  4.01982143e-02,\n",
       "         2.30760634e+00,  4.32259500e-02,  1.52864512e-01,\n",
       "        -6.76229746e-02, -4.41156259e-02]])"
      ]
     },
     "execution_count": 56,
     "metadata": {},
     "output_type": "execute_result"
    }
   ],
   "source": [
    "mls[2]"
   ]
  },
  {
   "cell_type": "markdown",
   "metadata": {},
   "source": [
    "# Gradboosting"
   ]
  },
  {
   "cell_type": "code",
   "execution_count": 26,
   "metadata": {},
   "outputs": [],
   "source": [
    "gb=GradientBoostingClassifier(n_estimators=5)"
   ]
  },
  {
   "cell_type": "code",
   "execution_count": 72,
   "metadata": {},
   "outputs": [
    {
     "data": {
      "text/plain": [
       "([0.86475, 0.817125, 0.869, 0.839625, 0.90725, 0.901125, 0.894125],\n",
       " [0.8515, 0.8145, 0.8775, 0.83, 0.9, 0.88, 0.886])"
      ]
     },
     "execution_count": 72,
     "metadata": {},
     "output_type": "execute_result"
    }
   ],
   "source": [
    "_,a,b=scores(gb,N=10000)\n",
    "a,b"
   ]
  },
  {
   "cell_type": "markdown",
   "metadata": {},
   "source": [
    "# Decision Tree"
   ]
  },
  {
   "cell_type": "code",
   "execution_count": 62,
   "metadata": {},
   "outputs": [],
   "source": [
    "dt=DecisionTreeClassifier(max_depth=5)"
   ]
  },
  {
   "cell_type": "code",
   "execution_count": 68,
   "metadata": {},
   "outputs": [
    {
     "data": {
      "text/plain": [
       "([0.975, 1.0, 0.9875, 0.9875, 1.0, 1.0, 1.0],\n",
       " [0.75, 0.7, 0.7, 0.55, 0.8, 0.9, 0.85])"
      ]
     },
     "execution_count": 68,
     "metadata": {},
     "output_type": "execute_result"
    }
   ],
   "source": [
    "_,a,b=scores(dt,N=100)\n",
    "a,b"
   ]
  }
 ],
 "metadata": {
  "interpreter": {
   "hash": "f867c1da995947098dea1a39f903899f4ebf9970b3ec23fc161ccb1d8cbf1c2e"
  },
  "kernelspec": {
   "display_name": "Python 3.9.5 64-bit ('base': conda)",
   "language": "python",
   "name": "python3"
  },
  "language_info": {
   "codemirror_mode": {
    "name": "ipython",
    "version": 3
   },
   "file_extension": ".py",
   "mimetype": "text/x-python",
   "name": "python",
   "nbconvert_exporter": "python",
   "pygments_lexer": "ipython3",
   "version": "3.9.5"
  },
  "orig_nbformat": 4
 },
 "nbformat": 4,
 "nbformat_minor": 2
}
