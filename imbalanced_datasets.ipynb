{
 "cells": [
  {
   "cell_type": "code",
   "execution_count": 1,
   "metadata": {},
   "outputs": [],
   "source": [
    "import pandas as pd\n",
    "import numpy as np\n",
    "import matplotlib.pyplot as plt\n",
    "import seaborn as sns\n",
    "\n",
    "from sklearn.preprocessing import LabelEncoder, OrdinalEncoder"
   ]
  },
  {
   "cell_type": "code",
   "execution_count": 2,
   "metadata": {},
   "outputs": [],
   "source": [
    "mean=np.random.rand(5)*100\n",
    "cov=np.random.rand(5,5)\n",
    "cov=cov+cov.T"
   ]
  },
  {
   "cell_type": "code",
   "execution_count": 3,
   "metadata": {},
   "outputs": [],
   "source": [
    "cov=np.diag(np.random.rand(5)*10)"
   ]
  },
  {
   "cell_type": "code",
   "execution_count": 4,
   "metadata": {},
   "outputs": [
    {
     "data": {
      "text/plain": [
       "array([[8.58435009, 0.        , 0.        , 0.        , 0.        ],\n",
       "       [0.        , 6.26374005, 0.        , 0.        , 0.        ],\n",
       "       [0.        , 0.        , 8.44903795, 0.        , 0.        ],\n",
       "       [0.        , 0.        , 0.        , 2.00710841, 0.        ],\n",
       "       [0.        , 0.        , 0.        , 0.        , 5.93313966]])"
      ]
     },
     "execution_count": 4,
     "metadata": {},
     "output_type": "execute_result"
    }
   ],
   "source": [
    "cov"
   ]
  },
  {
   "cell_type": "code",
   "execution_count": 5,
   "metadata": {},
   "outputs": [],
   "source": [
    "data=np.random.multivariate_normal(mean=mean, cov=cov, size=10**5)"
   ]
  },
  {
   "cell_type": "code",
   "execution_count": 6,
   "metadata": {},
   "outputs": [
    {
     "data": {
      "text/plain": [
       "array([0.11649106, 0.15964903, 0.11835667, 0.49822919, 0.16854483])"
      ]
     },
     "execution_count": 6,
     "metadata": {},
     "output_type": "execute_result"
    }
   ],
   "source": [
    "1/cov.diagonal()"
   ]
  },
  {
   "cell_type": "code",
   "execution_count": 7,
   "metadata": {},
   "outputs": [],
   "source": [
    "log_prob =data-mean\n",
    "log_prob =log_prob*log_prob/cov.diagonal()\n",
    "log_prob =log_prob.sum(axis=1)"
   ]
  },
  {
   "cell_type": "code",
   "execution_count": 8,
   "metadata": {},
   "outputs": [],
   "source": [
    "T=np.quantile(log_prob, 0.95)"
   ]
  },
  {
   "cell_type": "code",
   "execution_count": 9,
   "metadata": {},
   "outputs": [],
   "source": [
    "df=pd.DataFrame(data, columns=['x1','x2','x3','x4','x5'])\n",
    "df['target']=(log_prob>T).astype(int)"
   ]
  },
  {
   "cell_type": "markdown",
   "metadata": {},
   "source": [
    "# Modelling"
   ]
  },
  {
   "cell_type": "code",
   "execution_count": null,
   "metadata": {},
   "outputs": [],
   "source": [
    "from sklearn.model_selection import StratifiedKFold, GridSearchCV, train_test_split\n",
    "from sklearn.metrics import accuracy_score, f1_score, precision_score, recall_score, roc_auc_score,average_precision_score\n",
    "from sklearn.ensemble import RandomForestClassifier, GradientBoostingClassifier\n",
    "from sklearn.linear_model import LogisticRegression"
   ]
  },
  {
   "cell_type": "code",
   "execution_count": 11,
   "metadata": {},
   "outputs": [],
   "source": [
    "def true_positive_rate(y_true, y_pred):\n",
    "    return recall_score(y_true, y_pred)\n",
    "\n",
    "def false_positive_rate(y_true, y_pred):\n",
    "    idx=y_true==0\n",
    "    return ypred[idx].mean()"
   ]
  },
  {
   "cell_type": "code",
   "execution_count": 12,
   "metadata": {},
   "outputs": [],
   "source": [
    "X=df.drop('target', axis=1)\n",
    "y=df['target']\n",
    "xtrain, xtest, ytrain, ytest = train_test_split(X, y, test_size=0.2,stratify=y, random_state=42)"
   ]
  },
  {
   "cell_type": "code",
   "execution_count": 13,
   "metadata": {},
   "outputs": [
    {
     "data": {
      "text/plain": [
       "x1    8.531523\n",
       "x2    6.278495\n",
       "x3    8.441658\n",
       "x4    1.995327\n",
       "x5    5.883511\n",
       "dtype: float64"
      ]
     },
     "execution_count": 13,
     "metadata": {},
     "output_type": "execute_result"
    }
   ],
   "source": [
    "xtrain.var(0)"
   ]
  },
  {
   "cell_type": "code",
   "execution_count": 176,
   "metadata": {},
   "outputs": [],
   "source": [
    "xtrain_sq=(xtrain-xtrain.mean(0))/xtrain.std(0)\n",
    "#xtrain_sq=xtrain_sq*xtrain_sq"
   ]
  },
  {
   "cell_type": "code",
   "execution_count": 107,
   "metadata": {},
   "outputs": [
    {
     "data": {
      "text/plain": [
       "(0.05, 0.05)"
      ]
     },
     "execution_count": 107,
     "metadata": {},
     "output_type": "execute_result"
    }
   ],
   "source": [
    "ytrain.mean(), ytest.mean()"
   ]
  },
  {
   "cell_type": "code",
   "execution_count": 44,
   "metadata": {},
   "outputs": [],
   "source": [
    "rf=RandomForestClassifier(n_estimators=10, random_state=42,n_jobs=-1)\n",
    "param_grid = {'max_depth': [3,5],'n_estimators':[3,5,10], 'min_samples_split':[10]}"
   ]
  },
  {
   "cell_type": "code",
   "execution_count": 51,
   "metadata": {},
   "outputs": [],
   "source": [
    "cv=StratifiedKFold(n_splits=5, random_state=42, shuffle=True)\n",
    "gcv=GridSearchCV(estimator=rf, param_grid=param_grid, scoring='average_precision', cv=cv, verbose=1)"
   ]
  },
  {
   "cell_type": "code",
   "execution_count": 52,
   "metadata": {},
   "outputs": [
    {
     "name": "stdout",
     "output_type": "stream",
     "text": [
      "Fitting 5 folds for each of 6 candidates, totalling 30 fits\n"
     ]
    },
    {
     "data": {
      "text/plain": [
       "GridSearchCV(cv=StratifiedKFold(n_splits=5, random_state=42, shuffle=True),\n",
       "             estimator=RandomForestClassifier(n_estimators=10, n_jobs=-1,\n",
       "                                              random_state=42),\n",
       "             param_grid={'max_depth': [3, 5], 'min_samples_split': [10],\n",
       "                         'n_estimators': [3, 5, 10]},\n",
       "             scoring='average_precision', verbose=1)"
      ]
     },
     "execution_count": 52,
     "metadata": {},
     "output_type": "execute_result"
    }
   ],
   "source": [
    "gcv.fit(xtrain, ytrain)"
   ]
  },
  {
   "cell_type": "code",
   "execution_count": 53,
   "metadata": {},
   "outputs": [
    {
     "data": {
      "text/html": [
       "<div>\n",
       "<style scoped>\n",
       "    .dataframe tbody tr th:only-of-type {\n",
       "        vertical-align: middle;\n",
       "    }\n",
       "\n",
       "    .dataframe tbody tr th {\n",
       "        vertical-align: top;\n",
       "    }\n",
       "\n",
       "    .dataframe thead th {\n",
       "        text-align: right;\n",
       "    }\n",
       "</style>\n",
       "<table border=\"1\" class=\"dataframe\">\n",
       "  <thead>\n",
       "    <tr style=\"text-align: right;\">\n",
       "      <th></th>\n",
       "      <th>mean_fit_time</th>\n",
       "      <th>std_fit_time</th>\n",
       "      <th>mean_score_time</th>\n",
       "      <th>std_score_time</th>\n",
       "      <th>param_max_depth</th>\n",
       "      <th>param_min_samples_split</th>\n",
       "      <th>param_n_estimators</th>\n",
       "      <th>params</th>\n",
       "      <th>split0_test_score</th>\n",
       "      <th>split1_test_score</th>\n",
       "      <th>split2_test_score</th>\n",
       "      <th>split3_test_score</th>\n",
       "      <th>split4_test_score</th>\n",
       "      <th>mean_test_score</th>\n",
       "      <th>std_test_score</th>\n",
       "      <th>rank_test_score</th>\n",
       "    </tr>\n",
       "  </thead>\n",
       "  <tbody>\n",
       "    <tr>\n",
       "      <th>0</th>\n",
       "      <td>0.260565</td>\n",
       "      <td>0.049660</td>\n",
       "      <td>0.011279</td>\n",
       "      <td>0.001753</td>\n",
       "      <td>3</td>\n",
       "      <td>10</td>\n",
       "      <td>3</td>\n",
       "      <td>{'max_depth': 3, 'min_samples_split': 10, 'n_e...</td>\n",
       "      <td>0.252095</td>\n",
       "      <td>0.249787</td>\n",
       "      <td>0.297693</td>\n",
       "      <td>0.240780</td>\n",
       "      <td>0.290944</td>\n",
       "      <td>0.266260</td>\n",
       "      <td>0.023317</td>\n",
       "      <td>6</td>\n",
       "    </tr>\n",
       "    <tr>\n",
       "      <th>1</th>\n",
       "      <td>0.313516</td>\n",
       "      <td>0.080579</td>\n",
       "      <td>0.013468</td>\n",
       "      <td>0.002551</td>\n",
       "      <td>3</td>\n",
       "      <td>10</td>\n",
       "      <td>5</td>\n",
       "      <td>{'max_depth': 3, 'min_samples_split': 10, 'n_e...</td>\n",
       "      <td>0.302644</td>\n",
       "      <td>0.397041</td>\n",
       "      <td>0.405113</td>\n",
       "      <td>0.326334</td>\n",
       "      <td>0.363424</td>\n",
       "      <td>0.358911</td>\n",
       "      <td>0.039588</td>\n",
       "      <td>5</td>\n",
       "    </tr>\n",
       "    <tr>\n",
       "      <th>2</th>\n",
       "      <td>0.386871</td>\n",
       "      <td>0.046247</td>\n",
       "      <td>0.015035</td>\n",
       "      <td>0.001660</td>\n",
       "      <td>3</td>\n",
       "      <td>10</td>\n",
       "      <td>10</td>\n",
       "      <td>{'max_depth': 3, 'min_samples_split': 10, 'n_e...</td>\n",
       "      <td>0.370975</td>\n",
       "      <td>0.482001</td>\n",
       "      <td>0.490607</td>\n",
       "      <td>0.374231</td>\n",
       "      <td>0.422343</td>\n",
       "      <td>0.428031</td>\n",
       "      <td>0.051011</td>\n",
       "      <td>3</td>\n",
       "    </tr>\n",
       "    <tr>\n",
       "      <th>3</th>\n",
       "      <td>0.268604</td>\n",
       "      <td>0.008571</td>\n",
       "      <td>0.011423</td>\n",
       "      <td>0.000943</td>\n",
       "      <td>5</td>\n",
       "      <td>10</td>\n",
       "      <td>3</td>\n",
       "      <td>{'max_depth': 5, 'min_samples_split': 10, 'n_e...</td>\n",
       "      <td>0.388282</td>\n",
       "      <td>0.393945</td>\n",
       "      <td>0.372632</td>\n",
       "      <td>0.372032</td>\n",
       "      <td>0.406168</td>\n",
       "      <td>0.386612</td>\n",
       "      <td>0.013015</td>\n",
       "      <td>4</td>\n",
       "    </tr>\n",
       "    <tr>\n",
       "      <th>4</th>\n",
       "      <td>0.345952</td>\n",
       "      <td>0.032791</td>\n",
       "      <td>0.012878</td>\n",
       "      <td>0.000442</td>\n",
       "      <td>5</td>\n",
       "      <td>10</td>\n",
       "      <td>5</td>\n",
       "      <td>{'max_depth': 5, 'min_samples_split': 10, 'n_e...</td>\n",
       "      <td>0.416059</td>\n",
       "      <td>0.437899</td>\n",
       "      <td>0.503756</td>\n",
       "      <td>0.414921</td>\n",
       "      <td>0.519379</td>\n",
       "      <td>0.458403</td>\n",
       "      <td>0.044450</td>\n",
       "      <td>2</td>\n",
       "    </tr>\n",
       "    <tr>\n",
       "      <th>5</th>\n",
       "      <td>0.492676</td>\n",
       "      <td>0.048495</td>\n",
       "      <td>0.014727</td>\n",
       "      <td>0.001118</td>\n",
       "      <td>5</td>\n",
       "      <td>10</td>\n",
       "      <td>10</td>\n",
       "      <td>{'max_depth': 5, 'min_samples_split': 10, 'n_e...</td>\n",
       "      <td>0.498670</td>\n",
       "      <td>0.574600</td>\n",
       "      <td>0.579584</td>\n",
       "      <td>0.476602</td>\n",
       "      <td>0.579429</td>\n",
       "      <td>0.541777</td>\n",
       "      <td>0.044789</td>\n",
       "      <td>1</td>\n",
       "    </tr>\n",
       "  </tbody>\n",
       "</table>\n",
       "</div>"
      ],
      "text/plain": [
       "   mean_fit_time  std_fit_time  mean_score_time  std_score_time  \\\n",
       "0       0.260565      0.049660         0.011279        0.001753   \n",
       "1       0.313516      0.080579         0.013468        0.002551   \n",
       "2       0.386871      0.046247         0.015035        0.001660   \n",
       "3       0.268604      0.008571         0.011423        0.000943   \n",
       "4       0.345952      0.032791         0.012878        0.000442   \n",
       "5       0.492676      0.048495         0.014727        0.001118   \n",
       "\n",
       "  param_max_depth param_min_samples_split param_n_estimators  \\\n",
       "0               3                      10                  3   \n",
       "1               3                      10                  5   \n",
       "2               3                      10                 10   \n",
       "3               5                      10                  3   \n",
       "4               5                      10                  5   \n",
       "5               5                      10                 10   \n",
       "\n",
       "                                              params  split0_test_score  \\\n",
       "0  {'max_depth': 3, 'min_samples_split': 10, 'n_e...           0.252095   \n",
       "1  {'max_depth': 3, 'min_samples_split': 10, 'n_e...           0.302644   \n",
       "2  {'max_depth': 3, 'min_samples_split': 10, 'n_e...           0.370975   \n",
       "3  {'max_depth': 5, 'min_samples_split': 10, 'n_e...           0.388282   \n",
       "4  {'max_depth': 5, 'min_samples_split': 10, 'n_e...           0.416059   \n",
       "5  {'max_depth': 5, 'min_samples_split': 10, 'n_e...           0.498670   \n",
       "\n",
       "   split1_test_score  split2_test_score  split3_test_score  split4_test_score  \\\n",
       "0           0.249787           0.297693           0.240780           0.290944   \n",
       "1           0.397041           0.405113           0.326334           0.363424   \n",
       "2           0.482001           0.490607           0.374231           0.422343   \n",
       "3           0.393945           0.372632           0.372032           0.406168   \n",
       "4           0.437899           0.503756           0.414921           0.519379   \n",
       "5           0.574600           0.579584           0.476602           0.579429   \n",
       "\n",
       "   mean_test_score  std_test_score  rank_test_score  \n",
       "0         0.266260        0.023317                6  \n",
       "1         0.358911        0.039588                5  \n",
       "2         0.428031        0.051011                3  \n",
       "3         0.386612        0.013015                4  \n",
       "4         0.458403        0.044450                2  \n",
       "5         0.541777        0.044789                1  "
      ]
     },
     "execution_count": 53,
     "metadata": {},
     "output_type": "execute_result"
    }
   ],
   "source": [
    "pd.DataFrame(gcv.cv_results_)"
   ]
  },
  {
   "cell_type": "code",
   "execution_count": 54,
   "metadata": {},
   "outputs": [
    {
     "data": {
      "text/plain": [
       "(0.10919404396123848,\n",
       " 1.0,\n",
       " 0.05775,\n",
       " 0.0,\n",
       " 0.6291125039510129,\n",
       " 0.8878373947368422)"
      ]
     },
     "execution_count": 54,
     "metadata": {},
     "output_type": "execute_result"
    }
   ],
   "source": [
    "ypred=gcv.predict(xtrain)\n",
    "yscore=gcv.predict_proba(xtrain)[:,1]\n",
    "f1_score(ytrain, ypred),\\\n",
    "    precision_score(ytrain, ypred),\\\n",
    "         recall_score(ytrain, ypred),\\\n",
    "             false_positive_rate(ytrain, ypred),\\\n",
    "             average_precision_score(ytrain,yscore),\\\n",
    "                 roc_auc_score(ytrain, yscore)"
   ]
  },
  {
   "cell_type": "code",
   "execution_count": 55,
   "metadata": {},
   "outputs": [
    {
     "data": {
      "text/plain": [
       "(0.1042654028436019, 1.0, 0.055, 0.0, 0.6001024389461679, 0.882755947368421)"
      ]
     },
     "execution_count": 55,
     "metadata": {},
     "output_type": "execute_result"
    }
   ],
   "source": [
    "ypred=gcv.predict(xtest)\n",
    "yscore=gcv.predict_proba(xtest)[:,1]\n",
    "f1_score(ytest, ypred),\\\n",
    "    precision_score(ytest, ypred),\\\n",
    "         recall_score(ytest, ypred),\\\n",
    "             false_positive_rate(ytest, ypred),\\\n",
    "             average_precision_score(ytest,yscore),\\\n",
    "                 roc_auc_score(ytest, yscore)"
   ]
  },
  {
   "cell_type": "code",
   "execution_count": 20,
   "metadata": {},
   "outputs": [
    {
     "data": {
      "text/plain": [
       "(0.8250265111346766, 0.8781038374717833, 0.778)"
      ]
     },
     "execution_count": 20,
     "metadata": {},
     "output_type": "execute_result"
    }
   ],
   "source": [
    "ypred=gcv.predict(xtest)\n",
    "f1_score(ytest, ypred),precision_score(ytest, ypred), recall_score(ytest, ypred)"
   ]
  },
  {
   "cell_type": "code",
   "execution_count": 22,
   "metadata": {},
   "outputs": [
    {
     "data": {
      "text/plain": [
       "0.00568421052631579"
      ]
     },
     "execution_count": 22,
     "metadata": {},
     "output_type": "execute_result"
    }
   ],
   "source": [
    "false_positive_rate(ytest, ypred)"
   ]
  },
  {
   "cell_type": "markdown",
   "metadata": {},
   "source": [
    "## Resample"
   ]
  },
  {
   "cell_type": "code",
   "execution_count": 185,
   "metadata": {},
   "outputs": [],
   "source": [
    "np=(ytest[ytest==1]).shape[0]\n",
    "df_sample=pd.concat([xtest,ytest],axis=1)\n",
    "sample_nn=df_sample.loc[df_sample.target==0].sample(n=np,replace=False, random_state=42)\n",
    "df_sample=pd.concat([sample_nn,df_sample.loc[df_sample.target==1]],axis=0)"
   ]
  },
  {
   "cell_type": "code",
   "execution_count": 186,
   "metadata": {},
   "outputs": [],
   "source": [
    "Xs=df_sample.drop('target', axis=1)\n",
    "ys=df_sample['target']"
   ]
  },
  {
   "cell_type": "code",
   "execution_count": 197,
   "metadata": {},
   "outputs": [],
   "source": [
    "rf=RandomForestClassifier(n_estimators=10, random_state=42,n_jobs=-1)\n",
    "param_grid = {'max_depth': [5],'n_estimators':[10], 'min_samples_split':[5,10]}"
   ]
  },
  {
   "cell_type": "code",
   "execution_count": 198,
   "metadata": {},
   "outputs": [],
   "source": [
    "cv=StratifiedKFold(n_splits=5, random_state=42, shuffle=True)\n",
    "gcv=GridSearchCV(estimator=rf, param_grid=param_grid, scoring='f1', cv=cv, verbose=1)"
   ]
  },
  {
   "cell_type": "code",
   "execution_count": 199,
   "metadata": {},
   "outputs": [
    {
     "name": "stdout",
     "output_type": "stream",
     "text": [
      "Fitting 5 folds for each of 2 candidates, totalling 10 fits\n"
     ]
    },
    {
     "data": {
      "text/plain": [
       "GridSearchCV(cv=StratifiedKFold(n_splits=5, random_state=42, shuffle=True),\n",
       "             estimator=RandomForestClassifier(n_estimators=10, n_jobs=-1,\n",
       "                                              random_state=42),\n",
       "             param_grid={'max_depth': [5], 'min_samples_split': [5, 10],\n",
       "                         'n_estimators': [10]},\n",
       "             scoring='f1', verbose=1)"
      ]
     },
     "execution_count": 199,
     "metadata": {},
     "output_type": "execute_result"
    }
   ],
   "source": [
    "gcv.fit(Xs, ys)"
   ]
  },
  {
   "cell_type": "code",
   "execution_count": 202,
   "metadata": {},
   "outputs": [
    {
     "data": {
      "text/plain": [
       "(0.8916030534351146, 0.9077720207253887, 0.876, 0.089)"
      ]
     },
     "execution_count": 202,
     "metadata": {},
     "output_type": "execute_result"
    }
   ],
   "source": [
    "ypred=gcv.predict(Xs)\n",
    "f1_score(ys, ypred), precision_score(ys, ypred), recall_score(ys, ypred), false_positive_rate(ys, ypred)"
   ]
  },
  {
   "cell_type": "code",
   "execution_count": 203,
   "metadata": {},
   "outputs": [
    {
     "data": {
      "text/plain": [
       "(0.41943978932248027, 0.2757318224740321, 0.876, 0.12110526315789474)"
      ]
     },
     "execution_count": 203,
     "metadata": {},
     "output_type": "execute_result"
    }
   ],
   "source": [
    "ypred=gcv.predict(xtest)\n",
    "f1_score(ytest, ypred), precision_score(ytest, ypred), recall_score(ytest, ypred), false_positive_rate(ytest, ypred)"
   ]
  },
  {
   "cell_type": "code",
   "execution_count": 201,
   "metadata": {},
   "outputs": [
    {
     "data": {
      "text/plain": [
       "0.089"
      ]
     },
     "execution_count": 201,
     "metadata": {},
     "output_type": "execute_result"
    }
   ],
   "source": [
    "false_positive_rate(ys, ypred)"
   ]
  },
  {
   "cell_type": "code",
   "execution_count": 137,
   "metadata": {},
   "outputs": [],
   "source": [
    "lgr=LogisticRegression(random_state=42)"
   ]
  },
  {
   "cell_type": "code",
   "execution_count": 142,
   "metadata": {},
   "outputs": [
    {
     "data": {
      "text/plain": [
       "LogisticRegression(random_state=42)"
      ]
     },
     "execution_count": 142,
     "metadata": {},
     "output_type": "execute_result"
    }
   ],
   "source": [
    "lgr.fit(Xs, ys)"
   ]
  },
  {
   "cell_type": "code",
   "execution_count": 143,
   "metadata": {},
   "outputs": [
    {
     "data": {
      "text/plain": [
       "(0.5285285285285285, 0.5290581162324649, 0.528)"
      ]
     },
     "execution_count": 143,
     "metadata": {},
     "output_type": "execute_result"
    }
   ],
   "source": [
    "ypred=lgr.predict(Xs)\n",
    "f1_score(ys, ypred), precision_score(ys, ypred), recall_score(ys, ypred)"
   ]
  }
 ],
 "metadata": {
  "interpreter": {
   "hash": "f867c1da995947098dea1a39f903899f4ebf9970b3ec23fc161ccb1d8cbf1c2e"
  },
  "kernelspec": {
   "display_name": "Python 3.9.5 ('base')",
   "language": "python",
   "name": "python3"
  },
  "language_info": {
   "codemirror_mode": {
    "name": "ipython",
    "version": 3
   },
   "file_extension": ".py",
   "mimetype": "text/x-python",
   "name": "python",
   "nbconvert_exporter": "python",
   "pygments_lexer": "ipython3",
   "version": "3.9.5"
  },
  "orig_nbformat": 4
 },
 "nbformat": 4,
 "nbformat_minor": 2
}
