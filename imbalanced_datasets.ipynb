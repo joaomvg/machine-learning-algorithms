{
 "cells": [
  {
   "cell_type": "code",
   "execution_count": 1,
   "metadata": {},
   "outputs": [],
   "source": [
    "import pandas as pd\n",
    "import numpy as np\n",
    "import matplotlib.pyplot as plt\n",
    "import seaborn as sns"
   ]
  },
  {
   "cell_type": "code",
   "execution_count": 34,
   "metadata": {},
   "outputs": [],
   "source": [
    "mean=np.random.rand(5)*100\n",
    "cov=np.random.rand(5,5)\n",
    "cov=cov+cov.T"
   ]
  },
  {
   "cell_type": "code",
   "execution_count": 50,
   "metadata": {},
   "outputs": [],
   "source": [
    "cov=np.diag(np.random.rand(5)*10)"
   ]
  },
  {
   "cell_type": "code",
   "execution_count": 69,
   "metadata": {},
   "outputs": [
    {
     "data": {
      "text/plain": [
       "array([[7.49542821, 0.        , 0.        , 0.        , 0.        ],\n",
       "       [0.        , 7.22337074, 0.        , 0.        , 0.        ],\n",
       "       [0.        , 0.        , 5.27733254, 0.        , 0.        ],\n",
       "       [0.        , 0.        , 0.        , 3.86453684, 0.        ],\n",
       "       [0.        , 0.        , 0.        , 0.        , 0.9378703 ]])"
      ]
     },
     "execution_count": 69,
     "metadata": {},
     "output_type": "execute_result"
    }
   ],
   "source": [
    "cov"
   ]
  },
  {
   "cell_type": "code",
   "execution_count": 52,
   "metadata": {},
   "outputs": [],
   "source": [
    "data=np.random.multivariate_normal(mean=mean, cov=cov, size=10**5)"
   ]
  },
  {
   "cell_type": "code",
   "execution_count": 91,
   "metadata": {},
   "outputs": [
    {
     "data": {
      "text/plain": [
       "array([0.13341466, 0.13843952, 0.18948967, 0.25876322, 1.06624551])"
      ]
     },
     "execution_count": 91,
     "metadata": {},
     "output_type": "execute_result"
    }
   ],
   "source": [
    "1/cov.diagonal()"
   ]
  },
  {
   "cell_type": "code",
   "execution_count": 97,
   "metadata": {},
   "outputs": [],
   "source": [
    "log_prob =data-mean\n",
    "log_prob =log_prob*log_prob/cov.diagonal()\n",
    "log_prob =log_prob.sum(axis=1)"
   ]
  },
  {
   "cell_type": "code",
   "execution_count": 100,
   "metadata": {},
   "outputs": [],
   "source": [
    "T=np.quantile(log_prob, 0.95)"
   ]
  },
  {
   "cell_type": "code",
   "execution_count": 101,
   "metadata": {},
   "outputs": [],
   "source": [
    "df=pd.DataFrame(data, columns=['x1','x2','x3','x4','x5'])\n",
    "df['target']=(log_prob>T).astype(int)"
   ]
  },
  {
   "cell_type": "markdown",
   "metadata": {},
   "source": [
    "# Modelling"
   ]
  },
  {
   "cell_type": "code",
   "execution_count": 130,
   "metadata": {},
   "outputs": [],
   "source": [
    "from sklearn.model_selection import StratifiedKFold, GridSearchCV, train_test_split\n",
    "from sklearn.metrics import accuracy_score, f1_score, precision_score, recall_score, roc_auc_score\n",
    "from sklearn.ensemble import RandomForestClassifier, GradientBoostingClassifier\n",
    "from sklearn.linear_model import LogisticRegression"
   ]
  },
  {
   "cell_type": "code",
   "execution_count": 106,
   "metadata": {},
   "outputs": [],
   "source": [
    "X=df.drop('target', axis=1)\n",
    "y=df['target']\n",
    "xtrain, xtest, ytrain, ytest = train_test_split(X, y, test_size=0.2,stratify=y, random_state=42)"
   ]
  },
  {
   "cell_type": "code",
   "execution_count": 107,
   "metadata": {},
   "outputs": [
    {
     "data": {
      "text/plain": [
       "(0.05, 0.05)"
      ]
     },
     "execution_count": 107,
     "metadata": {},
     "output_type": "execute_result"
    }
   ],
   "source": [
    "ytrain.mean(), ytest.mean()"
   ]
  },
  {
   "cell_type": "code",
   "execution_count": 144,
   "metadata": {},
   "outputs": [],
   "source": [
    "rf=RandomForestClassifier(n_estimators=10, random_state=42)\n",
    "param_grid = {'max_depth': [5,10],'n_estimators':[10,20,30,80], 'min_samples_split':[5,10]}"
   ]
  },
  {
   "cell_type": "code",
   "execution_count": 145,
   "metadata": {},
   "outputs": [],
   "source": [
    "cv=StratifiedKFold(n_splits=5, random_state=42, shuffle=True)\n",
    "gcv=GridSearchCV(estimator=rf, param_grid=param_grid, scoring='recall', cv=cv, verbose=1)"
   ]
  },
  {
   "cell_type": "code",
   "execution_count": 146,
   "metadata": {},
   "outputs": [
    {
     "name": "stdout",
     "output_type": "stream",
     "text": [
      "Fitting 5 folds for each of 16 candidates, totalling 80 fits\n"
     ]
    },
    {
     "data": {
      "text/plain": [
       "GridSearchCV(cv=StratifiedKFold(n_splits=5, random_state=42, shuffle=True),\n",
       "             estimator=RandomForestClassifier(n_estimators=10, random_state=42),\n",
       "             param_grid={'max_depth': [5, 10], 'min_samples_split': [5, 10],\n",
       "                         'n_estimators': [10, 20, 30, 80]},\n",
       "             scoring='recall', verbose=1)"
      ]
     },
     "execution_count": 146,
     "metadata": {},
     "output_type": "execute_result"
    }
   ],
   "source": [
    "gcv.fit(xtrain, ytrain)"
   ]
  },
  {
   "cell_type": "code",
   "execution_count": 147,
   "metadata": {},
   "outputs": [
    {
     "data": {
      "text/html": [
       "<div>\n",
       "<style scoped>\n",
       "    .dataframe tbody tr th:only-of-type {\n",
       "        vertical-align: middle;\n",
       "    }\n",
       "\n",
       "    .dataframe tbody tr th {\n",
       "        vertical-align: top;\n",
       "    }\n",
       "\n",
       "    .dataframe thead th {\n",
       "        text-align: right;\n",
       "    }\n",
       "</style>\n",
       "<table border=\"1\" class=\"dataframe\">\n",
       "  <thead>\n",
       "    <tr style=\"text-align: right;\">\n",
       "      <th></th>\n",
       "      <th>mean_fit_time</th>\n",
       "      <th>std_fit_time</th>\n",
       "      <th>mean_score_time</th>\n",
       "      <th>std_score_time</th>\n",
       "      <th>param_max_depth</th>\n",
       "      <th>param_min_samples_split</th>\n",
       "      <th>param_n_estimators</th>\n",
       "      <th>params</th>\n",
       "      <th>split0_test_score</th>\n",
       "      <th>split1_test_score</th>\n",
       "      <th>split2_test_score</th>\n",
       "      <th>split3_test_score</th>\n",
       "      <th>split4_test_score</th>\n",
       "      <th>mean_test_score</th>\n",
       "      <th>std_test_score</th>\n",
       "      <th>rank_test_score</th>\n",
       "    </tr>\n",
       "  </thead>\n",
       "  <tbody>\n",
       "    <tr>\n",
       "      <th>0</th>\n",
       "      <td>0.797049</td>\n",
       "      <td>0.150792</td>\n",
       "      <td>0.017447</td>\n",
       "      <td>0.001129</td>\n",
       "      <td>5</td>\n",
       "      <td>5</td>\n",
       "      <td>10</td>\n",
       "      <td>{'max_depth': 5, 'min_samples_split': 5, 'n_es...</td>\n",
       "      <td>0.06625</td>\n",
       "      <td>0.10250</td>\n",
       "      <td>0.13375</td>\n",
       "      <td>0.04500</td>\n",
       "      <td>0.10375</td>\n",
       "      <td>0.09025</td>\n",
       "      <td>0.031139</td>\n",
       "      <td>13</td>\n",
       "    </tr>\n",
       "    <tr>\n",
       "      <th>1</th>\n",
       "      <td>1.385079</td>\n",
       "      <td>0.026018</td>\n",
       "      <td>0.024824</td>\n",
       "      <td>0.000952</td>\n",
       "      <td>5</td>\n",
       "      <td>5</td>\n",
       "      <td>20</td>\n",
       "      <td>{'max_depth': 5, 'min_samples_split': 5, 'n_es...</td>\n",
       "      <td>0.07125</td>\n",
       "      <td>0.09500</td>\n",
       "      <td>0.09875</td>\n",
       "      <td>0.03375</td>\n",
       "      <td>0.09375</td>\n",
       "      <td>0.07850</td>\n",
       "      <td>0.024372</td>\n",
       "      <td>16</td>\n",
       "    </tr>\n",
       "    <tr>\n",
       "      <th>2</th>\n",
       "      <td>2.091738</td>\n",
       "      <td>0.074990</td>\n",
       "      <td>0.037103</td>\n",
       "      <td>0.002024</td>\n",
       "      <td>5</td>\n",
       "      <td>5</td>\n",
       "      <td>30</td>\n",
       "      <td>{'max_depth': 5, 'min_samples_split': 5, 'n_es...</td>\n",
       "      <td>0.07625</td>\n",
       "      <td>0.10625</td>\n",
       "      <td>0.09250</td>\n",
       "      <td>0.08500</td>\n",
       "      <td>0.11125</td>\n",
       "      <td>0.09425</td>\n",
       "      <td>0.013005</td>\n",
       "      <td>11</td>\n",
       "    </tr>\n",
       "    <tr>\n",
       "      <th>3</th>\n",
       "      <td>5.572384</td>\n",
       "      <td>0.209897</td>\n",
       "      <td>0.081800</td>\n",
       "      <td>0.003569</td>\n",
       "      <td>5</td>\n",
       "      <td>5</td>\n",
       "      <td>80</td>\n",
       "      <td>{'max_depth': 5, 'min_samples_split': 5, 'n_es...</td>\n",
       "      <td>0.07875</td>\n",
       "      <td>0.09250</td>\n",
       "      <td>0.08375</td>\n",
       "      <td>0.09500</td>\n",
       "      <td>0.07875</td>\n",
       "      <td>0.08575</td>\n",
       "      <td>0.006828</td>\n",
       "      <td>14</td>\n",
       "    </tr>\n",
       "    <tr>\n",
       "      <th>4</th>\n",
       "      <td>0.691594</td>\n",
       "      <td>0.009078</td>\n",
       "      <td>0.017976</td>\n",
       "      <td>0.001907</td>\n",
       "      <td>5</td>\n",
       "      <td>10</td>\n",
       "      <td>10</td>\n",
       "      <td>{'max_depth': 5, 'min_samples_split': 10, 'n_e...</td>\n",
       "      <td>0.09250</td>\n",
       "      <td>0.11375</td>\n",
       "      <td>0.14250</td>\n",
       "      <td>0.04875</td>\n",
       "      <td>0.11625</td>\n",
       "      <td>0.10275</td>\n",
       "      <td>0.031319</td>\n",
       "      <td>9</td>\n",
       "    </tr>\n",
       "    <tr>\n",
       "      <th>5</th>\n",
       "      <td>1.354750</td>\n",
       "      <td>0.026328</td>\n",
       "      <td>0.027530</td>\n",
       "      <td>0.001752</td>\n",
       "      <td>5</td>\n",
       "      <td>10</td>\n",
       "      <td>20</td>\n",
       "      <td>{'max_depth': 5, 'min_samples_split': 10, 'n_e...</td>\n",
       "      <td>0.07250</td>\n",
       "      <td>0.10375</td>\n",
       "      <td>0.08375</td>\n",
       "      <td>0.06500</td>\n",
       "      <td>0.07750</td>\n",
       "      <td>0.08050</td>\n",
       "      <td>0.013148</td>\n",
       "      <td>15</td>\n",
       "    </tr>\n",
       "    <tr>\n",
       "      <th>6</th>\n",
       "      <td>2.042840</td>\n",
       "      <td>0.008414</td>\n",
       "      <td>0.035137</td>\n",
       "      <td>0.001240</td>\n",
       "      <td>5</td>\n",
       "      <td>10</td>\n",
       "      <td>30</td>\n",
       "      <td>{'max_depth': 5, 'min_samples_split': 10, 'n_e...</td>\n",
       "      <td>0.08000</td>\n",
       "      <td>0.11375</td>\n",
       "      <td>0.09000</td>\n",
       "      <td>0.09500</td>\n",
       "      <td>0.09500</td>\n",
       "      <td>0.09475</td>\n",
       "      <td>0.010966</td>\n",
       "      <td>10</td>\n",
       "    </tr>\n",
       "    <tr>\n",
       "      <th>7</th>\n",
       "      <td>5.473011</td>\n",
       "      <td>0.136761</td>\n",
       "      <td>0.080682</td>\n",
       "      <td>0.001509</td>\n",
       "      <td>5</td>\n",
       "      <td>10</td>\n",
       "      <td>80</td>\n",
       "      <td>{'max_depth': 5, 'min_samples_split': 10, 'n_e...</td>\n",
       "      <td>0.07625</td>\n",
       "      <td>0.10500</td>\n",
       "      <td>0.09375</td>\n",
       "      <td>0.11250</td>\n",
       "      <td>0.08000</td>\n",
       "      <td>0.09350</td>\n",
       "      <td>0.013951</td>\n",
       "      <td>12</td>\n",
       "    </tr>\n",
       "    <tr>\n",
       "      <th>8</th>\n",
       "      <td>1.355015</td>\n",
       "      <td>0.070963</td>\n",
       "      <td>0.019963</td>\n",
       "      <td>0.001549</td>\n",
       "      <td>10</td>\n",
       "      <td>5</td>\n",
       "      <td>10</td>\n",
       "      <td>{'max_depth': 10, 'min_samples_split': 5, 'n_e...</td>\n",
       "      <td>0.45125</td>\n",
       "      <td>0.36875</td>\n",
       "      <td>0.45000</td>\n",
       "      <td>0.47000</td>\n",
       "      <td>0.43250</td>\n",
       "      <td>0.43450</td>\n",
       "      <td>0.034952</td>\n",
       "      <td>5</td>\n",
       "    </tr>\n",
       "    <tr>\n",
       "      <th>9</th>\n",
       "      <td>2.677257</td>\n",
       "      <td>0.095085</td>\n",
       "      <td>0.031366</td>\n",
       "      <td>0.000457</td>\n",
       "      <td>10</td>\n",
       "      <td>5</td>\n",
       "      <td>20</td>\n",
       "      <td>{'max_depth': 10, 'min_samples_split': 5, 'n_e...</td>\n",
       "      <td>0.45250</td>\n",
       "      <td>0.39250</td>\n",
       "      <td>0.45750</td>\n",
       "      <td>0.47250</td>\n",
       "      <td>0.42750</td>\n",
       "      <td>0.44050</td>\n",
       "      <td>0.028036</td>\n",
       "      <td>2</td>\n",
       "    </tr>\n",
       "    <tr>\n",
       "      <th>10</th>\n",
       "      <td>4.098933</td>\n",
       "      <td>0.211297</td>\n",
       "      <td>0.043449</td>\n",
       "      <td>0.001243</td>\n",
       "      <td>10</td>\n",
       "      <td>5</td>\n",
       "      <td>30</td>\n",
       "      <td>{'max_depth': 10, 'min_samples_split': 5, 'n_e...</td>\n",
       "      <td>0.44000</td>\n",
       "      <td>0.38875</td>\n",
       "      <td>0.44250</td>\n",
       "      <td>0.46875</td>\n",
       "      <td>0.42500</td>\n",
       "      <td>0.43300</td>\n",
       "      <td>0.026227</td>\n",
       "      <td>7</td>\n",
       "    </tr>\n",
       "    <tr>\n",
       "      <th>11</th>\n",
       "      <td>10.849093</td>\n",
       "      <td>0.209387</td>\n",
       "      <td>0.131184</td>\n",
       "      <td>0.029211</td>\n",
       "      <td>10</td>\n",
       "      <td>5</td>\n",
       "      <td>80</td>\n",
       "      <td>{'max_depth': 10, 'min_samples_split': 5, 'n_e...</td>\n",
       "      <td>0.44625</td>\n",
       "      <td>0.39500</td>\n",
       "      <td>0.43500</td>\n",
       "      <td>0.45125</td>\n",
       "      <td>0.43000</td>\n",
       "      <td>0.43150</td>\n",
       "      <td>0.019771</td>\n",
       "      <td>8</td>\n",
       "    </tr>\n",
       "    <tr>\n",
       "      <th>12</th>\n",
       "      <td>1.317725</td>\n",
       "      <td>0.060424</td>\n",
       "      <td>0.019632</td>\n",
       "      <td>0.001074</td>\n",
       "      <td>10</td>\n",
       "      <td>10</td>\n",
       "      <td>10</td>\n",
       "      <td>{'max_depth': 10, 'min_samples_split': 10, 'n_...</td>\n",
       "      <td>0.47625</td>\n",
       "      <td>0.39125</td>\n",
       "      <td>0.43625</td>\n",
       "      <td>0.46000</td>\n",
       "      <td>0.40375</td>\n",
       "      <td>0.43350</td>\n",
       "      <td>0.032272</td>\n",
       "      <td>6</td>\n",
       "    </tr>\n",
       "    <tr>\n",
       "      <th>13</th>\n",
       "      <td>2.635034</td>\n",
       "      <td>0.122710</td>\n",
       "      <td>0.032535</td>\n",
       "      <td>0.000732</td>\n",
       "      <td>10</td>\n",
       "      <td>10</td>\n",
       "      <td>20</td>\n",
       "      <td>{'max_depth': 10, 'min_samples_split': 10, 'n_...</td>\n",
       "      <td>0.48250</td>\n",
       "      <td>0.40500</td>\n",
       "      <td>0.43000</td>\n",
       "      <td>0.46250</td>\n",
       "      <td>0.42000</td>\n",
       "      <td>0.44000</td>\n",
       "      <td>0.028417</td>\n",
       "      <td>3</td>\n",
       "    </tr>\n",
       "    <tr>\n",
       "      <th>14</th>\n",
       "      <td>3.953702</td>\n",
       "      <td>0.060147</td>\n",
       "      <td>0.043551</td>\n",
       "      <td>0.001539</td>\n",
       "      <td>10</td>\n",
       "      <td>10</td>\n",
       "      <td>30</td>\n",
       "      <td>{'max_depth': 10, 'min_samples_split': 10, 'n_...</td>\n",
       "      <td>0.46125</td>\n",
       "      <td>0.38750</td>\n",
       "      <td>0.42625</td>\n",
       "      <td>0.47250</td>\n",
       "      <td>0.42750</td>\n",
       "      <td>0.43500</td>\n",
       "      <td>0.029948</td>\n",
       "      <td>4</td>\n",
       "    </tr>\n",
       "    <tr>\n",
       "      <th>15</th>\n",
       "      <td>10.469132</td>\n",
       "      <td>0.399266</td>\n",
       "      <td>0.102638</td>\n",
       "      <td>0.003410</td>\n",
       "      <td>10</td>\n",
       "      <td>10</td>\n",
       "      <td>80</td>\n",
       "      <td>{'max_depth': 10, 'min_samples_split': 10, 'n_...</td>\n",
       "      <td>0.45875</td>\n",
       "      <td>0.41625</td>\n",
       "      <td>0.42750</td>\n",
       "      <td>0.46000</td>\n",
       "      <td>0.44000</td>\n",
       "      <td>0.44050</td>\n",
       "      <td>0.017150</td>\n",
       "      <td>1</td>\n",
       "    </tr>\n",
       "  </tbody>\n",
       "</table>\n",
       "</div>"
      ],
      "text/plain": [
       "    mean_fit_time  std_fit_time  mean_score_time  std_score_time  \\\n",
       "0        0.797049      0.150792         0.017447        0.001129   \n",
       "1        1.385079      0.026018         0.024824        0.000952   \n",
       "2        2.091738      0.074990         0.037103        0.002024   \n",
       "3        5.572384      0.209897         0.081800        0.003569   \n",
       "4        0.691594      0.009078         0.017976        0.001907   \n",
       "5        1.354750      0.026328         0.027530        0.001752   \n",
       "6        2.042840      0.008414         0.035137        0.001240   \n",
       "7        5.473011      0.136761         0.080682        0.001509   \n",
       "8        1.355015      0.070963         0.019963        0.001549   \n",
       "9        2.677257      0.095085         0.031366        0.000457   \n",
       "10       4.098933      0.211297         0.043449        0.001243   \n",
       "11      10.849093      0.209387         0.131184        0.029211   \n",
       "12       1.317725      0.060424         0.019632        0.001074   \n",
       "13       2.635034      0.122710         0.032535        0.000732   \n",
       "14       3.953702      0.060147         0.043551        0.001539   \n",
       "15      10.469132      0.399266         0.102638        0.003410   \n",
       "\n",
       "   param_max_depth param_min_samples_split param_n_estimators  \\\n",
       "0                5                       5                 10   \n",
       "1                5                       5                 20   \n",
       "2                5                       5                 30   \n",
       "3                5                       5                 80   \n",
       "4                5                      10                 10   \n",
       "5                5                      10                 20   \n",
       "6                5                      10                 30   \n",
       "7                5                      10                 80   \n",
       "8               10                       5                 10   \n",
       "9               10                       5                 20   \n",
       "10              10                       5                 30   \n",
       "11              10                       5                 80   \n",
       "12              10                      10                 10   \n",
       "13              10                      10                 20   \n",
       "14              10                      10                 30   \n",
       "15              10                      10                 80   \n",
       "\n",
       "                                               params  split0_test_score  \\\n",
       "0   {'max_depth': 5, 'min_samples_split': 5, 'n_es...            0.06625   \n",
       "1   {'max_depth': 5, 'min_samples_split': 5, 'n_es...            0.07125   \n",
       "2   {'max_depth': 5, 'min_samples_split': 5, 'n_es...            0.07625   \n",
       "3   {'max_depth': 5, 'min_samples_split': 5, 'n_es...            0.07875   \n",
       "4   {'max_depth': 5, 'min_samples_split': 10, 'n_e...            0.09250   \n",
       "5   {'max_depth': 5, 'min_samples_split': 10, 'n_e...            0.07250   \n",
       "6   {'max_depth': 5, 'min_samples_split': 10, 'n_e...            0.08000   \n",
       "7   {'max_depth': 5, 'min_samples_split': 10, 'n_e...            0.07625   \n",
       "8   {'max_depth': 10, 'min_samples_split': 5, 'n_e...            0.45125   \n",
       "9   {'max_depth': 10, 'min_samples_split': 5, 'n_e...            0.45250   \n",
       "10  {'max_depth': 10, 'min_samples_split': 5, 'n_e...            0.44000   \n",
       "11  {'max_depth': 10, 'min_samples_split': 5, 'n_e...            0.44625   \n",
       "12  {'max_depth': 10, 'min_samples_split': 10, 'n_...            0.47625   \n",
       "13  {'max_depth': 10, 'min_samples_split': 10, 'n_...            0.48250   \n",
       "14  {'max_depth': 10, 'min_samples_split': 10, 'n_...            0.46125   \n",
       "15  {'max_depth': 10, 'min_samples_split': 10, 'n_...            0.45875   \n",
       "\n",
       "    split1_test_score  split2_test_score  split3_test_score  \\\n",
       "0             0.10250            0.13375            0.04500   \n",
       "1             0.09500            0.09875            0.03375   \n",
       "2             0.10625            0.09250            0.08500   \n",
       "3             0.09250            0.08375            0.09500   \n",
       "4             0.11375            0.14250            0.04875   \n",
       "5             0.10375            0.08375            0.06500   \n",
       "6             0.11375            0.09000            0.09500   \n",
       "7             0.10500            0.09375            0.11250   \n",
       "8             0.36875            0.45000            0.47000   \n",
       "9             0.39250            0.45750            0.47250   \n",
       "10            0.38875            0.44250            0.46875   \n",
       "11            0.39500            0.43500            0.45125   \n",
       "12            0.39125            0.43625            0.46000   \n",
       "13            0.40500            0.43000            0.46250   \n",
       "14            0.38750            0.42625            0.47250   \n",
       "15            0.41625            0.42750            0.46000   \n",
       "\n",
       "    split4_test_score  mean_test_score  std_test_score  rank_test_score  \n",
       "0             0.10375          0.09025        0.031139               13  \n",
       "1             0.09375          0.07850        0.024372               16  \n",
       "2             0.11125          0.09425        0.013005               11  \n",
       "3             0.07875          0.08575        0.006828               14  \n",
       "4             0.11625          0.10275        0.031319                9  \n",
       "5             0.07750          0.08050        0.013148               15  \n",
       "6             0.09500          0.09475        0.010966               10  \n",
       "7             0.08000          0.09350        0.013951               12  \n",
       "8             0.43250          0.43450        0.034952                5  \n",
       "9             0.42750          0.44050        0.028036                2  \n",
       "10            0.42500          0.43300        0.026227                7  \n",
       "11            0.43000          0.43150        0.019771                8  \n",
       "12            0.40375          0.43350        0.032272                6  \n",
       "13            0.42000          0.44000        0.028417                3  \n",
       "14            0.42750          0.43500        0.029948                4  \n",
       "15            0.44000          0.44050        0.017150                1  "
      ]
     },
     "execution_count": 147,
     "metadata": {},
     "output_type": "execute_result"
    }
   ],
   "source": [
    "pd.DataFrame(gcv.cv_results_)"
   ]
  },
  {
   "cell_type": "code",
   "execution_count": 131,
   "metadata": {},
   "outputs": [],
   "source": [
    "def true_positive_rate(y_true, y_pred):\n",
    "    return recall_score(y_true, y_pred)\n",
    "\n",
    "def false_positive_rate(y_true, y_pred):\n",
    "    idx=y_true==0\n",
    "    return ypred[idx].mean()"
   ]
  },
  {
   "cell_type": "code",
   "execution_count": 148,
   "metadata": {},
   "outputs": [
    {
     "data": {
      "text/plain": [
       "(0.6061827956989247, 0.9241803278688525, 0.451)"
      ]
     },
     "execution_count": 148,
     "metadata": {},
     "output_type": "execute_result"
    }
   ],
   "source": [
    "ypred=gcv.predict(xtest)\n",
    "f1_score(ytest, ypred),precision_score(ytest, ypred), recall_score(ytest, ypred)"
   ]
  },
  {
   "cell_type": "code",
   "execution_count": 149,
   "metadata": {},
   "outputs": [
    {
     "data": {
      "text/plain": [
       "0.0019473684210526317"
      ]
     },
     "execution_count": 149,
     "metadata": {},
     "output_type": "execute_result"
    }
   ],
   "source": [
    "false_positive_rate(ytest, ypred)"
   ]
  },
  {
   "cell_type": "code",
   "execution_count": 123,
   "metadata": {},
   "outputs": [],
   "source": [
    "np=(ytest[ytest==1]).shape[0]\n",
    "df_sample=pd.concat([xtest,ytest],axis=1)\n",
    "sample_nn=df_sample.loc[df_sample.target==0].sample(n=np,replace=False, random_state=42)\n",
    "df_sample=pd.concat([sample_nn,df_sample.loc[df_sample.target==1]],axis=0)"
   ]
  },
  {
   "cell_type": "code",
   "execution_count": 133,
   "metadata": {},
   "outputs": [],
   "source": [
    "Xs=df_sample.drop('target', axis=1)\n",
    "ys=df_sample['target']"
   ]
  },
  {
   "cell_type": "code",
   "execution_count": 150,
   "metadata": {},
   "outputs": [
    {
     "data": {
      "text/plain": [
       "(0.6195054945054945, 0.9890350877192983, 0.451)"
      ]
     },
     "execution_count": 150,
     "metadata": {},
     "output_type": "execute_result"
    }
   ],
   "source": [
    "ypred=gcv.predict(Xs)\n",
    "f1_score(ys, ypred), precision_score(ys, ypred), recall_score(ys, ypred)"
   ]
  },
  {
   "cell_type": "code",
   "execution_count": 136,
   "metadata": {},
   "outputs": [
    {
     "data": {
      "text/plain": [
       "0.005"
      ]
     },
     "execution_count": 136,
     "metadata": {},
     "output_type": "execute_result"
    }
   ],
   "source": [
    "false_positive_rate(ys, ypred)"
   ]
  },
  {
   "cell_type": "code",
   "execution_count": 137,
   "metadata": {},
   "outputs": [],
   "source": [
    "lgr=LogisticRegression(random_state=42)"
   ]
  },
  {
   "cell_type": "code",
   "execution_count": 142,
   "metadata": {},
   "outputs": [
    {
     "data": {
      "text/plain": [
       "LogisticRegression(random_state=42)"
      ]
     },
     "execution_count": 142,
     "metadata": {},
     "output_type": "execute_result"
    }
   ],
   "source": [
    "lgr.fit(Xs, ys)"
   ]
  },
  {
   "cell_type": "code",
   "execution_count": 143,
   "metadata": {},
   "outputs": [
    {
     "data": {
      "text/plain": [
       "(0.5285285285285285, 0.5290581162324649, 0.528)"
      ]
     },
     "execution_count": 143,
     "metadata": {},
     "output_type": "execute_result"
    }
   ],
   "source": [
    "ypred=lgr.predict(Xs)\n",
    "f1_score(ys, ypred), precision_score(ys, ypred), recall_score(ys, ypred)"
   ]
  }
 ],
 "metadata": {
  "interpreter": {
   "hash": "f867c1da995947098dea1a39f903899f4ebf9970b3ec23fc161ccb1d8cbf1c2e"
  },
  "kernelspec": {
   "display_name": "Python 3.9.5 ('base')",
   "language": "python",
   "name": "python3"
  },
  "language_info": {
   "codemirror_mode": {
    "name": "ipython",
    "version": 3
   },
   "file_extension": ".py",
   "mimetype": "text/x-python",
   "name": "python",
   "nbconvert_exporter": "python",
   "pygments_lexer": "ipython3",
   "version": "3.9.5"
  },
  "orig_nbformat": 4
 },
 "nbformat": 4,
 "nbformat_minor": 2
}
