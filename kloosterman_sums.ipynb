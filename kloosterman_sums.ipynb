{
 "cells": [
  {
   "cell_type": "code",
   "execution_count": 1,
   "metadata": {},
   "outputs": [],
   "source": [
    "import pandas as pd\n",
    "import numpy as np\n",
    "\n",
    "from itertools import product"
   ]
  },
  {
   "cell_type": "code",
   "execution_count": 4,
   "metadata": {},
   "outputs": [
    {
     "data": {
      "text/plain": [
       "(4+7j)"
      ]
     },
     "execution_count": 4,
     "metadata": {},
     "output_type": "execute_result"
    }
   ],
   "source": [
    "1+2j + 3+5j"
   ]
  },
  {
   "cell_type": "code",
   "execution_count": 2,
   "metadata": {},
   "outputs": [
    {
     "data": {
      "text/plain": [
       "(-0.041774911583657474-0.027085216241410345j)"
      ]
     },
     "execution_count": 2,
     "metadata": {},
     "output_type": "execute_result"
    }
   ],
   "source": [
    "np.exp(-3+10j)"
   ]
  },
  {
   "cell_type": "code",
   "execution_count": 4,
   "metadata": {},
   "outputs": [],
   "source": [
    "def solutions_ad_mod_c(c,r=1):\n",
    "    # it is unique\n",
    "    assert r<c\n",
    "    return [[a,d] for a,d in product(range(1,c),range(1,c)) if (a*d)%c==r]\n",
    "\n",
    "def divisors(g):\n",
    "    divs = []\n",
    "    for s in range(1,int(np.sqrt(g))+1):\n",
    "        if g%s == 0:\n",
    "            divs.append(s)\n",
    "            divs.append(g//s)\n",
    "    return list(set(divs))\n",
    "\n",
    "def abs_norm(c):\n",
    "    return np.sqrt(np.real(np.conj(c) * c))"
   ]
  },
  {
   "cell_type": "code",
   "execution_count": 5,
   "metadata": {},
   "outputs": [
    {
     "data": {
      "text/plain": [
       "[1, 2, 3, 4, 6, 8, 12, 24]"
      ]
     },
     "execution_count": 5,
     "metadata": {},
     "output_type": "execute_result"
    }
   ],
   "source": [
    "divisors(24)"
   ]
  },
  {
   "cell_type": "code",
   "execution_count": 6,
   "metadata": {},
   "outputs": [
    {
     "data": {
      "text/plain": [
       "[[1, 3], [3, 1], [3, 3], [3, 5], [5, 3]]"
      ]
     },
     "execution_count": 6,
     "metadata": {},
     "output_type": "execute_result"
    }
   ],
   "source": [
    "solutions_ad_mod_c(c=6,r=3)"
   ]
  },
  {
   "cell_type": "code",
   "execution_count": 7,
   "metadata": {},
   "outputs": [
    {
     "data": {
      "text/plain": [
       "2.0"
      ]
     },
     "execution_count": 7,
     "metadata": {},
     "output_type": "execute_result"
    }
   ],
   "source": [
    "np.real(np.conj(1+1j) * (1+1j))"
   ]
  },
  {
   "cell_type": "markdown",
   "metadata": {},
   "source": [
    "# Kloosterman Sums\n"
   ]
  },
  {
   "cell_type": "code",
   "execution_count": 8,
   "metadata": {},
   "outputs": [],
   "source": [
    "def kloosterman(m,n,c):\n",
    "    I = 1j\n",
    "    Pi = np.pi\n",
    "    sols = np.array(solutions_ad_mod_c(c,r=1))\n",
    "    exponent = 2*Pi*I*(sols[:,0]*m/c + sols[:,1]*n/c)\n",
    "    return np.exp(exponent).sum()"
   ]
  },
  {
   "cell_type": "code",
   "execution_count": 9,
   "metadata": {},
   "outputs": [
    {
     "data": {
      "text/plain": [
       "(-1.0000000000000062+2.7755575615628914e-15j)"
      ]
     },
     "execution_count": 9,
     "metadata": {},
     "output_type": "execute_result"
    }
   ],
   "source": [
    "kloosterman(7,1,6)"
   ]
  },
  {
   "cell_type": "code",
   "execution_count": 10,
   "metadata": {},
   "outputs": [
    {
     "data": {
      "text/plain": [
       "(-13.319984562513362+2.007283228522283e-12j)"
      ]
     },
     "execution_count": 10,
     "metadata": {},
     "output_type": "execute_result"
    }
   ],
   "source": [
    "m = (3*5) * 100\n",
    "n = (3*5)*12\n",
    "c = (3*5)*123\n",
    "\n",
    "k0 = kloosterman(m,n,c)\n",
    "k0"
   ]
  },
  {
   "cell_type": "code",
   "execution_count": 14,
   "metadata": {},
   "outputs": [],
   "source": [
    "# selberg\n",
    "\n",
    "def selberg_kloosterman(m,n,c,p=1):\n",
    "    gcd = np.gcd.reduce([m,n,c])\n",
    "    return sum(s* kloosterman(m*n//s**2,p,c//s) for s in divisors(gcd))"
   ]
  },
  {
   "cell_type": "code",
   "execution_count": 15,
   "metadata": {},
   "outputs": [],
   "source": [
    "k1 = selberg_kloosterman(m,n,c)"
   ]
  },
  {
   "cell_type": "code",
   "execution_count": 16,
   "metadata": {},
   "outputs": [
    {
     "data": {
      "text/plain": [
       "3.760908043175186e-09"
      ]
     },
     "execution_count": 16,
     "metadata": {},
     "output_type": "execute_result"
    }
   ],
   "source": [
    "abs_norm(k1-k0)"
   ]
  },
  {
   "cell_type": "markdown",
   "metadata": {},
   "source": [
    "# 2nd selberg Identity (Gomes 2017)\n",
    "\n",
    "$$\\sum_{d|(m,p,c)} K(n,mp/d^2,c/d) = \\sum_{s|(m,n,c)} K(nm/s^2,p,c/s)$$"
   ]
  },
  {
   "cell_type": "code",
   "execution_count": 17,
   "metadata": {},
   "outputs": [],
   "source": [
    "def selberg_kloost_2(m,n,c,p=1):\n",
    "    gcd = np.gcd.reduce([m,p,c])\n",
    "    Ks = 0\n",
    "    for s in divisors(gcd):\n",
    "            Ks += s* kloosterman(n,m*p//s**2,c//s)\n",
    "    return sum(s* kloosterman(n,m*p//s**2,c//s) for s in divisors(gcd))\n"
   ]
  },
  {
   "cell_type": "code",
   "execution_count": 18,
   "metadata": {},
   "outputs": [
    {
     "data": {
      "text/plain": [
       "(88.78924333197843-8.264446904604483e-10j)"
      ]
     },
     "execution_count": 18,
     "metadata": {},
     "output_type": "execute_result"
    }
   ],
   "source": [
    "selberg_kloosterman(m,n,c,25)"
   ]
  },
  {
   "cell_type": "code",
   "execution_count": 19,
   "metadata": {},
   "outputs": [
    {
     "data": {
      "text/plain": [
       "(88.78924333087976-4.0431435976984176e-10j)"
      ]
     },
     "execution_count": 19,
     "metadata": {},
     "output_type": "execute_result"
    }
   ],
   "source": [
    "selberg_kloost_2(m,n,c,p=25)"
   ]
  },
  {
   "cell_type": "markdown",
   "metadata": {},
   "source": [
    "# generalized Kloosterman Sums"
   ]
  },
  {
   "cell_type": "markdown",
   "metadata": {},
   "source": [
    "## multiplier matrix"
   ]
  },
  {
   "cell_type": "code",
   "execution_count": 45,
   "metadata": {},
   "outputs": [],
   "source": [
    "def multiplier_matrix(i,j,k,a,d,c):\n",
    "    I = 1j\n",
    "    M = 0\n",
    "    Pi = np.pi\n",
    "    m = np.arange(c)\n",
    "    exponent = (Pi*I*a)/(2*k*c)*(j+2*k*m)**2 - (Pi*I)/(k*c)*(j+2*k*m)*i + (Pi*I*d)/(2*k*c)*i**2\n",
    "    M =  np.exp(exponent).sum()\n",
    "    return M/np.sqrt(2*I*k*c)"
   ]
  },
  {
   "cell_type": "code",
   "execution_count": 48,
   "metadata": {},
   "outputs": [],
   "source": [
    "def gamma_matrix(a,d,c, b=None):\n",
    "    if c!=0:\n",
    "        assert a*d%c == 1\n",
    "        b = (a*d-1)//c\n",
    "    else:\n",
    "        assert d*a==1\n",
    "        assert b is not None\n",
    "    return np.array([[a,b],[c,d]], dtype=int)\n",
    "\n",
    "\n",
    "\n",
    "def spectral_matrix(level,gamma):\n",
    "    c = gamma[1,0]\n",
    "    a = gamma[0,0]%c\n",
    "    d = gamma[1,1]%c\n",
    "    vals = np.array([multiplier_matrix(i,j,level,a,d,c) \\\n",
    "                    for i,j in product(range(1,2*level+1), range(1,2*level+1))])\n",
    "    return vals.reshape(2*level, 2*level).T"
   ]
  },
  {
   "cell_type": "code",
   "execution_count": 56,
   "metadata": {},
   "outputs": [],
   "source": [
    "gamma_0 = gamma_matrix(2,3,5)\n",
    "gamma_1 = gamma_matrix(1,1,5)\n",
    "gamma_01 = np.matmul(gamma_0,gamma_1)"
   ]
  },
  {
   "cell_type": "code",
   "execution_count": 62,
   "metadata": {},
   "outputs": [
    {
     "data": {
      "text/plain": [
       "array([[2, 1],\n",
       "       [5, 3]])"
      ]
     },
     "execution_count": 62,
     "metadata": {},
     "output_type": "execute_result"
    }
   ],
   "source": [
    "gamma_0"
   ]
  },
  {
   "cell_type": "code",
   "execution_count": 61,
   "metadata": {},
   "outputs": [
    {
     "data": {
      "text/plain": [
       "array([[ 7,  1],\n",
       "       [20,  3]])"
      ]
     },
     "execution_count": 61,
     "metadata": {},
     "output_type": "execute_result"
    }
   ],
   "source": [
    "gamma_01"
   ]
  },
  {
   "cell_type": "code",
   "execution_count": 63,
   "metadata": {},
   "outputs": [],
   "source": [
    "M0 = spectral_matrix(5,gamma_0)\n",
    "M1 = spectral_matrix(5,gamma_1)\n",
    "M01 = spectral_matrix(5,gamma_01)"
   ]
  },
  {
   "cell_type": "code",
   "execution_count": 66,
   "metadata": {},
   "outputs": [
    {
     "data": {
      "text/plain": [
       "(0.8090169943749971+0.5877852522924583j)"
      ]
     },
     "execution_count": 66,
     "metadata": {},
     "output_type": "execute_result"
    }
   ],
   "source": [
    "M01.max()"
   ]
  },
  {
   "cell_type": "code",
   "execution_count": 69,
   "metadata": {},
   "outputs": [],
   "source": [
    "M01_ = np.matmul(M0,M1)"
   ]
  },
  {
   "cell_type": "code",
   "execution_count": 71,
   "metadata": {},
   "outputs": [
    {
     "data": {
      "text/plain": [
       "(1.0438090993682666e-13+0j)"
      ]
     },
     "execution_count": 71,
     "metadata": {},
     "output_type": "execute_result"
    }
   ],
   "source": [
    "diff = (M01 - M01_)\n",
    "np.sqrt((diff*np.conjugate(diff))).max()"
   ]
  },
  {
   "cell_type": "markdown",
   "metadata": {},
   "source": [
    "## generalized sums"
   ]
  },
  {
   "cell_type": "code",
   "execution_count": 312,
   "metadata": {},
   "outputs": [],
   "source": [
    "def modified_kloosterman(n,i,p,j,k,c,r):\n",
    "    I = 1j\n",
    "    Pi = np.pi\n",
    "    sols = np.array(solutions_ad_mod_c(c,r))\n",
    "    m_ij = np.array([multiplier_matrix(i,j,k,a,d,c) for a,d in sols])\n",
    "    exponent = 2*Pi*I*(sols[:,1]/c)*(n - i**2/(4*k)) + 2*Pi*I*(sols[:,0]/c)*(p - j**2/(4*k)) \n",
    "    return (np.exp(exponent)*m_ij).sum()\n",
    "\n",
    "def selberg_gen_kloosterman(n,i,p,j,k,c,r):\n",
    "    gcd = np.gcd.reduce([c,r,n,i])\n",
    "    k_ = [s**(3/2) * modified_kloosterman(n*r//s**2,i//s,p,j,k,c//s,1) for s in divisors(gcd)]\n",
    "    print(k_)\n",
    "    K = [ kl for kl in k_]\n",
    "    return np.array(K).sum()\n",
    "\n",
    "def selberg_gen_kloosterman_2(n,i,p,j,k,c,r):\n",
    "    gcd = np.gcd.reduce([c,r])\n",
    "    K = 0\n",
    "    for s in divisors(gcd):\n",
    "        orbits = [(p+j*m+k*m**2,j+2*k*m) for m in range(s) if (p+j*m+k*m**2)%s == 0]\n",
    "        print(len(orbits))\n",
    "        K += sum( [(r*s)**(1/2)*modified_kloosterman(n,i,np*r//s**2,lp*r//s,k*r,c//s,1) for np,lp in orbits ])\n",
    "    return K"
   ]
  },
  {
   "cell_type": "code",
   "execution_count": 322,
   "metadata": {},
   "outputs": [
    {
     "data": {
      "text/plain": [
       "{'n': 4, 'k': 3, 'p': 3, 'i': 2, 'j': 0, 'c': 4, 'r': 2}"
      ]
     },
     "execution_count": 322,
     "metadata": {},
     "output_type": "execute_result"
    }
   ],
   "source": [
    "data = {'n' : 4,\n",
    "        'k' : 3,\n",
    "        'p' : 3,\n",
    "        'i' : 2,\n",
    "        'j' : 0,\n",
    "        'c' : 4,\n",
    "        'r' : 2\n",
    "}\n",
    "data"
   ]
  },
  {
   "cell_type": "code",
   "execution_count": 323,
   "metadata": {},
   "outputs": [
    {
     "data": {
      "text/plain": [
       "(-0.5773502691896231+0.5773502691896274j)"
      ]
     },
     "execution_count": 323,
     "metadata": {},
     "output_type": "execute_result"
    }
   ],
   "source": [
    "modified_kloosterman(**data)"
   ]
  },
  {
   "cell_type": "code",
   "execution_count": 324,
   "metadata": {},
   "outputs": [
    {
     "name": "stdout",
     "output_type": "stream",
     "text": [
      "[(0.5773502691896253-0.5773502691896281j), (-1.154700538379251+1.1547005383792526j)]\n"
     ]
    },
    {
     "data": {
      "text/plain": [
       "(-0.5773502691896257+0.5773502691896245j)"
      ]
     },
     "execution_count": 324,
     "metadata": {},
     "output_type": "execute_result"
    }
   ],
   "source": [
    "selberg_gen_kloosterman(**data)"
   ]
  },
  {
   "cell_type": "code",
   "execution_count": 325,
   "metadata": {},
   "outputs": [
    {
     "name": "stdout",
     "output_type": "stream",
     "text": [
      "1\n",
      "1\n"
     ]
    },
    {
     "data": {
      "text/plain": [
       "(-0.577350269189618+0.5773502691896337j)"
      ]
     },
     "execution_count": 325,
     "metadata": {},
     "output_type": "execute_result"
    }
   ],
   "source": [
    "selberg_gen_kloosterman_2(**data)"
   ]
  }
 ],
 "metadata": {
  "kernelspec": {
   "display_name": "base",
   "language": "python",
   "name": "python3"
  },
  "language_info": {
   "codemirror_mode": {
    "name": "ipython",
    "version": 3
   },
   "file_extension": ".py",
   "mimetype": "text/x-python",
   "name": "python",
   "nbconvert_exporter": "python",
   "pygments_lexer": "ipython3",
   "version": "3.10.9"
  }
 },
 "nbformat": 4,
 "nbformat_minor": 2
}
