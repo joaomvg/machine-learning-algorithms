{
 "cells": [
  {
   "cell_type": "code",
   "execution_count": 56,
   "metadata": {},
   "outputs": [],
   "source": [
    "import pandas as pd\n",
    "import numpy as np\n",
    "from sklearn.datasets import load_iris\n",
    "from sklearn.naive_bayes import GaussianNB\n",
    "from sklearn.model_selection import train_test_split"
   ]
  },
  {
   "cell_type": "code",
   "execution_count": 2,
   "metadata": {},
   "outputs": [],
   "source": [
    "data=load_iris()"
   ]
  },
  {
   "cell_type": "code",
   "execution_count": 7,
   "metadata": {},
   "outputs": [],
   "source": [
    "df=pd.DataFrame(data['data'])\n",
    "df['y']=data['target']"
   ]
  },
  {
   "cell_type": "code",
   "execution_count": 51,
   "metadata": {},
   "outputs": [],
   "source": [
    "class GaussianNaive:\n",
    "    def __init__(self,):\n",
    "        pass\n",
    "    def fit(self,x,y):\n",
    "        self.p={}\n",
    "        self.p_y={}\n",
    "        self.classes=y.unique()\n",
    "        for c in y.unique():\n",
    "            x_c=x[y==c]\n",
    "            m=x_c.agg(['mean','std'])\n",
    "            self.p[c]=m\n",
    "            self.p_y[c]= (y==c).mean()\n",
    "        \n",
    "    def predict(self,x):\n",
    "        preds=[]\n",
    "        for c in self.classes:\n",
    "            m=self.p[c]\n",
    "            mean=m.loc['mean'].values\n",
    "            std=m.loc['std'].values\n",
    "            p_x=self._gaussian(x,mean,std).prod(axis=1)*self.p_y[c]\n",
    "            preds.append(p_x.values.reshape(-1,1))\n",
    "        preds=np.concatenate(preds,axis=1)\n",
    "\n",
    "        return preds.argmax(axis=1)\n",
    "\n",
    "    def _gaussian(self,x,m,s):\n",
    "        return np.exp(-0.5*(x-m)**2/s**2)/np.sqrt(2*np.pi*s**2)"
   ]
  },
  {
   "cell_type": "code",
   "execution_count": 65,
   "metadata": {},
   "outputs": [],
   "source": [
    "X=df.iloc[:,:-1]\n",
    "Y=df['y']\n",
    "\n",
    "x_train,x_test,y_train,y_test=train_test_split(X,Y,test_size=0.2)"
   ]
  },
  {
   "cell_type": "code",
   "execution_count": 66,
   "metadata": {},
   "outputs": [],
   "source": [
    "gnb=GaussianNaive()"
   ]
  },
  {
   "cell_type": "code",
   "execution_count": 67,
   "metadata": {},
   "outputs": [],
   "source": [
    "gnb.fit(x_train,y_train)"
   ]
  },
  {
   "cell_type": "code",
   "execution_count": 68,
   "metadata": {},
   "outputs": [
    {
     "data": {
      "text/plain": [
       "{0:              0         1         2         3\n",
       " mean  5.013636  3.436364  1.452273  0.247727\n",
       " std   0.357375  0.388252  0.169113  0.108881,\n",
       " 1:              0         1         2         3\n",
       " mean  5.868421  2.765789  4.197368  1.315789\n",
       " std   0.504094  0.304273  0.491818  0.209924,\n",
       " 2:              0         1         2         3\n",
       " mean  6.621053  3.007895  5.584211  2.050000\n",
       " std   0.661758  0.329111  0.579154  0.278752}"
      ]
     },
     "execution_count": 68,
     "metadata": {},
     "output_type": "execute_result"
    }
   ],
   "source": [
    "gnb.p"
   ]
  },
  {
   "cell_type": "code",
   "execution_count": 69,
   "metadata": {},
   "outputs": [
    {
     "data": {
      "text/plain": [
       "0.05"
      ]
     },
     "execution_count": 69,
     "metadata": {},
     "output_type": "execute_result"
    }
   ],
   "source": [
    "y_pred=gnb.predict(x_train)\n",
    "(y_train!=y_pred).mean()"
   ]
  },
  {
   "cell_type": "code",
   "execution_count": 70,
   "metadata": {},
   "outputs": [
    {
     "data": {
      "text/plain": [
       "0.03333333333333333"
      ]
     },
     "execution_count": 70,
     "metadata": {},
     "output_type": "execute_result"
    }
   ],
   "source": [
    "y_pred=gnb.predict(x_test)\n",
    "(y_test!=y_pred).mean()"
   ]
  }
 ],
 "metadata": {
  "interpreter": {
   "hash": "f867c1da995947098dea1a39f903899f4ebf9970b3ec23fc161ccb1d8cbf1c2e"
  },
  "kernelspec": {
   "display_name": "Python 3.9.5 ('base')",
   "language": "python",
   "name": "python3"
  },
  "language_info": {
   "codemirror_mode": {
    "name": "ipython",
    "version": 3
   },
   "file_extension": ".py",
   "mimetype": "text/x-python",
   "name": "python",
   "nbconvert_exporter": "python",
   "pygments_lexer": "ipython3",
   "version": "3.9.5"
  },
  "orig_nbformat": 4
 },
 "nbformat": 4,
 "nbformat_minor": 2
}
