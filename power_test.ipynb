{
 "cells": [
  {
   "cell_type": "code",
   "execution_count": 5,
   "source": [
    "import pandas as pd \n",
    "import numpy as np\n",
    "from scipy.stats import t\n",
    "\n",
    "import matplotlib.pyplot as plt"
   ],
   "outputs": [],
   "metadata": {}
  },
  {
   "cell_type": "code",
   "execution_count": 27,
   "source": [
    "x=np.arange(-5,10,0.1)"
   ],
   "outputs": [],
   "metadata": {}
  },
  {
   "cell_type": "code",
   "execution_count": 138,
   "source": [
    "y2=t.pdf(x-4,df=10)\n",
    "y1=t.pdf(x,df=10)"
   ],
   "outputs": [],
   "metadata": {}
  },
  {
   "cell_type": "code",
   "execution_count": 141,
   "source": [
    "t1=t.ppf(0.975,10)\n",
    "t1\n",
    "xt=np.arange(t1,10,0.1)\n",
    "yt=t.pdf(xt,10)\n",
    "yt2=t.pdf(xt-4,10)"
   ],
   "outputs": [],
   "metadata": {}
  },
  {
   "cell_type": "code",
   "execution_count": 146,
   "source": [
    "plt.figure(figsize=(10,6))\n",
    "plt.plot(x,y2)\n",
    "plt.plot(x,y1)\n",
    "plt.fill_between(xt,yt,yt2)\n",
    "plt.fill_between(xt,yt,color='red')"
   ],
   "outputs": [
    {
     "output_type": "execute_result",
     "data": {
      "text/plain": [
       "<matplotlib.collections.PolyCollection at 0x7f81737ebb38>"
      ]
     },
     "metadata": {},
     "execution_count": 146
    },
    {
     "output_type": "display_data",
     "data": {
      "text/plain": [
       "<Figure size 720x432 with 1 Axes>"
      ],
      "image/png": "[encoded data removed]"
     },
     "metadata": {
      "needs_background": "light"
     }
    }
   ],
   "metadata": {}
  },
  {
   "cell_type": "markdown",
   "source": [
    "two sample T-test, $n=n_1=n_2$ and equal variances $\\sigma=\\sigma_1=\\sigma_2$:\n",
    "\n",
    "$$T=\\frac{\\bar{X}_1-\\bar{X}_2}{\\sigma_p\\sqrt{\\frac{2}{n}}}$$\n",
    "\n",
    "and $$\\sigma_p=\\sigma/\\sqrt{2}$$\n",
    "\n",
    "Effect size:\n",
    "\n",
    "$$d=\\frac{\\bar{X}_1-\\bar{X}_2}{\\sigma_p}$$"
   ],
   "metadata": {}
  },
  {
   "cell_type": "code",
   "execution_count": 35,
   "source": [
    "from statsmodels.stats.power import TTestIndPower\n"
   ],
   "outputs": [],
   "metadata": {}
  },
  {
   "cell_type": "code",
   "execution_count": 110,
   "source": [
    "d=3\n",
    "s_p=10\n",
    "effect=d/s_p"
   ],
   "outputs": [],
   "metadata": {}
  },
  {
   "cell_type": "code",
   "execution_count": 127,
   "source": [
    "power=0.85\n",
    "alpha=0.05\n",
    "analysis = TTestIndPower()\n",
    "ds=[]\n",
    "effects=np.random.random(10)\n",
    "for d in effects:\n",
    "    result = analysis.solve_power(d, power=power, nobs1=None, ratio=1.0, alpha=alpha)\n",
    "    D=int(result)\n",
    "    ds.append(D)"
   ],
   "outputs": [],
   "metadata": {}
  },
  {
   "cell_type": "code",
   "execution_count": 128,
   "source": [
    "for n,ef in zip(ds,effects):\n",
    "    t1=t.ppf(0.975,2*n)\n",
    "    N=1-t.cdf(t1-ef*np.sqrt(n/2),2*n)\n",
    "    print(N)"
   ],
   "outputs": [
    {
     "output_type": "stream",
     "name": "stdout",
     "text": [
      "0.8499803007307295\n",
      "0.8499970168730993\n",
      "0.8462001131580055\n",
      "0.8488191972665872\n",
      "0.8482052801083888\n",
      "0.8498052280205094\n",
      "0.8497681357265696\n",
      "0.849374235338233\n",
      "0.8467361622253718\n",
      "0.8473451209935401\n"
     ]
    }
   ],
   "metadata": {}
  },
  {
   "cell_type": "code",
   "execution_count": 161,
   "source": [
    "analysis.solve_power(0.03, power=0.8, nobs1=None, ratio=1.0, alpha=0.05)"
   ],
   "outputs": [
    {
     "output_type": "execute_result",
     "data": {
      "text/plain": [
       "17442.872915839584"
      ]
     },
     "metadata": {},
     "execution_count": 161
    }
   ],
   "metadata": {}
  },
  {
   "cell_type": "code",
   "execution_count": 162,
   "source": [
    "2*(1.96+0.842)**2/0.03**2"
   ],
   "outputs": [
    {
     "output_type": "execute_result",
     "data": {
      "text/plain": [
       "17447.12"
      ]
     },
     "metadata": {},
     "execution_count": 162
    }
   ],
   "metadata": {}
  }
 ],
 "metadata": {
  "orig_nbformat": 4,
  "language_info": {
   "name": "python",
   "version": "3.6.8",
   "mimetype": "text/x-python",
   "codemirror_mode": {
    "name": "ipython",
    "version": 3
   },
   "pygments_lexer": "ipython3",
   "nbconvert_exporter": "python",
   "file_extension": ".py"
  },
  "kernelspec": {
   "name": "python3",
   "display_name": "Python 3.6.8 64-bit ('base': conda)"
  },
  "interpreter": {
   "hash": "e14f6ffb5e09428eba4e96acce8411c2927e2428ff3fa0c4b16df4954685b5a4"
  }
 },
 "nbformat": 4,
 "nbformat_minor": 2
}