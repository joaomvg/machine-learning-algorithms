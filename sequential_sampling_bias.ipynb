{
 "cells": [
  {
   "cell_type": "code",
   "execution_count": 1,
   "metadata": {},
   "outputs": [],
   "source": [
    "import pandas as pd\n",
    "import numpy as np\n",
    "from tqdm import tqdm\n",
    "\n",
    "from itertools import combinations\n",
    "import matplotlib.pyplot as plt\n",
    "import joblib\n",
    "\n",
    "from sklearn.linear_model import LogisticRegression, LinearRegression\n",
    "from sklearn.datasets import make_classification\n",
    "import seaborn as sns"
   ]
  },
  {
   "cell_type": "code",
   "execution_count": 2,
   "metadata": {},
   "outputs": [],
   "source": [
    "def sigmoid(w,b,x):\n",
    "    wx = (x*w).sum(1) +b\n",
    "    return 1/(1+np.exp(-wx))\n",
    "\n",
    "def sample(p):\n",
    "    return (np.random.random(len(p))<=p).astype(int)"
   ]
  },
  {
   "cell_type": "code",
   "execution_count": 3,
   "metadata": {},
   "outputs": [],
   "source": [
    "class ModelData:\n",
    "    def __init__(self, N,d,T, noise_scale = 0.1):\n",
    "        self.N = N\n",
    "        self.d = d\n",
    "        self.T = T\n",
    "        self.noise_scale = noise_scale\n",
    "        self.rand_gen = np.random.default_rng(seed=2024)\n",
    "        # self.w, self.b = self.init_params()\n",
    "        self.x0 = self.init_x()\n",
    "\n",
    "    def init_params(self, scale_w = 1., scale_b = 20.0):\n",
    "        ws = [scale_w*(2*self.rand_gen.random(self.d+i) -1) for i in range(self.T)]\n",
    "        bs = [scale_b*(2*self.rand_gen.random(1) -1) for i in range(self.T)]\n",
    "        return ws,bs\n",
    "\n",
    "    def init_x(self,):\n",
    "        X,_ = make_classification(n_samples=self.N, n_features=self.d,n_informative=int(0.2*self.d))\n",
    "        return X\n",
    "\n",
    "    def sample(self,p):\n",
    "        return (self.rand_gen.random(len(p))<=p).astype(int)\n",
    "\n",
    "    def sample_from_model(self,):\n",
    "        probs = []\n",
    "        x_ = self.x0\n",
    "        for i in tqdm(range(self.T)):\n",
    "            noise = self.rand_gen.normal(0,self.noise_scale,size=x_.shape)\n",
    "            p = self.mlp(x_ + noise)\n",
    "            probs.append(p)\n",
    "            samples = self.sample(p)\n",
    "            x_ = np.concatenate([x_, samples.reshape(-1,1)], axis=1)\n",
    "        probs = np.column_stack(probs)\n",
    "        return x_, probs\n",
    "\n",
    "    def mlp(self,x):\n",
    "        d= x.shape[1]\n",
    "        ws = 3*self.rand_gen.random((2,d))-1\n",
    "        w3 = 3*(2*self.rand_gen.random(2)-1)\n",
    "        bs =  -5*self.rand_gen.random(3)\n",
    "\n",
    "        p0 = sigmoid(ws[0],bs[0],x)\n",
    "        p1 = sigmoid(ws[1], bs[1],x)\n",
    "        p_ = np.column_stack([p0,p1])\n",
    "        return sigmoid(w3,bs[2],p_)"
   ]
  },
  {
   "cell_type": "markdown",
   "metadata": {},
   "source": [
    "# generate data"
   ]
  },
  {
   "cell_type": "code",
   "execution_count": 4,
   "metadata": {},
   "outputs": [],
   "source": [
    "T = 64 # sequence length\n",
    "N = 2**20 # sample size\n",
    "d= 40 # number of features"
   ]
  },
  {
   "cell_type": "code",
   "execution_count": 5,
   "metadata": {},
   "outputs": [],
   "source": [
    "model_data = ModelData(N,d,T, noise_scale=1.0)"
   ]
  },
  {
   "cell_type": "code",
   "execution_count": 6,
   "metadata": {},
   "outputs": [
    {
     "name": "stderr",
     "output_type": "stream",
     "text": [
      "100%|██████████| 64/64 [01:02<00:00,  1.02it/s]\n"
     ]
    }
   ],
   "source": [
    "x, probs = model_data.sample_from_model()"
   ]
  },
  {
   "cell_type": "code",
   "execution_count": 7,
   "metadata": {},
   "outputs": [],
   "source": [
    "samples = x[:,d:]"
   ]
  },
  {
   "cell_type": "code",
   "execution_count": 8,
   "metadata": {},
   "outputs": [
    {
     "data": {
      "text/plain": [
       "array([0.03992081, 0.07963371, 0.08714771, 0.03296947, 0.29628754,\n",
       "       0.19356823, 0.06158638, 0.01405239, 0.00772858, 0.09715176,\n",
       "       0.01484203, 0.27708912, 0.01877403, 0.12380123, 0.28381729,\n",
       "       0.26869583, 0.06130409, 0.17258644, 0.10743618, 0.1128521 ,\n",
       "       0.06325626, 0.12600517, 0.24267387, 0.07252789, 0.12041664,\n",
       "       0.03594971, 0.25557232, 0.15490055, 0.01357079, 0.52185822,\n",
       "       0.29119873, 0.01789951, 0.00985622, 0.19151497, 0.166255  ,\n",
       "       0.1741724 , 0.02285576, 0.10115147, 0.00351238, 0.16444874,\n",
       "       0.24844742, 0.01139355, 0.002635  , 0.05079651, 0.07656384,\n",
       "       0.13143349, 0.12131691, 0.1043396 , 0.7011795 , 0.05701828,\n",
       "       0.13086224, 0.06912136, 0.68032074, 0.01670837, 0.56233692,\n",
       "       0.13884163, 0.61524677, 0.06272793, 0.00396061, 0.74007702,\n",
       "       0.09319878, 0.04516697, 0.41910362, 0.0192976 ])"
      ]
     },
     "execution_count": 8,
     "metadata": {},
     "output_type": "execute_result"
    }
   ],
   "source": [
    "samples.mean(0)"
   ]
  },
  {
   "cell_type": "markdown",
   "metadata": {},
   "source": [
    "# fit logistic"
   ]
  },
  {
   "cell_type": "code",
   "execution_count": 14,
   "metadata": {},
   "outputs": [
    {
     "data": {
      "text/plain": [
       "(1048576, 168)"
      ]
     },
     "execution_count": 14,
     "metadata": {},
     "output_type": "execute_result"
    }
   ],
   "source": [
    "x.shape"
   ]
  },
  {
   "cell_type": "code",
   "execution_count": 9,
   "metadata": {},
   "outputs": [],
   "source": [
    "def fit_logistic(x,y):\n",
    "    lgr = LogisticRegression(max_iter=500)\n",
    "    return lgr.fit(x,y)\n",
    "\n",
    "def predict_proba(model: LogisticRegression,x):\n",
    "    return model.predict_proba(x)[:,1]"
   ]
  },
  {
   "cell_type": "code",
   "execution_count": 10,
   "metadata": {},
   "outputs": [
    {
     "name": "stderr",
     "output_type": "stream",
     "text": [
      "100%|██████████| 64/64 [02:31<00:00,  2.36s/it]\n"
     ]
    }
   ],
   "source": [
    "models = joblib.Parallel(n_jobs=-1)(\n",
    "    joblib.delayed(fit_logistic)(x[:,:d+i],x[:,d+i]) for i in tqdm(range(T))\n",
    "                                    )"
   ]
  },
  {
   "cell_type": "code",
   "execution_count": 11,
   "metadata": {},
   "outputs": [
    {
     "name": "stderr",
     "output_type": "stream",
     "text": [
      "64it [01:39,  1.55s/it]\n"
     ]
    }
   ],
   "source": [
    "probs_model = joblib.Parallel(n_jobs=-2)(\n",
    "    joblib.delayed(predict_proba)(model, x[:,:d+i]) for i, model in tqdm(enumerate(models))\n",
    "                                    )"
   ]
  },
  {
   "cell_type": "code",
   "execution_count": 12,
   "metadata": {},
   "outputs": [],
   "source": [
    "probs_model = np.column_stack(probs_model)"
   ]
  },
  {
   "cell_type": "code",
   "execution_count": 13,
   "metadata": {},
   "outputs": [
    {
     "data": {
      "text/plain": [
       "0.06027292323007341"
      ]
     },
     "execution_count": 13,
     "metadata": {},
     "output_type": "execute_result"
    }
   ],
   "source": [
    "np.abs(probs_model - probs).mean()"
   ]
  },
  {
   "cell_type": "markdown",
   "metadata": {},
   "source": [
    "# Monte-Carlo approach\n",
    "\n",
    "1. $$V(i,j,k,\\ldots) = \\sum_{g_i,g_j}P(g_|\\ldots)$$"
   ]
  },
  {
   "cell_type": "code",
   "execution_count": 14,
   "metadata": {},
   "outputs": [],
   "source": [
    "from itertools import product"
   ]
  },
  {
   "cell_type": "code",
   "execution_count": 15,
   "metadata": {},
   "outputs": [],
   "source": [
    "def sample_binary(p):\n",
    "    n,f= p.shape\n",
    "    bins = np.array([t for t in product(*([[0,1]]*2))])\n",
    "    rand = np.random.random((n,1))\n",
    "    args = (rand<= p.cumsum(1)).argmax(1)\n",
    "    return np.concatenate([bins[i].reshape(1,-1) for i in args])"
   ]
  },
  {
   "cell_type": "code",
   "execution_count": 16,
   "metadata": {},
   "outputs": [],
   "source": [
    "def sample_from_models():\n",
    "    x0 = x[:, :d]\n",
    "    samples = []\n",
    "    for i, model in tqdm(enumerate(models)):\n",
    "        p = model.predict_proba(x0)[:, 1]\n",
    "        s = sample(p)\n",
    "        samples.append(s)\n",
    "        x0 = np.concatenate([x0, s.reshape(-1, 1)], axis=1)\n",
    "    return np.column_stack(samples)\n",
    "\n",
    "\n",
    "def block_sample_from_models():\n",
    "    x0 = x[:, :d]\n",
    "    samples = []\n",
    "    l = len(models)\n",
    "    for i in tqdm(range(0, l, 2)):\n",
    "        p0 = models[i].predict_proba(x0)\n",
    "        z0 = np.concatenate([x0, np.zeros((len(x0), 1))], axis=1)\n",
    "        z1 = np.concatenate([x0, np.ones((len(x0), 1))], axis=1)\n",
    "        p1_0 = models[i+1].predict_proba(z0)\n",
    "        p1_1 = models[i+1].predict_proba(z1)\n",
    "        p1_0 = np.expand_dims(p1_0,1)\n",
    "        p1_1 = np.expand_dims(p1_1,1)\n",
    "        p_1 = np.concatenate([p1_0,p1_1], axis=1)\n",
    "\n",
    "        p0 = np.expand_dims(p0, 2)\n",
    "        p = (p0*p_1).reshape(-1, 4)\n",
    "        s = sample_binary(p)\n",
    "        samples.append(s)\n",
    "        x0 = np.concatenate([x0, s], axis=1)\n",
    "    return np.column_stack(samples)"
   ]
  },
  {
   "cell_type": "code",
   "execution_count": 17,
   "metadata": {},
   "outputs": [],
   "source": [
    "def venn_size_sample(*args):\n",
    "    return x[:,d:][:,args].prod(1).mean()\n",
    "\n",
    "def venn_size_mc_sample(*args, samples_mc):\n",
    "    return samples_mc[:,args].prod(1).mean()"
   ]
  },
  {
   "cell_type": "code",
   "execution_count": 18,
   "metadata": {},
   "outputs": [
    {
     "name": "stderr",
     "output_type": "stream",
     "text": [
      "100%|██████████| 32/32 [00:28<00:00,  1.12it/s]\n"
     ]
    }
   ],
   "source": [
    "samples_mc = block_sample_from_models()"
   ]
  },
  {
   "cell_type": "code",
   "execution_count": 31,
   "metadata": {},
   "outputs": [
    {
     "name": "stderr",
     "output_type": "stream",
     "text": [
      "64it [00:09,  6.50it/s]\n"
     ]
    }
   ],
   "source": [
    "samples_mc = sample_from_models()"
   ]
  },
  {
   "cell_type": "code",
   "execution_count": 32,
   "metadata": {},
   "outputs": [],
   "source": [
    "# venn_values_sample = [venn_size_sample(j,i) for i,j in combinations(range(T),2)]\n",
    "venn_values_mc_sample = [venn_size_mc_sample(j,i, samples_mc=samples_mc) for i,j in combinations(range(T),2)]\n",
    "# venn_values_sample = np.array(venn_values_sample)\n",
    "venn_values_mc_sample = np.array(venn_values_mc_sample)"
   ]
  },
  {
   "cell_type": "code",
   "execution_count": 33,
   "metadata": {},
   "outputs": [],
   "source": [
    "no_zero = venn_values_sample != 0\n",
    "rel_error_mc = np.abs(venn_values_mc_sample[no_zero] - venn_values_sample[no_zero]) / venn_values_sample[no_zero]"
   ]
  },
  {
   "cell_type": "code",
   "execution_count": 34,
   "metadata": {},
   "outputs": [],
   "source": [
    "weights = venn_values_sample[no_zero] / venn_values_sample[no_zero].sum()"
   ]
  },
  {
   "cell_type": "code",
   "execution_count": 35,
   "metadata": {},
   "outputs": [
    {
     "data": {
      "text/plain": [
       "0.003823247775854646"
      ]
     },
     "execution_count": 35,
     "metadata": {},
     "output_type": "execute_result"
    }
   ],
   "source": [
    "(rel_error_mc * weights).sum()"
   ]
  },
  {
   "cell_type": "code",
   "execution_count": 23,
   "metadata": {},
   "outputs": [
    {
     "data": {
      "text/plain": [
       "0.003627287253988935"
      ]
     },
     "execution_count": 23,
     "metadata": {},
     "output_type": "execute_result"
    }
   ],
   "source": [
    "(rel_error_mc * weights).sum()"
   ]
  },
  {
   "cell_type": "code",
   "execution_count": 30,
   "metadata": {},
   "outputs": [
    {
     "data": {
      "text/plain": [
       "0.016092079360450876"
      ]
     },
     "execution_count": 30,
     "metadata": {},
     "output_type": "execute_result"
    }
   ],
   "source": [
    "rel_error_mc.mean()\n"
   ]
  },
  {
   "cell_type": "code",
   "execution_count": 36,
   "metadata": {},
   "outputs": [
    {
     "data": {
      "text/plain": [
       "0.016575717500619293"
      ]
     },
     "execution_count": 36,
     "metadata": {},
     "output_type": "execute_result"
    }
   ],
   "source": [
    "rel_error_mc.mean()"
   ]
  },
  {
   "cell_type": "code",
   "execution_count": 63,
   "metadata": {},
   "outputs": [
    {
     "data": {
      "text/plain": [
       "[<matplotlib.lines.Line2D at 0x150d37520>]"
      ]
     },
     "execution_count": 63,
     "metadata": {},
     "output_type": "execute_result"
    },
    {
     "data": {
      "image/png": "[encoded data removed]",
      "text/plain": [
       "<Figure size 640x480 with 1 Axes>"
      ]
     },
     "metadata": {},
     "output_type": "display_data"
    }
   ],
   "source": [
    "plt.plot(range(len(rel_error_mc)), rel_error_mc)"
   ]
  },
  {
   "cell_type": "code",
   "execution_count": 64,
   "metadata": {},
   "outputs": [],
   "source": [
    "stat_errors = np.array([np.sqrt((1-p)/p)/np.sqrt(N) for p in venn_values_sample[no_zero]])"
   ]
  },
  {
   "cell_type": "code",
   "execution_count": 65,
   "metadata": {},
   "outputs": [
    {
     "data": {
      "text/plain": [
       "<matplotlib.collections.PathCollection at 0x150e0e980>"
      ]
     },
     "execution_count": 65,
     "metadata": {},
     "output_type": "execute_result"
    },
    {
     "data": {
      "image/png": "[encoded data removed]",
      "text/plain": [
       "<Figure size 640x480 with 1 Axes>"
      ]
     },
     "metadata": {},
     "output_type": "display_data"
    }
   ],
   "source": [
    "plt.scatter( stat_errors, rel_error_mc)"
   ]
  },
  {
   "cell_type": "code",
   "execution_count": 34,
   "metadata": {},
   "outputs": [
    {
     "data": {
      "text/plain": [
       "[<matplotlib.lines.Line2D at 0x150cd10c0>]"
      ]
     },
     "execution_count": 34,
     "metadata": {},
     "output_type": "execute_result"
    },
    {
     "data": {
      "image/png": "[encoded data removed]",
      "text/plain": [
       "<Figure size 640x480 with 1 Axes>"
      ]
     },
     "metadata": {},
     "output_type": "display_data"
    }
   ],
   "source": [
    "plt.plot(range(len(rel_error_mc)), rel_error_mc/stat_errors)"
   ]
  },
  {
   "cell_type": "code",
   "execution_count": 35,
   "metadata": {},
   "outputs": [
    {
     "data": {
      "text/plain": [
       "(0.7737127967837142, 0.6871763001474214)"
      ]
     },
     "execution_count": 35,
     "metadata": {},
     "output_type": "execute_result"
    }
   ],
   "source": [
    "ratio = (rel_error_mc/stat_errors)\n",
    "ratio.mean(), ratio.std()"
   ]
  },
  {
   "cell_type": "code",
   "execution_count": 36,
   "metadata": {},
   "outputs": [
    {
     "data": {
      "text/plain": [
       "array([[1.        , 0.73338743],\n",
       "       [0.73338743, 1.        ]])"
      ]
     },
     "execution_count": 36,
     "metadata": {},
     "output_type": "execute_result"
    }
   ],
   "source": [
    "np.corrcoef(stat_errors, rel_error_mc)"
   ]
  },
  {
   "cell_type": "code",
   "execution_count": 138,
   "metadata": {},
   "outputs": [
    {
     "data": {
      "text/html": [
       "<style>#sk-container-id-2 {color: black;background-color: white;}#sk-container-id-2 pre{padding: 0;}#sk-container-id-2 div.sk-toggleable {background-color: white;}#sk-container-id-2 label.sk-toggleable__label {cursor: pointer;display: block;width: 100%;margin-bottom: 0;padding: 0.3em;box-sizing: border-box;text-align: center;}#sk-container-id-2 label.sk-toggleable__label-arrow:before {content: \"▸\";float: left;margin-right: 0.25em;color: #696969;}#sk-container-id-2 label.sk-toggleable__label-arrow:hover:before {color: black;}#sk-container-id-2 div.sk-estimator:hover label.sk-toggleable__label-arrow:before {color: black;}#sk-container-id-2 div.sk-toggleable__content {max-height: 0;max-width: 0;overflow: hidden;text-align: left;background-color: #f0f8ff;}#sk-container-id-2 div.sk-toggleable__content pre {margin: 0.2em;color: black;border-radius: 0.25em;background-color: #f0f8ff;}#sk-container-id-2 input.sk-toggleable__control:checked~div.sk-toggleable__content {max-height: 200px;max-width: 100%;overflow: auto;}#sk-container-id-2 input.sk-toggleable__control:checked~label.sk-toggleable__label-arrow:before {content: \"▾\";}#sk-container-id-2 div.sk-estimator input.sk-toggleable__control:checked~label.sk-toggleable__label {background-color: #d4ebff;}#sk-container-id-2 div.sk-label input.sk-toggleable__control:checked~label.sk-toggleable__label {background-color: #d4ebff;}#sk-container-id-2 input.sk-hidden--visually {border: 0;clip: rect(1px 1px 1px 1px);clip: rect(1px, 1px, 1px, 1px);height: 1px;margin: -1px;overflow: hidden;padding: 0;position: absolute;width: 1px;}#sk-container-id-2 div.sk-estimator {font-family: monospace;background-color: #f0f8ff;border: 1px dotted black;border-radius: 0.25em;box-sizing: border-box;margin-bottom: 0.5em;}#sk-container-id-2 div.sk-estimator:hover {background-color: #d4ebff;}#sk-container-id-2 div.sk-parallel-item::after {content: \"\";width: 100%;border-bottom: 1px solid gray;flex-grow: 1;}#sk-container-id-2 div.sk-label:hover label.sk-toggleable__label {background-color: #d4ebff;}#sk-container-id-2 div.sk-serial::before {content: \"\";position: absolute;border-left: 1px solid gray;box-sizing: border-box;top: 0;bottom: 0;left: 50%;z-index: 0;}#sk-container-id-2 div.sk-serial {display: flex;flex-direction: column;align-items: center;background-color: white;padding-right: 0.2em;padding-left: 0.2em;position: relative;}#sk-container-id-2 div.sk-item {position: relative;z-index: 1;}#sk-container-id-2 div.sk-parallel {display: flex;align-items: stretch;justify-content: center;background-color: white;position: relative;}#sk-container-id-2 div.sk-item::before, #sk-container-id-2 div.sk-parallel-item::before {content: \"\";position: absolute;border-left: 1px solid gray;box-sizing: border-box;top: 0;bottom: 0;left: 50%;z-index: -1;}#sk-container-id-2 div.sk-parallel-item {display: flex;flex-direction: column;z-index: 1;position: relative;background-color: white;}#sk-container-id-2 div.sk-parallel-item:first-child::after {align-self: flex-end;width: 50%;}#sk-container-id-2 div.sk-parallel-item:last-child::after {align-self: flex-start;width: 50%;}#sk-container-id-2 div.sk-parallel-item:only-child::after {width: 0;}#sk-container-id-2 div.sk-dashed-wrapped {border: 1px dashed gray;margin: 0 0.4em 0.5em 0.4em;box-sizing: border-box;padding-bottom: 0.4em;background-color: white;}#sk-container-id-2 div.sk-label label {font-family: monospace;font-weight: bold;display: inline-block;line-height: 1.2em;}#sk-container-id-2 div.sk-label-container {text-align: center;}#sk-container-id-2 div.sk-container {/* jupyter's `normalize.less` sets `[hidden] { display: none; }` but bootstrap.min.css set `[hidden] { display: none !important; }` so we also need the `!important` here to be able to override the default hidden behavior on the sphinx rendered scikit-learn.org. See: https://github.com/scikit-learn/scikit-learn/issues/21755 */display: inline-block !important;position: relative;}#sk-container-id-2 div.sk-text-repr-fallback {display: none;}</style><div id=\"sk-container-id-2\" class=\"sk-top-container\"><div class=\"sk-text-repr-fallback\"><pre>LinearRegression()</pre><b>In a Jupyter environment, please rerun this cell to show the HTML representation or trust the notebook. <br />On GitHub, the HTML representation is unable to render, please try loading this page with nbviewer.org.</b></div><div class=\"sk-container\" hidden><div class=\"sk-item\"><div class=\"sk-estimator sk-toggleable\"><input class=\"sk-toggleable__control sk-hidden--visually\" id=\"sk-estimator-id-2\" type=\"checkbox\" checked><label for=\"sk-estimator-id-2\" class=\"sk-toggleable__label sk-toggleable__label-arrow\">LinearRegression</label><div class=\"sk-toggleable__content\"><pre>LinearRegression()</pre></div></div></div></div></div>"
      ],
      "text/plain": [
       "LinearRegression()"
      ]
     },
     "execution_count": 138,
     "metadata": {},
     "output_type": "execute_result"
    }
   ],
   "source": [
    "lr = LinearRegression()\n",
    "lr.fit(stat_errors.reshape(-1,1), rel_error_mc)"
   ]
  },
  {
   "cell_type": "code",
   "execution_count": 139,
   "metadata": {},
   "outputs": [
    {
     "data": {
      "text/plain": [
       "array([0.74794121])"
      ]
     },
     "execution_count": 139,
     "metadata": {},
     "output_type": "execute_result"
    }
   ],
   "source": [
    "lr.coef_"
   ]
  },
  {
   "cell_type": "code",
   "execution_count": 114,
   "metadata": {},
   "outputs": [
    {
     "data": {
      "text/plain": [
       "[<matplotlib.lines.Line2D at 0x140109840>]"
      ]
     },
     "execution_count": 114,
     "metadata": {},
     "output_type": "execute_result"
    },
    {
     "data": {
      "image/png": "[encoded data removed]",
      "text/plain": [
       "<Figure size 640x480 with 1 Axes>"
      ]
     },
     "metadata": {},
     "output_type": "display_data"
    }
   ],
   "source": [
    "plt.plot(range(len(rel_error_mc)), rel_error_mc)"
   ]
  }
 ],
 "metadata": {
  "kernelspec": {
   "display_name": "pytorch",
   "language": "python",
   "name": "python3"
  },
  "language_info": {
   "codemirror_mode": {
    "name": "ipython",
    "version": 3
   },
   "file_extension": ".py",
   "mimetype": "text/x-python",
   "name": "python",
   "nbconvert_exporter": "python",
   "pygments_lexer": "ipython3",
   "version": "3.10.10"
  }
 },
 "nbformat": 4,
 "nbformat_minor": 2
}
