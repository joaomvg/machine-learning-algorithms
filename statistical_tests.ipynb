{
 "cells": [
  {
   "cell_type": "code",
<<<<<<< HEAD
   "execution_count": 2,
=======
   "execution_count": 75,
>>>>>>> 5d10a42f0b24f4de3acee89eec439143164c2f48
   "metadata": {},
   "outputs": [],
   "source": [
    "import pandas as pd\n",
    "import numpy as np\n",
<<<<<<< HEAD
    "import statsmodels.api as sm\n",
    "import random"
=======
    "from scipy.special import gamma\n",
    "from scipy.stats import t as tdistrb\n",
    "from scipy.stats import chi2\n",
    "\n",
    "import matplotlib.pyplot as plt\n",
    "import seaborn as sns"
   ]
  },
  {
   "cell_type": "markdown",
   "metadata": {},
   "source": [
    "# Class test-statistic"
   ]
  },
  {
   "cell_type": "code",
   "execution_count": 107,
   "metadata": {},
   "outputs": [],
   "source": [
    "class TStatistic:\n",
    "    def __init__(self,sample=None):\n",
    "        self.sample=sample\n",
    "        self.len=len(sample)\n",
    "        \n",
    "    def ttest(self,popmean):\n",
    "        mean=self.sample.mean()\n",
    "        s=self.sample.std(ddof=1)\n",
    "        t=(mean-popmean)/(s/np.sqrt(self.len))\n",
    "        if t>0:\n",
    "            p_value=(1-tdistrb.cdf(t,self.len-1))*2\n",
    "        else:\n",
    "            p_value=2*tdistrb.cdf(t,self.len-1)\n",
    "        \n",
    "        return t, p_value\n",
    "    \n",
    "    def chi_sq(self,var):\n",
    "        var_test=self.sample.var()\n",
    "        var_test*=self.len\n",
    "        t=var_test/var\n",
    "        p_value=1-chi2.cdf(x=t,df=self.len-1)\n",
    "        \n",
    "        return t,p_value\n",
    "    \n",
    "    def Pearson_chi(self,f_obs,f_exp):\n",
    "        chi=0\n",
    "        for a,b in zip(f_obs,f_exp):\n",
    "            chi+=(a-b)**2/b\n",
    "        df=len(f_obs)-1\n",
    "        pvalue=1-chi2.cdf(x=chi,df=df)\n",
    "        \n",
    "        return chi, pvalue"
   ]
  },
  {
   "cell_type": "markdown",
   "metadata": {},
   "source": [
    "Sample"
   ]
  },
  {
   "cell_type": "code",
   "execution_count": 66,
   "metadata": {},
   "outputs": [],
   "source": [
    "sample=np.random.normal(0,2,100)"
   ]
  },
  {
   "cell_type": "code",
   "execution_count": 108,
   "metadata": {},
   "outputs": [],
   "source": [
    "t=StatTest(sample)"
>>>>>>> 5d10a42f0b24f4de3acee89eec439143164c2f48
   ]
  },
  {
   "cell_type": "markdown",
   "metadata": {},
   "source": [
    "# Permutation Tests"
   ]
  },
  {
   "cell_type": "code",
   "execution_count": 3,
   "metadata": {},
   "outputs": [
    {
     "data": {
      "text/plain": [
       "[0, 1, 2, 3, 4, 5, 6, 7, 8, 9]"
      ]
     },
     "execution_count": 3,
     "metadata": {},
     "output_type": "execute_result"
    }
   ],
   "source": [
    "seq=[i for i in range(10)]\n",
    "seq"
   ]
  },
  {
   "cell_type": "code",
   "execution_count": 11,
   "metadata": {},
   "outputs": [
    {
     "data": {
      "text/plain": [
       "[7, 5, 2, 0, 3]"
      ]
     },
     "execution_count": 11,
     "metadata": {},
     "output_type": "execute_result"
    }
   ],
   "source": [
    "random.sample(seq,5)"
   ]
<<<<<<< HEAD
=======
  },
  {
   "cell_type": "markdown",
   "metadata": {},
   "source": [
    "$$t=\\frac{\\bar{X}_1-\\bar{X}_2-(\\mu_1-\\mu_2)}{s\\sqrt{\\frac{1}{n_1}+\\frac{1}{n_2}}}$$\n",
    "\n",
    "$$s=\\sqrt{\\frac{(n_1-1)s_1^2+(n_2-1)s_2^2}{n_1+n_2-2}}$$"
   ]
  },
  {
   "cell_type": "markdown",
   "metadata": {},
   "source": [
    "# T-test regression coefficient"
   ]
  },
  {
   "cell_type": "markdown",
   "metadata": {},
   "source": [
    "# Chi^2 test"
   ]
  },
  {
   "cell_type": "code",
   "execution_count": 3,
   "metadata": {},
   "outputs": [],
   "source": [
    "from scipy.stats import chisquare"
   ]
  },
  {
   "cell_type": "code",
   "execution_count": 79,
   "metadata": {},
   "outputs": [],
   "source": [
    "f_obs=np.array([16, 18, 16, 14, 12, 12])\n",
    "f_exp=np.array([16, 10, 22, 13, 19, 8])"
   ]
  },
  {
   "cell_type": "code",
   "execution_count": 82,
   "metadata": {},
   "outputs": [
    {
     "data": {
      "text/plain": [
       "array([0.18181818, 0.11363636, 0.25      , 0.14772727, 0.21590909,\n",
       "       0.09090909])"
      ]
     },
     "execution_count": 82,
     "metadata": {},
     "output_type": "execute_result"
    }
   ],
   "source": [
    "p=f_exp/f_exp.sum()\n",
    "p"
   ]
  },
  {
   "cell_type": "code",
   "execution_count": 63,
   "metadata": {},
   "outputs": [],
   "source": [
    "def cat(p_exp,N):\n",
    "    x=np.random.rand(N)\n",
    "    pcum=p_exp.cumsum()\n",
    "    pcum=np.insert(pcum,0,0)\n",
    "    result={}\n",
    "    for k,a,b in zip(range(len(p_exp)),pcum[:-1],pcum[1:]):\n",
    "        idx=(x>=a)&(x<b)\n",
    "        result[k]=idx.sum()\n",
    "    return result"
   ]
  },
  {
   "cell_type": "code",
   "execution_count": 81,
   "metadata": {},
   "outputs": [
    {
     "data": {
      "text/plain": [
       "88"
      ]
     },
     "execution_count": 81,
     "metadata": {},
     "output_type": "execute_result"
    }
   ],
   "source": [
    "N=f_obs.sum()\n",
    "N"
   ]
  },
  {
   "cell_type": "code",
   "execution_count": 83,
   "metadata": {},
   "outputs": [],
   "source": [
    "samples=[]\n",
    "for i in range(1000):\n",
    "    r=cat(p,N)\n",
    "    chi=0\n",
    "    for k,v in r.items():\n",
    "        f=p*N\n",
    "        chi+=(v-f[k])**2/f[k]\n",
    "    samples.append(chi)\n",
    "samples=np.array(samples)"
   ]
  },
  {
   "cell_type": "code",
   "execution_count": 84,
   "metadata": {},
   "outputs": [
    {
     "name": "stderr",
     "output_type": "stream",
     "text": [
      "/Users/JoaoGomes/miniconda3/lib/python3.9/site-packages/seaborn/distributions.py:2619: FutureWarning: `distplot` is a deprecated function and will be removed in a future version. Please adapt your code to use either `displot` (a figure-level function with similar flexibility) or `histplot` (an axes-level function for histograms).\n",
      "  warnings.warn(msg, FutureWarning)\n"
     ]
    },
    {
     "data": {
      "text/plain": [
       "<AxesSubplot:ylabel='Density'>"
      ]
     },
     "execution_count": 84,
     "metadata": {},
     "output_type": "execute_result"
    },
    {
     "data": {
      "image/png": "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",
      "text/plain": [
       "<Figure size 432x288 with 1 Axes>"
      ]
     },
     "metadata": {
      "needs_background": "light"
     },
     "output_type": "display_data"
    }
   ],
   "source": [
    "sns.distplot(samples)"
   ]
  },
  {
   "cell_type": "code",
   "execution_count": 80,
   "metadata": {},
   "outputs": [
    {
     "data": {
      "text/plain": [
       "Power_divergenceResult(statistic=12.692234081707767, pvalue=0.026440057501692763)"
      ]
     },
     "execution_count": 80,
     "metadata": {},
     "output_type": "execute_result"
    }
   ],
   "source": [
    "chisquare(f_obs=f_obs, f_exp=f_exp)"
   ]
  },
  {
   "cell_type": "code",
   "execution_count": 86,
   "metadata": {},
   "outputs": [
    {
     "data": {
      "text/plain": [
       "0.024"
      ]
     },
     "execution_count": 86,
     "metadata": {},
     "output_type": "execute_result"
    }
   ],
   "source": [
    "(samples>=chi).mean()"
   ]
  },
  {
   "cell_type": "code",
   "execution_count": 85,
   "metadata": {},
   "outputs": [
    {
     "data": {
      "text/plain": [
       "12.692234081707767"
      ]
     },
     "execution_count": 85,
     "metadata": {},
     "output_type": "execute_result"
    }
   ],
   "source": [
    "chi=0\n",
    "for a,b in zip(f_obs,f_exp):\n",
    "    chi+=(a-b)**2/b\n",
    "chi"
   ]
  },
  {
   "cell_type": "code",
   "execution_count": 14,
   "metadata": {},
   "outputs": [
    {
     "data": {
      "text/plain": [
       "0.6233876277495822"
      ]
     },
     "execution_count": 14,
     "metadata": {},
     "output_type": "execute_result"
    }
   ],
   "source": [
    "1-chi2.cdf(x=3.5,df=5)"
   ]
  },
  {
   "cell_type": "markdown",
   "metadata": {},
   "source": [
    "# ANOVA"
   ]
  },
  {
   "cell_type": "code",
   "execution_count": 87,
   "metadata": {},
   "outputs": [],
   "source": [
    "from scipy.stats import f_oneway"
   ]
  },
  {
   "cell_type": "code",
   "execution_count": 155,
   "metadata": {},
   "outputs": [],
   "source": [
    "tillamook = [0.0571, 0.0813, 0.0831, 0.0976, 0.0817, 0.0859, 0.0735,\n",
    "             0.0659, 0.0923, 0.0836]\n",
    "newport = [0.0873, 0.0662, 0.0672, 0.0819, 0.0749, 0.0649, 0.0835,\n",
    "           0.0725]\n",
    "petersburg = [0.0974, 0.01352, 0.0817, 0.01016, 0.0968, 0.1064, 0.105]\n",
    "magadan = [0.1033, 0.0915, 0.0781, 0.0685, 0.0677, 0.0697, 0.0764,\n",
    "           0.0689]\n",
    "tvarminne = [0.0703, 0.1026, 0.0956, 0.0973, 0.1039, 0.1045]"
   ]
  },
  {
   "cell_type": "code",
   "execution_count": 156,
   "metadata": {},
   "outputs": [
    {
     "data": {
      "text/plain": [
       "F_onewayResult(statistic=1.1971211031076046, pvalue=0.32989000598672114)"
      ]
     },
     "execution_count": 156,
     "metadata": {},
     "output_type": "execute_result"
    }
   ],
   "source": [
    "f_oneway(tillamook, newport, petersburg, magadan, tvarminne)"
   ]
  },
  {
   "cell_type": "code",
   "execution_count": 157,
   "metadata": {},
   "outputs": [],
   "source": [
    "lst=tillamook+newport+petersburg+magadan+tvarminne\n",
    "lens=[0]*len(tillamook)+[1]*len(newport)+[2]*len(petersburg)+[3]*len(magadan)+[4]*len(tvarminne)\n",
    "df=pd.DataFrame(lst, index=lens)"
   ]
  },
  {
   "cell_type": "code",
   "execution_count": 145,
   "metadata": {},
   "outputs": [],
   "source": [
    "def f_statistic(df):\n",
    "    ssb=0\n",
    "    ssw=0\n",
    "    m=df[0].mean()\n",
    "    for g in df.index.unique():\n",
    "        ssb+=(df.loc[g,0].mean()-m)**2*df.loc[g,0].count()\n",
    "        ssw+=((df.loc[g,0]-df.loc[g,0].mean())**2).sum()\n",
    "\n",
    "    K=len(df.index.unique())\n",
    "    ssb/=K-1\n",
    "    ssw/=(df[0].count()-K)\n",
    "\n",
    "    return ssb/ssw"
   ]
  },
  {
   "cell_type": "code",
   "execution_count": 158,
   "metadata": {},
   "outputs": [],
   "source": [
    "samples=[]\n",
    "for i in range(1000):\n",
    "    s=np.random.choice(df[0],df.shape[0],replace=False)\n",
    "    dg=pd.DataFrame(s,index=df.index)\n",
    "    f=f_statistic(dg)\n",
    "    samples.append(f)\n",
    "samples=np.array(samples)"
   ]
  },
  {
   "cell_type": "code",
   "execution_count": 150,
   "metadata": {},
   "outputs": [
    {
     "data": {
      "text/plain": [
       "array([0.36430732, 0.69407749, 1.75588828, ..., 1.23443608, 0.4163201 ,\n",
       "       1.55815675])"
      ]
     },
     "execution_count": 150,
     "metadata": {},
     "output_type": "execute_result"
    }
   ],
   "source": [
    "samples"
   ]
  },
  {
   "cell_type": "code",
   "execution_count": 159,
   "metadata": {},
   "outputs": [
    {
     "data": {
      "text/plain": [
       "0.335"
      ]
     },
     "execution_count": 159,
     "metadata": {},
     "output_type": "execute_result"
    }
   ],
   "source": [
    "f=f_statistic(df)\n",
    "f\n",
    "(samples>=f).mean()"
   ]
>>>>>>> 5d10a42f0b24f4de3acee89eec439143164c2f48
  }
 ],
 "metadata": {
  "interpreter": {
   "hash": "916dbcbb3f70747c44a77c7bcd40155683ae19c65e1c03b4aa3499c5328201f1"
  },
  "kernelspec": {
   "display_name": "Python 3.8.10 64-bit",
   "language": "python",
   "name": "python3"
  },
  "language_info": {
   "codemirror_mode": {
    "name": "ipython",
    "version": 3
   },
   "file_extension": ".py",
   "mimetype": "text/x-python",
   "name": "python",
   "nbconvert_exporter": "python",
   "pygments_lexer": "ipython3",
<<<<<<< HEAD
   "version": "3.8.5"
  },
  "orig_nbformat": 4
=======
   "version": "3.9.5"
  }
>>>>>>> 5d10a42f0b24f4de3acee89eec439143164c2f48
 },
 "nbformat": 4,
 "nbformat_minor": 2
}
